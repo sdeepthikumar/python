{
 "cells": [
  {
   "cell_type": "markdown",
   "metadata": {},
   "source": [
    "1. Take 10 integers from keyboard using loop and print their average value on the screen"
   ]
  },
  {
   "cell_type": "code",
   "execution_count": 15,
   "metadata": {},
   "outputs": [
    {
     "name": "stdout",
     "output_type": "stream",
     "text": [
      "Enter 10 numbers:1 2 3 4\n",
      "['1', '2', '3', '4']\n",
      "10\n",
      "Average : 2.5\n"
     ]
    }
   ],
   "source": [
    "numbers = input(\"Enter 10 numbers:\")\n",
    "list = numbers.split()\n",
    "sum = 0\n",
    "print(list)\n",
    "for l in list :\n",
    "    sum = sum + int(l)\n",
    "print(sum)\n",
    "n = len(list)\n",
    "avg = sum / n\n",
    "print(\"Average :\", avg) "
   ]
  },
  {
   "cell_type": "markdown",
   "metadata": {},
   "source": [
    "2. Print multiplication table of 24, 50 and 29 using loop."
   ]
  },
  {
   "cell_type": "code",
   "execution_count": 24,
   "metadata": {},
   "outputs": [
    {
     "name": "stdout",
     "output_type": "stream",
     "text": [
      "24 * 1 = 24\t50 * 1 = 50\t29 * 1 = 29\t\n",
      "24 * 2 = 48\t50 * 2 = 100\t29 * 2 = 58\t\n",
      "24 * 3 = 72\t50 * 3 = 150\t29 * 3 = 87\t\n",
      "24 * 4 = 96\t50 * 4 = 200\t29 * 4 = 116\t\n",
      "24 * 5 = 120\t50 * 5 = 250\t29 * 5 = 145\t\n",
      "24 * 6 = 144\t50 * 6 = 300\t29 * 6 = 174\t\n",
      "24 * 7 = 168\t50 * 7 = 350\t29 * 7 = 203\t\n",
      "24 * 8 = 192\t50 * 8 = 400\t29 * 8 = 232\t\n",
      "24 * 9 = 216\t50 * 9 = 450\t29 * 9 = 261\t\n",
      "24 * 10 = 240\t50 * 10 = 500\t29 * 10 = 290\t\n"
     ]
    }
   ],
   "source": [
    "num = [24,50,29]\n",
    "\n",
    "for m in range(1,11):\n",
    "    for n in num:\n",
    "        pdt = n * m\n",
    "        print(n,\"*\",m,\"=\",pdt,end =\"\\t\")\n",
    "    print(end = \"\\n\")"
   ]
  },
  {
   "cell_type": "markdown",
   "metadata": {},
   "source": [
    "3. Take integer inputs from user until user presses q ( Ask to press q to quit after every integer input ). Print average and product of all numbers."
   ]
  },
  {
   "cell_type": "code",
   "execution_count": 3,
   "metadata": {},
   "outputs": [
    {
     "name": "stdout",
     "output_type": "stream",
     "text": [
      "---   \n",
      "Enter the numbers:2\n",
      "---  2\n",
      "Enter the numbers:3\n",
      "---  3\n",
      "Enter the numbers:4\n",
      "---  4\n",
      "Enter the numbers:5\n",
      "---  5\n",
      "Enter the numbers:q\n",
      "14 120\n"
     ]
    }
   ],
   "source": [
    "num = ' '\n",
    "sum = 0\n",
    "count = 0\n",
    "pdt = 1\n",
    "while num != \"q\":\n",
    "    print(\"--- \" , num)\n",
    "    num = input(\"Enter the numbers:\")\n",
    "    if num != \"q\":\n",
    "        count += 1  \n",
    "        sum = sum + int(num)\n",
    "        pdt = pdt * int(num)\n",
    "print(sum,pdt)\n",
    "    "
   ]
  },
  {
   "cell_type": "markdown",
   "metadata": {},
   "source": [
    "4. A three digit number is called Armstrong number if sum of cube of its digit is equal to number itself.\n",
    "E.g.- 153 is an Armstrong number because (13)+(53)+(33) = 153.\n",
    "Write all Armstrong numbers between 100 to 500."
   ]
  },
  {
   "cell_type": "code",
   "execution_count": null,
   "metadata": {},
   "outputs": [],
   "source": [
    "input_num = input(\"Enter the number:\")\n",
    "number = int(input_num)\n",
    "n = len(input_num)\n",
    "sum = 0\n",
    "for value in range(1,n+1):\n",
    "        digit = number % 10\n",
    "        digit_cube = digit * digit * digit\n",
    "        sum = sum + digit_cube\n",
    "        number = number // 10\n",
    "if sum == int(input_num):\n",
    "        print(\"It is an Armstrong number \")\n",
    "else:\n",
    "        print(\"It is not an Armstrong number \")\n",
    "\n"
   ]
  },
  {
   "cell_type": "markdown",
   "metadata": {},
   "source": [
    "5. Write a Python program which iterates the integers from 1 to 50. For multiples of three print \"Fizz\" instead of the number and for the multiples of five print \"Buzz\". For numbers which are multiples of both three and five print \"FizzBuzz\".\n",
    "Sample Output :\n",
    "fizzbuzz\n",
    "1\n",
    "2\n",
    "fizz\n",
    "4\n",
    "buzz"
   ]
  },
  {
   "cell_type": "code",
   "execution_count": 10,
   "metadata": {},
   "outputs": [
    {
     "name": "stdout",
     "output_type": "stream",
     "text": [
      "1\n",
      "2\n",
      "fizz\n",
      "4\n",
      "buzz\n",
      "fizz\n",
      "7\n",
      "8\n",
      "fizz\n",
      "buzz\n",
      "11\n",
      "fizz\n",
      "13\n",
      "14\n",
      "fizzbuzz\n",
      "16\n",
      "17\n",
      "fizz\n",
      "19\n",
      "buzz\n",
      "fizz\n",
      "22\n",
      "23\n",
      "fizz\n",
      "buzz\n",
      "26\n",
      "fizz\n",
      "28\n",
      "29\n",
      "fizzbuzz\n",
      "31\n",
      "32\n",
      "fizz\n",
      "34\n",
      "buzz\n",
      "fizz\n",
      "37\n",
      "38\n",
      "fizz\n",
      "buzz\n",
      "41\n",
      "fizz\n",
      "43\n",
      "44\n",
      "fizzbuzz\n",
      "46\n",
      "47\n",
      "fizz\n",
      "49\n",
      "buzz\n"
     ]
    }
   ],
   "source": [
    "for value in range(1,51):\n",
    "    if value % 3 == 0 and value % 5 != 0:\n",
    "        print(\"fizz\")\n",
    "    elif value % 5 == 0 and value % 3 != 0:\n",
    "        print(\"buzz\")\n",
    "    elif value % 3 == 0 and value % 5 == 0:\n",
    "        print(\"fizzbuzz\")\n",
    "    else:\n",
    "        print(value)"
   ]
  },
  {
   "cell_type": "markdown",
   "metadata": {},
   "source": [
    "6. Write a program to find greatest common divisor (GCD) or highest common factor (HCF) of given two   numbers."
   ]
  },
  {
   "cell_type": "code",
   "execution_count": 37,
   "metadata": {},
   "outputs": [
    {
     "name": "stdout",
     "output_type": "stream",
     "text": [
      "Enter two no:13 14\n",
      "1\n",
      "[1]\n",
      "1\n",
      "2\n",
      "7\n",
      "[1, 2, 7]\n",
      "[1]\n",
      "The greatest common factor is: 1\n"
     ]
    }
   ],
   "source": [
    "number = input(\"Enter two no:\")\n",
    "n1,n2 = number.split()\n",
    "num1 = int(n1)\n",
    "num2 = int(n2)\n",
    "num = [num1,num2]\n",
    "lst = [ ]\n",
    "\n",
    "for x in num:\n",
    "    lst_prev = lst\n",
    "    lst = []\n",
    "    for y in range(1,x):\n",
    "        if int(x) % int(y) == 0:\n",
    "            print(y)\n",
    "            lst.append(y)\n",
    "    print(lst)\n",
    "print(lst_prev)\n",
    "\n",
    "for m in lst:\n",
    "    for n in lst_prev:\n",
    "        if m ==n:\n",
    "            gcf = n\n",
    "print(\"The greatest common factor is:\", gcf)\n"
   ]
  },
  {
   "cell_type": "markdown",
   "metadata": {},
   "source": [
    "\n",
    "7. Write a Python program to find numbers between 100 and 400 (both included) where each digit of a number is an even number. The numbers obtained should be printed in a comma-separated sequence."
   ]
  },
  {
   "cell_type": "code",
   "execution_count": 26,
   "metadata": {},
   "outputs": [
    {
     "name": "stdout",
     "output_type": "stream",
     "text": [
      "200,202,204,206,208,220,222,224,226,228,240,242,244,246,248,260,262,264,266,268,280,282,284,286,288,400,"
     ]
    }
   ],
   "source": [
    "list =[2,4,6,8,0]\n",
    "for value in range(100,401):\n",
    "    number = value\n",
    "    while(value!=0):\n",
    "        digit = value % 10\n",
    "        if digit in list:\n",
    "            value = value//10\n",
    "            if value == 0:\n",
    "                print(number, end= ',')\n",
    "        else:\n",
    "            break\n",
    "  \n"
   ]
  },
  {
   "cell_type": "markdown",
   "metadata": {},
   "source": [
    "8.  Write a Python program which takes two digits m (row) and n (column) as input and generates a two-dimensional array. The element value in the i-th row and j-th column of the array should be 2*(i+j).\n",
    "Note :\n",
    "i = 0,1.., m-1\n",
    "j = 0,1, n-1.\n",
    "\n",
    "Test Data : Rows = 3, Columns = 4\n",
    "Expected Result : [[0, 2, 4, 6], [2, 4, 6, 8], [6, 8, 10, 12]"
   ]
  },
  {
   "cell_type": "code",
   "execution_count": 25,
   "metadata": {},
   "outputs": [
    {
     "name": "stdout",
     "output_type": "stream",
     "text": [
      "Enter no of rows:3\n",
      "Enter no of columns4\n",
      "[[0, 2, 4, 6], [2, 4, 6, 8], [4, 6, 8, 10]]\n"
     ]
    }
   ],
   "source": [
    "row = int(input(\"Enter no of rows:\"))\n",
    "column = int(input(\"Enter no of columns\"))\n",
    "arr= []\n",
    "\n",
    "for i in range(0,row):\n",
    "    lst=[]\n",
    "    for j in range(0,column):\n",
    "        ele = 2 *(i +j )\n",
    "        lst.append(ele)\n",
    "    arr.append(lst)\n",
    "print(arr)"
   ]
  },
  {
   "cell_type": "markdown",
   "metadata": {},
   "source": [
    "9. Write a program to find prime factor of a number.\n",
    "If a factor of a number is prime number then it is its prime factor."
   ]
  },
  {
   "cell_type": "code",
   "execution_count": 44,
   "metadata": {},
   "outputs": [
    {
     "name": "stdout",
     "output_type": "stream",
     "text": [
      "Enter a no:8\n",
      "1\n",
      "2\n",
      "4\n",
      "[1, 2, 4]\n"
     ]
    }
   ],
   "source": [
    "number = int(input(\"Enter a no:\"))\n",
    "lst = [ ]\n",
    "for y in range(1,number):\n",
    "    if number % int(y) == 0:\n",
    "        print(y)\n",
    "        if y % 2 == 0:\n",
    "            lst.append(y)\n",
    "print(lst)\n",
    "\n"
   ]
  },
  {
   "cell_type": "markdown",
   "metadata": {},
   "source": [
    "10. Write a Python program to get the Fibonacci series. length of series should taken by user.\n",
    "Note : The Fibonacci Sequence is the series of numbers :\n",
    "0, 1, 1, 2, 3, 5, 8, 13, 21, ....\n",
    "Every next number is found by adding up the two numbers before it.\n",
    "Expected Output : 1 1 2 3 5 8 13 21 34."
   ]
  },
  {
   "cell_type": "code",
   "execution_count": 31,
   "metadata": {},
   "outputs": [
    {
     "name": "stdout",
     "output_type": "stream",
     "text": [
      "Enter the number of elements:8\n",
      "0 1 1 2 3 5 8 13 21 34 "
     ]
    }
   ],
   "source": [
    "n = int(input(\"Enter the number of elements:\"))\n",
    "curr_num = 1\n",
    "prev_num = 0\n",
    "print(prev_num,end = ' ')\n",
    "print(curr_num, end = ' ')\n",
    "for value in range(0,n):\n",
    "    next_num = prev_num + curr_num\n",
    "    prev_num = curr_num\n",
    "    curr_num = next_num\n",
    "    print(next_num,end = ' ')"
   ]
  },
  {
   "cell_type": "markdown",
   "metadata": {},
   "source": [
    "11. A 4 digit number is entered through keyboard. Write a program to print a new number with digits reversed as of orignal one. E.g.-\n",
    "INPUT : 1234        OUTPUT : 4321\n",
    "INPUT : 5982        OUTPUT : 2895\n",
    "NOTE:- Can not use buil-in function e.g. sort(), reverse() use loops here"
   ]
  },
  {
   "cell_type": "code",
   "execution_count": 32,
   "metadata": {},
   "outputs": [
    {
     "name": "stdout",
     "output_type": "stream",
     "text": [
      "Enter a four digit number: 1234\n",
      "4321\n"
     ]
    }
   ],
   "source": [
    "\n",
    "number = int(input(\"Enter a four digit number: \"))\n",
    "a = number % 10\n",
    "\n",
    "b = (number // 10) % 10\n",
    "\n",
    "c = (number // 100) % 10\n",
    "\n",
    "d = (number // 1000) % 10\n",
    "\n",
    "number = 1000 * a + 100 * b + 10 * c + 1 * d\n",
    "print(number)"
   ]
  },
  {
   "cell_type": "markdown",
   "metadata": {},
   "source": [
    "12. Write a program to find sum of digits of given number by user answer should be of single digit.\n",
    "Example: input: 25643\n",
    "         sum of digits of 2+5+6+4+3 = 20\n",
    "         again find sum of digits of 20 and final answer would be 2+0 = 2"
   ]
  },
  {
   "cell_type": "code",
   "execution_count": 34,
   "metadata": {},
   "outputs": [
    {
     "name": "stdout",
     "output_type": "stream",
     "text": [
      "Enter the number12345\n",
      "sum is : 15\n"
     ]
    }
   ],
   "source": [
    "number = input(\"Enter the number\")\n",
    "sum_digit = 0\n",
    "for x in number :\n",
    "    digit = int(number) % 10\n",
    "    sum_digit = sum_digit + digit\n",
    "    number = int(number) // 10\n",
    "    \n",
    "print(\"sum is :\",sum_digit)"
   ]
  },
  {
   "cell_type": "markdown",
   "metadata": {},
   "source": [
    "13. Write a Python program to construct the following pattern, using a nested for loop.\n",
    "* \n",
    "* * \n",
    "* * * \n",
    "* * * * \n",
    "* * * * * \n",
    "* * * * \n",
    "* * * \n",
    "* * \n",
    "*"
   ]
  },
  {
   "cell_type": "code",
   "execution_count": 20,
   "metadata": {},
   "outputs": [
    {
     "name": "stdout",
     "output_type": "stream",
     "text": [
      "* \n",
      "* * \n",
      "* * * \n",
      "* * * * \n",
      "* * * * * \n",
      "* * * * \n",
      "* * * \n",
      "* * \n",
      "* \n"
     ]
    }
   ],
   "source": [
    "n=10\n",
    "star = '* '\n",
    "for x in range(1,10):\n",
    "    if x <= 5:\n",
    "        print(star * x)\n",
    "        x += 1\n",
    "    else :\n",
    "        x = 10 - x \n",
    "        print(star*x)\n",
    "    "
   ]
  },
  {
   "cell_type": "code",
   "execution_count": null,
   "metadata": {},
   "outputs": [],
   "source": [
    "15. Write a Python program to construct the following pattern, using a nested loop number.\n",
    "Expected Output:\n",
    "\n",
    "1\n",
    "22\n",
    "333\n",
    "4444\n",
    "55555\n",
    "666666\n",
    "7777777\n",
    "88888888\n",
    "999999999\n"
   ]
  },
  {
   "cell_type": "code",
   "execution_count": 2,
   "metadata": {},
   "outputs": [
    {
     "name": "stdout",
     "output_type": "stream",
     "text": [
      "1\n",
      "22\n",
      "333\n",
      "4444\n",
      "55555\n",
      "666666\n",
      "7777777\n",
      "88888888\n",
      "999999999\n"
     ]
    }
   ],
   "source": [
    "x=1\n",
    "while(x!=10):\n",
    "    print(str(x)*x)\n",
    "    x += 1\n",
    "    "
   ]
  },
  {
   "cell_type": "markdown",
   "metadata": {},
   "source": [
    "16. Write a Python program to construct the following pattern, using a nested loop number.\n",
    "Expected Output:\n",
    "\n",
    "    * \n",
    "   * * \n",
    "  * * * \n",
    " * * * * \n",
    "* * * * *"
   ]
  },
  {
   "cell_type": "code",
   "execution_count": null,
   "metadata": {},
   "outputs": [],
   "source": []
  }
 ],
 "metadata": {
  "kernelspec": {
   "display_name": "Python 3",
   "language": "python",
   "name": "python3"
  },
  "language_info": {
   "codemirror_mode": {
    "name": "ipython",
    "version": 3
   },
   "file_extension": ".py",
   "mimetype": "text/x-python",
   "name": "python",
   "nbconvert_exporter": "python",
   "pygments_lexer": "ipython3",
   "version": "3.7.6"
  }
 },
 "nbformat": 4,
 "nbformat_minor": 4
}
