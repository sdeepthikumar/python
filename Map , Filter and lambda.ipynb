{
 "cells": [
  {
   "cell_type": "code",
   "execution_count": null,
   "metadata": {},
   "outputs": [],
   "source": [
    "l = [10,20,30,40,50]\n",
    "map(sqr,iterable)"
   ]
  },
  {
   "cell_type": "code",
   "execution_count": 2,
   "metadata": {},
   "outputs": [
    {
     "name": "stdout",
     "output_type": "stream",
     "text": [
      "[101, 202, 303, 404, 505, 606]\n"
     ]
    }
   ],
   "source": [
    "def add(num1,num2):\n",
    "    return num1 + num2\n",
    "\n",
    "l1 = [1,2,3,4,5,6]\n",
    "l2 = [100,200,300,400,500,600,700]\n",
    "m = map(add,l1,l2)\n",
    "print(list(m))"
   ]
  },
  {
   "cell_type": "code",
   "execution_count": 4,
   "metadata": {},
   "outputs": [
    {
     "name": "stdout",
     "output_type": "stream",
     "text": [
      "[4, 10, 10]\n"
     ]
    }
   ],
   "source": [
    "# def calc_len(s):\n",
    "#     return len(s)\n",
    "# l = ['abcd','whriufhiuh','dbdjhsdjcj']\n",
    "# m = map(calc_len,l)\n",
    "# print(list(m))\n",
    "\n",
    "l = ['abcd','whriufhiuh','dbdjhsdjcj']\n",
    "m = map(len,l)\n",
    "print(list(m))"
   ]
  },
  {
   "cell_type": "code",
   "execution_count": 9,
   "metadata": {},
   "outputs": [
    {
     "name": "stdout",
     "output_type": "stream",
     "text": [
      "[10, 15, 20, 25, 30, 35, 40, 45]\n"
     ]
    }
   ],
   "source": [
    "def get_even(num):\n",
    "    if num % 2 == 0:\n",
    "        return 2\n",
    "    else:\n",
    "        return 5\n",
    "l = [10,15,20,25,30,35,40,45]\n",
    "m = filter(get_even,l)\n",
    "print(list(m))"
   ]
  },
  {
   "cell_type": "code",
   "execution_count": 18,
   "metadata": {},
   "outputs": [
    {
     "name": "stdout",
     "output_type": "stream",
     "text": [
      "[6, 28]\n"
     ]
    }
   ],
   "source": [
    "# find perfect nos within a range\n",
    "\n",
    "def perfect_num(num):\n",
    "    sum = 0\n",
    "    for i in range(1,num):\n",
    "        if num%i == 0:\n",
    "            sum = sum + i\n",
    "            \n",
    "    if sum == num:\n",
    "        return True\n",
    "    else:\n",
    "        return False\n",
    "\n",
    "# l = [val for val in range(1,101)]\n",
    "# m = filter(perfect_num,l)\n",
    "f = filter(perfect_num,range(1,100))\n",
    "print(list(f))"
   ]
  },
  {
   "cell_type": "code",
   "execution_count": 21,
   "metadata": {},
   "outputs": [
    {
     "name": "stdout",
     "output_type": "stream",
     "text": [
      "[11, 22, 33, 44, 55]\n"
     ]
    }
   ],
   "source": [
    "# lamba function\n",
    "\n",
    "l1 = [1,2,3,4,5]\n",
    "l2 = [10,20,30,40,50]\n",
    "m = map(lambda num1,num2:num1+num2,l1,l2)\n",
    "print(list(m))"
   ]
  },
  {
   "cell_type": "code",
   "execution_count": 33,
   "metadata": {},
   "outputs": [
    {
     "name": "stdout",
     "output_type": "stream",
     "text": [
      "[2, 4, 6]\n"
     ]
    }
   ],
   "source": [
    "l = [1,2,3,4,5,6]\n",
    "#f = filter(lambda num: num % 2 == 0,l)\n",
    "# or \n",
    "\n",
    "#f = filter(lambda num:if num % 2 == 0 True,l)\n",
    "\n",
    "f = filter(lambda num: True if num % 2 == 0 else False, l)\n",
    "print(list(f))"
   ]
  },
  {
   "cell_type": "code",
   "execution_count": 29,
   "metadata": {},
   "outputs": [
    {
     "name": "stdout",
     "output_type": "stream",
     "text": [
      "['a', 'ba', 'cab', 'aab', 'abc', 'aaa']\n"
     ]
    }
   ],
   "source": [
    "l = ['a','ba','cab','aab','abc','aaa']\n",
    "#print(sorted(l,key=len))\n",
    "\n",
    "print(sorted(l,key=lambda s:len(s)))\n"
   ]
  },
  {
   "cell_type": "markdown",
   "metadata": {},
   "source": [
    "1. Write a Python program to sort a list of tuples using Lambda. If marks are the same then sort on the basis on their name.\n",
    " \n",
    "Input: [('English', 95), ('Science', 95), ('Maths', 90), ('Social sciences', 88)]\n",
    "Output: [('Social sciences', 88), ('Maths', 90), ('English', 95), ('Science', 95)]\n"
   ]
  },
  {
   "cell_type": "code",
   "execution_count": 4,
   "metadata": {},
   "outputs": [
    {
     "name": "stdout",
     "output_type": "stream",
     "text": [
      "[('Social sciences', 88), ('Maths', 90), ('English', 95), ('Science', 95)]\n"
     ]
    }
   ],
   "source": [
    "input_list = [('English', 95), ('Science', 95), ('Maths', 90), ('Social sciences', 88)]\n",
    "input_list.sort(key = lambda x:x[1])\n",
    "print(input_list)"
   ]
  },
  {
   "cell_type": "code",
   "execution_count": 23,
   "metadata": {},
   "outputs": [
    {
     "name": "stdout",
     "output_type": "stream",
     "text": [
      "[2, 4, 6, 8, 10] [1, 3, 5, 7, 9]\n"
     ]
    }
   ],
   "source": [
    "l = [1, 2, 3, 4, 5, 6, 7, 8, 9, 10]\n",
    "even_l = filter(lambda x:x if x%2 == 0 else False ,l)\n",
    "odd_l = filter(lambda x:x if x%2 != 0 else False ,l)\n",
    "print(list(even_l),list(odd_l))"
   ]
  },
  {
   "cell_type": "code",
   "execution_count": 24,
   "metadata": {},
   "outputs": [
    {
     "name": "stdout",
     "output_type": "stream",
     "text": [
      "{8, 1, 2, 9}\n"
     ]
    }
   ],
   "source": [
    "l1 = [1, 2, 3, 5, 7, 8, 9, 10]\n",
    "l2 = [1, 2, 4, 8, 9]\n",
    "l3 = set(l1).intersection(set(l2))\n",
    "print(l3)"
   ]
  },
  {
   "cell_type": "code",
   "execution_count": 33,
   "metadata": {},
   "outputs": [
    {
     "name": "stdout",
     "output_type": "stream",
     "text": [
      "(5, 3)\n"
     ]
    }
   ],
   "source": [
    "l = [1, 2, 3, 5, 7, 8, 9, 10]\n",
    "even = len(list(filter(lambda x:x if x%2 == 0 else False ,l)))\n",
    "odd = len(list(filter(lambda x:x if x%2 != 0 else False ,l)))\n",
    "print((odd,even))"
   ]
  },
  {
   "cell_type": "code",
   "execution_count": 39,
   "metadata": {},
   "outputs": [
    {
     "name": "stdout",
     "output_type": "stream",
     "text": [
      "['Monday', 'Friday', 'Sunday']\n"
     ]
    }
   ],
   "source": [
    "inp= ['Monday', 'Tuesday', 'Wednesday', 'Thursday', 'Friday', 'Saturday', 'Sunday']\n",
    "out = filter(lambda x:x if len(x) == 6 else False,inp)\n",
    "print(list(out))"
   ]
  },
  {
   "cell_type": "code",
   "execution_count": 47,
   "metadata": {},
   "outputs": [
    {
     "name": "stdout",
     "output_type": "stream",
     "text": [
      "[3, 5, 7]\n"
     ]
    }
   ],
   "source": [
    "l1 = [1,2,3]\n",
    "l2 = [2,3,4]\n",
    "l3 = map(lambda x,y:x+y,l1,l2)\n",
    "print(list(l3))"
   ]
  },
  {
   "cell_type": "code",
   "execution_count": 49,
   "metadata": {},
   "outputs": [
    {
     "name": "stdout",
     "output_type": "stream",
     "text": [
      "[('Daniel', 7.0), ('Garry', 8.0), ('Harry', 8.0), ('Steve', 9.5)]\n"
     ]
    }
   ],
   "source": [
    "l1 = [('Harry', 8.0),('Garry',8.0),('Steve',9.5),('Daniel', 7.0)]\n",
    "l1.sort()\n",
    "l1.sort(key = lambda x:x[1])\n",
    "print(l1)"
   ]
  },
  {
   "cell_type": "code",
   "execution_count": 52,
   "metadata": {},
   "outputs": [
    {
     "name": "stdout",
     "output_type": "stream",
     "text": [
      "['php', 'aaa']\n"
     ]
    }
   ],
   "source": [
    "l = [\"php\", \"w3r\", \"Python\", \"abcd\", \"Java\", \"aaa\"]\n",
    "out = list(filter(lambda x:x if x == x[::-1] else False,l))\n",
    "print(out)"
   ]
  },
  {
   "cell_type": "code",
   "execution_count": null,
   "metadata": {},
   "outputs": [],
   "source": []
  }
 ],
 "metadata": {
  "kernelspec": {
   "display_name": "Python 3",
   "language": "python",
   "name": "python3"
  },
  "language_info": {
   "codemirror_mode": {
    "name": "ipython",
    "version": 3
   },
   "file_extension": ".py",
   "mimetype": "text/x-python",
   "name": "python",
   "nbconvert_exporter": "python",
   "pygments_lexer": "ipython3",
   "version": "3.7.6"
  }
 },
 "nbformat": 4,
 "nbformat_minor": 4
}
