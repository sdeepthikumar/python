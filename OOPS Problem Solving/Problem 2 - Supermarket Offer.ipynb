{
 "cells": [
  {
   "cell_type": "markdown",
   "metadata": {},
   "source": [
    "Problem 1\n",
    "\n",
    "In a normal supermarket, things are identified using Stock Keeping Units,. In our store, we’ll use individual letters of the alphabet (A, B, C, and so on). Our goods are priced individually. In addition, some items are multipriced: buy n of them, and they’ll cost you y Rs. For example, item ‘A’ might cost 50 Rs individually, but this week we have a special offer: buy three ‘A’s and they’ll cost you 120Rs. In fact this week’s prices are:\n",
    "\n",
    "Item Unit Special Price Price \n",
    "A 50 3 for 120 \n",
    "B 30 2 for 45 \n",
    "C 20\n",
    "\n",
    "Our checkout accepts items in any order, so that if we scan a B, an A, and another B, we’ll recognize the two B’s and price them at 45 . Because the pricing changes frequently, we need to be able to pass in a set of pricing rules each time we start handling a checkout transaction."
   ]
  },
  {
   "cell_type": "code",
   "execution_count": 17,
   "metadata": {},
   "outputs": [
    {
     "ename": "SyntaxError",
     "evalue": "invalid syntax (<ipython-input-17-495fbe808713>, line 1)",
     "output_type": "error",
     "traceback": [
      "\u001b[1;36m  File \u001b[1;32m\"<ipython-input-17-495fbe808713>\"\u001b[1;36m, line \u001b[1;32m1\u001b[0m\n\u001b[1;33m    Admin:\u001b[0m\n\u001b[1;37m          ^\u001b[0m\n\u001b[1;31mSyntaxError\u001b[0m\u001b[1;31m:\u001b[0m invalid syntax\n"
     ]
    }
   ],
   "source": [
    "Admin:\n",
    "    add_product\n",
    "    update_product\n",
    "    delete_product\n",
    "    \n",
    "Customer:\n",
    "    add_to_cart\n",
    "    checkout\n",
    "\n",
    "System:\n",
    "    generate_bill\n",
    "    apply_offer"
   ]
  },
  {
   "cell_type": "code",
   "execution_count": 24,
   "metadata": {},
   "outputs": [],
   "source": [
    "class Offer:\n",
    "           \n",
    "    def __init__(self,offer_id,min_qty,offer_price):\n",
    "        self.offer_id = offer_id\n",
    "        self.min_qty = min_qty\n",
    "        self.offer_price = offer_price\n",
    "        \n",
    "        \n",
    "class Products:\n",
    "    obj_products = []\n",
    "        \n",
    "    @classmethod\n",
    "    def add_to_objproducts(cls,obj):\n",
    "        cls.obj_products.append(obj)\n",
    "\n",
    "    def __init__(self,prod_id,prod_name,unit_price,stock,offer):\n",
    "        self.prod_id = prod_id\n",
    "        self.prod_name = prod_name\n",
    "        self.unit_price = unit_price\n",
    "        self.stock = stock\n",
    "        self.offer = offer\n",
    "        Products.add_to_objproducts(self)\n",
    "\n",
    "class Admin:\n",
    "    def __init__(self,username,email):\n",
    "        self.username = username\n",
    "        self.email = email\n",
    "    \n",
    "    def add_product(self,prod_id,prod_name,unit_price,stock,offer = None):\n",
    "        prod = Products(prod_id,prod_name,unit_price,stock,offer)\n",
    "        return prod\n",
    "    def update_product(self):\n",
    "        pass\n",
    "    def delete_product(self):\n",
    "        pass\n",
    "    def add_offer(self,offer_id,min_qty,offer_price):\n",
    "        offer = Offer(offer_id,min_qty,offer_price)\n",
    "        return offer\n",
    "        \n",
    "class System:\n",
    "    \n",
    "    @classmethod\n",
    "    def generate_bill(cls,cart):\n",
    "        total_bill = 0\n",
    "        for prod,qty in cart.items():\n",
    "            if prod.offer:\n",
    "                total_bill += prod.offer.offer_price * (qty//prod.offer.min_qty) + prod.unit_price * (qty % prod.offer.min_qty)\n",
    "            else:\n",
    "                total_bill += prod.unit_price * qty\n",
    "        return total_bill\n",
    "    \n",
    "class Customer:\n",
    "    def __init__(self,name,phone_num):\n",
    "        self.name = name\n",
    "        self.phone_num = phone_num\n",
    "        self.cart = {}\n",
    "    \n",
    "    def add_to_cart(self,product,qty):\n",
    "        if product not in self.cart:  \n",
    "            self.cart.setdefault(product,qty)\n",
    "        else:\n",
    "            self.cart[product] += qty\n",
    "            \n",
    "    def view_cart(self):\n",
    "        return {key.prod_name:value for key,value in self.cart.items()}\n",
    "    \n",
    "    def checkout(self):\n",
    "        return System.generate_bill(self.cart)\n"
   ]
  },
  {
   "cell_type": "code",
   "execution_count": 25,
   "metadata": {},
   "outputs": [],
   "source": [
    "admin = Admin('abc','abc@xyz.com')\n",
    "\n",
    "off1 = Offer(101,3,120)\n",
    "off2 = Offer(102,2,45)"
   ]
  },
  {
   "cell_type": "code",
   "execution_count": 26,
   "metadata": {},
   "outputs": [
    {
     "name": "stdout",
     "output_type": "stream",
     "text": [
      "{'A': 4, 'B': 2, 'C': 1}\n"
     ]
    }
   ],
   "source": [
    "p1 = admin.add_product(1,'A',50,100,off1)\n",
    "p2 = admin.add_product(2,'B',30,50,off2)\n",
    "p3 = admin.add_product(3,'C',20,100)\n",
    "\n",
    "c1 = Customer('MN','3466666')\n",
    "\n",
    "c1.add_to_cart(p1,2)\n",
    "c1.add_to_cart(p2,1)\n",
    "c1.add_to_cart(p2,1)\n",
    "c1.add_to_cart(p1,2)\n",
    "c1.add_to_cart(p3,1)\n",
    "\n",
    "\n",
    "print(c1.view_cart())"
   ]
  },
  {
   "cell_type": "code",
   "execution_count": 27,
   "metadata": {},
   "outputs": [
    {
     "data": {
      "text/plain": [
       "235"
      ]
     },
     "execution_count": 27,
     "metadata": {},
     "output_type": "execute_result"
    }
   ],
   "source": [
    "c1.checkout()"
   ]
  }
 ],
 "metadata": {
  "kernelspec": {
   "display_name": "Python 3",
   "language": "python",
   "name": "python3"
  },
  "language_info": {
   "codemirror_mode": {
    "name": "ipython",
    "version": 3
   },
   "file_extension": ".py",
   "mimetype": "text/x-python",
   "name": "python",
   "nbconvert_exporter": "python",
   "pygments_lexer": "ipython3",
   "version": "3.7.6"
  }
 },
 "nbformat": 4,
 "nbformat_minor": 4
}
