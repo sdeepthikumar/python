{
 "cells": [
  {
   "cell_type": "code",
   "execution_count": null,
   "metadata": {},
   "outputs": [],
   "source": [
    "\n",
    "HW2\n",
    "Course : 1 course can have multiple tutorials \n",
    "    course_id\n",
    "    course_name\n",
    "    course_desc\n",
    "    author_name\n",
    "\n",
    "Tutorials :\n",
    "    tut_id\n",
    "    name\n",
    "    content \n",
    "    course\n",
    "    \n",
    "1. Find all the tutorials for course say \"Python\"    \n",
    "2. All the tutorials by author \"ABC\"\n",
    "3. change the name of course with id 1 to Numpy\n",
    "\n",
    "\n",
    "aut name\n",
    "profession \n",
    "total exp \n",
    "tech"
   ]
  },
  {
   "cell_type": "code",
   "execution_count": null,
   "metadata": {},
   "outputs": [],
   "source": [
    "class Course:\n",
    "    courses = [] \n",
    "    \n",
    "    @classmethod\n",
    "    def add_course(cls,obj_self):\n",
    "        cls.courses.append(obj_self)\n",
    "        \n",
    "    def __init__(self,course_id,course_name,course_desc,author):\n",
    "        self.course_id = course_id\n",
    "        self.course_name = course_name\n",
    "        self.course_desc = course_desc\n",
    "        self.author = author\n",
    "        Course.add_course(self)\n",
    "\n",
    "class Tutorials:\n",
    "    tutorial = []\n",
    "    \n",
    "    @classmethod\n",
    "    def add_tutorial(cls,obj_self):\n",
    "        cls.tutorial.append(obj_self)\n",
    "        \n",
    "    def __init__(self,tut_id,tut_name,content,course):\n",
    "        self.tut_id = tut_id\n",
    "        self.tut_name = tut_name\n",
    "        self.content = content\n",
    "        self.course = course\n",
    "        Tutorials.add_tutorial(self)\n",
    "    \n",
    "    def get_tutorials(self):\n",
    "        return self.tut_id,self.tut_name,self.content\n",
    "\n",
    "class Author:\n",
    "    authors = []\n",
    "    def __init__(self,auth_name,prof,total_exp,tech):\n",
    "        self.auth_name = auth_name\n",
    "        self.prof = prof\n",
    "        self.total_exp = total_exp\n",
    "        self.tech = tech"
   ]
  },
  {
   "cell_type": "code",
   "execution_count": null,
   "metadata": {},
   "outputs": [],
   "source": [
    "auth1 = Author('ABC','xcv',7,['Python','C','C++'])\n",
    "auth2 = Author('DEF','hgbc',8,['Python','DataScience'])\n",
    "auth3 = Author('GHI','gfh',9,['C++','DataScience'])\n",
    "auth4 = Author('JKL','khhj',10,['Python','C','Java'])\n",
    "\n",
    "course1 = Course(1,'Python','Python Beginner to adv',auth1)\n",
    "course2 = Course(2,'DataScience','Python Beginner to adv',auth2)\n",
    "\n",
    "tut1 = Tutorials(101,'Python oops','OOPS',course1)\n",
    "tut2 = Tutorials(102,'Python basics','conditional stmts',course1)\n",
    "tut3 = Tutorials(103,'Python loops','looping stmts',course1)\n",
    "tut4 = Tutorials(104,'Python functions','functions',course1)\n",
    "tut5 = Tutorials(105,'DataScience basics','basics',course2)\n",
    "tut6 = Tutorials(106,'DataScience advanced','advanced',course2)\n",
    "\n"
   ]
  },
  {
   "cell_type": "code",
   "execution_count": null,
   "metadata": {},
   "outputs": [],
   "source": [
    "for tutorial in Tutorials.tutorial:\n",
    "    if tutorial.course.course_name == 'DataScience':\n",
    "        print(tutorial.get_tutorials())"
   ]
  },
  {
   "cell_type": "code",
   "execution_count": null,
   "metadata": {},
   "outputs": [],
   "source": [
    "Tut : course \n",
    "many : 1 \n",
    "        \n",
    "course : auth\n",
    "many: 1"
   ]
  },
  {
   "cell_type": "code",
   "execution_count": null,
   "metadata": {},
   "outputs": [],
   "source": [
    "HW1\n",
    "Products :\n",
    "    prod_id :\n",
    "    prod_name :\n",
    "    unit_price :\n",
    "    stock :\n",
    "        \n",
    "Orders : 1 order there are multiple products \n",
    "    order_id\n",
    "    order_details :\n",
    "           prod_id\n",
    "           unit_price\n",
    "           qunatity \n",
    "            \n",
    "    Calculate_price_order \n",
    "    Get order details for a specific order\n"
   ]
  },
  {
   "cell_type": "code",
   "execution_count": null,
   "metadata": {},
   "outputs": [],
   "source": [
    "1 order : many products"
   ]
  },
  {
   "cell_type": "code",
   "execution_count": null,
   "metadata": {},
   "outputs": [],
   "source": [
    "class Products:\n",
    "    def __init__(self,prod_id,prod_name,unit_price,stock):\n",
    "        self.prod_id = prod_id\n",
    "        self.prod_name = prod_name\n",
    "        self.unit_price = unit_price\n",
    "        self.stock = stock\n"
   ]
  },
  {
   "cell_type": "code",
   "execution_count": null,
   "metadata": {},
   "outputs": [],
   "source": [
    "class Orders:\n",
    "    def __init__(self,order_id,ord_dtl):\n",
    "        self.order_id = order_id\n",
    "        self.ord_dtl = ord_dtl\n",
    "    \n",
    "    def get_orderdetails(self):"
   ]
  },
  {
   "cell_type": "code",
   "execution_count": null,
   "metadata": {},
   "outputs": [],
   "source": [
    "class OrderDetails:\n",
    "    \n",
    "    def __init__(self,prod_dtl):\n",
    "        self.prod_dtl = prod_dtl\n",
    "        \n",
    "    def get_price(self):\n",
    "        self.total = 0\n",
    "        for pdt,qty in self.prod_dtl.items():\n",
    "            self.total = self.total + pdt.unit_price * qty\n",
    "        return self.total"
   ]
  },
  {
   "cell_type": "code",
   "execution_count": null,
   "metadata": {},
   "outputs": [],
   "source": [
    "pdt1 = Products('P1','PdtA',100,50)\n",
    "pdt2 = Products('P2','PdtB',200,150)\n",
    "pdt3 = Products('P3','PdtC',300,250)\n",
    "pdt4 = Products('P4','PdtD',400,350)\n",
    "pdt5 = Products('P5','PdtE',500,450)\n",
    "\n",
    "ord_dtl1 = OrderDetails({pdt1:2,pdt2:3})\n",
    "ord_dtl2 = OrderDetails({pdt2:2,pdt5:2,pdt2:3})\n",
    "ord_dtl3 = OrderDetails({pdt3:1,pdt2:2,pdt4:1})\n",
    "\n",
    "ord1 = Orders('Ord1',Ord_dtl1)\n",
    "ord2 = Orders('Ord2',Ord_dtl2)\n",
    "ord3 = Orders('Ord3',Ord_dtl3)\n"
   ]
  },
  {
   "cell_type": "code",
   "execution_count": null,
   "metadata": {},
   "outputs": [],
   "source": [
    "products_objlist = [pdt1,pdt2,pdt3,pdt4,pdt5]\n",
    "orders_objlist = [ord1,ord2,ord3]\n",
    "orderdetails_list = [ord_dtl1,ord_dtl2,ord_dtl3]\n",
    "\n",
    "for eachorder in orderdetails_list:\n",
    "    print(\"Total price\",eachorder.get_price())\n",
    "\n",
    "for ordr in orders_objlist:"
   ]
  }
 ],
 "metadata": {
  "kernelspec": {
   "display_name": "Python 3",
   "language": "python",
   "name": "python3"
  },
  "language_info": {
   "codemirror_mode": {
    "name": "ipython",
    "version": 3
   },
   "file_extension": ".py",
   "mimetype": "text/x-python",
   "name": "python",
   "nbconvert_exporter": "python",
   "pygments_lexer": "ipython3",
   "version": "3.7.6"
  }
 },
 "nbformat": 4,
 "nbformat_minor": 4
}
