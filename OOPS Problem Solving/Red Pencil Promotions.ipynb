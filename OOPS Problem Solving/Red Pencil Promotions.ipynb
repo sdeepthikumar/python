{
 "cells": [
  {
   "cell_type": "markdown",
   "metadata": {},
   "source": [
    "Problem :\n",
    "\n",
    "We provide a shopping portal, where dealers can offer their goods (similiar to Amazon market place). We want to support red pencil promotions for reduced prices. During the red pencil promotion the old price is crossed out in red and the new reduced price is written next to it. To avoid misuse of red pencil promotions the red pencil promotions are activated and deactivated automatically.\n",
    "\n",
    "A red pencil promotion starts due to a price reduction. The price has to be reduced by at least 5% but at most bei 30% and the previous price had to be stable f\n",
    "or at least 30 days.\n",
    "\n",
    "A red pencil promotion lasts 30 days as the maximum length.\n",
    "\n",
    "If the price is further reduced during the red pencil promotion the promotion will not be prolonged by that reduction.\n",
    "\n",
    "If the price is increased during the red pencil promotion the promotion will be ended immediately.\n",
    "\n",
    "If the price if reduced during the red pencil promotion so that the overall reduction is more than 30% with regard to the original price, the promotion is ended immediately.\n",
    "\n",
    "After a red pencil promotion is ended additional red pencil promotions may follow – as long as the start condition is valid: the price was stable for 30 days and these 30 days don’t intersect with a previous red pencil promotion."
   ]
  },
  {
   "cell_type": "code",
   "execution_count": null,
   "metadata": {},
   "outputs": [],
   "source": [
    "Dealer\n",
    "    id,name\n",
    "    \n",
    "    update price\n",
    "    \n",
    "Admin:\n",
    "    id,name\n",
    "    \n",
    "    add products\n",
    "    \n",
    "products\n",
    "    prod_id\n",
    "    prod_name\n",
    "    dealer_price\n",
    "    cart_price\n",
    "    avg_price\n",
    "    \n",
    "    calc_reduction\n",
    "    if 5 - 30%\n",
    "    call promo\n",
    "    \n",
    "red pencil promo\n",
    "    product\n",
    "    orig_price\n",
    "    promo_price\n",
    "    promo_start_date\n",
    "    promo_end_date"
   ]
  },
  {
   "cell_type": "code",
   "execution_count": 1,
   "metadata": {},
   "outputs": [],
   "source": []
  },
  {
   "cell_type": "code",
   "execution_count": 91,
   "metadata": {},
   "outputs": [],
   "source": []
  },
  {
   "cell_type": "markdown",
   "metadata": {},
   "source": [
    "Problem :\n",
    "\n",
    "We provide a shopping portal, where dealers can offer their goods (similiar to Amazon market place). We want to support red pencil promotions for reduced prices. During the red pencil promotion the old price is crossed out in red and the new reduced price is written next to it. To avoid misuse of red pencil promotions the red pencil promotions are activated and deactivated automatically.\n",
    "\n",
    "A red pencil promotion starts due to a price reduction. The price has to be reduced by at least 5% but at most bei 30% and the previous price had to be stable f\n",
    "or at least 30 days.\n",
    "\n",
    "A red pencil promotion lasts 30 days as the maximum length.\n",
    "\n",
    "If the price is further reduced during the red pencil promotion the promotion will not be prolonged by that reduction.\n",
    "\n",
    "If the price is increased during the red pencil promotion the promotion will be ended immediately.\n",
    "\n",
    "If the price if reduced during the red pencil promotion so that the overall reduction is more than 30% with regard to the original price, the promotion is ended immediately.\n",
    "\n",
    "After a red pencil promotion is ended additional red pencil promotions may follow – as long as the start condition is valid: the price was stable for 30 days and these 30 days don’t intersect with a previous red pencil promotion."
   ]
  },
  {
   "cell_type": "code",
   "execution_count": 3,
   "metadata": {},
   "outputs": [],
   "source": [
    "import datetime"
   ]
  },
  {
   "cell_type": "code",
   "execution_count": 99,
   "metadata": {},
   "outputs": [],
   "source": [
    "class Dealer:\n",
    "    def __init__(self,dealer_id,dealer_name):\n",
    "        self.dealer_id = dealer_id\n",
    "        self.dealer_name = dealer_name\n",
    "        \n",
    "    def add_products(self,prod_id,prod_name,current_price,stock,price_change_date,promo_status = None):\n",
    "        prod = System(prod_id,prod_name,current_price,stock,price_change_date,promo_status)\n",
    "        return prod\n",
    "    \n",
    "    def update_price(self,product,offer):\n",
    "        old_price = product.current_price\n",
    "        print(\"product:{}, oldprice:{}\".format(product.prod_name,old_price))\n",
    "        product.current_price = offer.new_price\n",
    "        print(\"New_price:\",product.current_price)\n",
    "        product.change_date(offer.update_date)\n",
    "        product.check_promotion(old_price,offer)\n",
    "        \n",
    "class Offer:\n",
    "    def __init__(self,offer_id,new_price,update_date,valid_till_date):\n",
    "        self.offer_id = offer_id\n",
    "        self.new_price = new_price\n",
    "        self.update_date = update_date\n",
    "        self.valid_till_date = valid_till_date\n",
    "        \n",
    "        \n",
    "class System:\n",
    "    obj_products = []\n",
    "        \n",
    "    @classmethod\n",
    "    def add_to_objproducts(cls,obj):\n",
    "        cls.obj_products.append(obj)\n",
    "\n",
    "    def __init__(self,prod_id,prod_name,current_price,stock,price_change_date,promo_status = None):\n",
    "        self.prod_id = prod_id\n",
    "        self.prod_name = prod_name\n",
    "        self.current_price = current_price\n",
    "        self.stock = stock\n",
    "        self.price_change_date = price_change_date\n",
    "        self.promo_status = promo_status\n",
    "        System.add_to_objproducts(self)\n",
    "        \n",
    "    def get_promo_status(self):\n",
    "        return self.promo_status\n",
    "    \n",
    "    def set_promo_status(self,status):\n",
    "        self.promo_status = status\n",
    "    \n",
    "    def change_date(self,update_date):\n",
    "        self.price_change_date = update_date\n",
    "        \n",
    "    def find_days(self,price_change_date,date):\n",
    "        date_format = \"%Y/%m/%d\"\n",
    "        print(\"price_change_date\",price_change_date)\n",
    "        print(\"date\",date)\n",
    "        st = datetime.datetime.strptime(price_change_date,date_format)\n",
    "        nw = datetime.datetime.strptime(date,date_format)\n",
    "        delta = nw - st\n",
    "        return delta.days\n",
    "    \n",
    "    def check_promotion(self,old_price,offer):\n",
    "        date = datetime.datetime.now().strftime(\"%Y/%m/%d\")\n",
    "        discount_percentage = (old_price - self.current_price) / old_price * 100\n",
    "        if discount_percentage in range(5,31):\n",
    "            valid_discount = True\n",
    "        else:\n",
    "            valid_discount = False\n",
    "        #valid_discount = self.current_price >= old_price * 0.7 and self.current_price <= old_price * 0.95\n",
    "        no_of_stable_days = self.find_days(self.price_change_date,date)\n",
    "        print(\"no_of_stable_days\", no_of_stable_days)\n",
    "        print(\"valid_discount = {} %,{}\".format(discount_percentage,valid_discount))\n",
    "        if valid_discount and no_of_stable_days >= 30:            \n",
    "            self.set_promo_status(\"Active\")\n",
    "            print(\"Promotion applied for \",self.prod_name)\n",
    "            print(\"----------------------------------\")\n",
    "            Red_pencil_promotion(self.prod_id,self.prod_name,old_price,self.current_price,self.promo_status,offer.valid_till_date)\n",
    "        elif self.promo_status == \"Active\" and (self.current_price > old_price or valid_discount == False):\n",
    "            Red_pencil_promotion.end_promotion(self)\n",
    "        else:\n",
    "            return \"hello\"\n",
    "        #print(\"AFTER PROMO: \",self.__dict__)\n",
    "class Red_pencil_promotion:\n",
    "    redpencil = []\n",
    "    \n",
    "    @classmethod\n",
    "    def add_to_redpencil(cls,obj):\n",
    "        cls.redpencil.append(obj)\n",
    "        \n",
    "    def __init__(self,prod_id,prod_name,original_price,discounted_price,promo_status,valid_till_date):\n",
    "        self.prod_id = prod_id\n",
    "        self.prod_name = prod_name\n",
    "        self.original_price = original_price\n",
    "        self.discounted_price = discounted_price\n",
    "        self.promo_status = promo_status\n",
    "        self.valid_till_date =valid_till_date\n",
    "        Red_pencil_promotion.add_to_redpencil(self)\n",
    "    \n",
    "    def get_promo_products(self):\n",
    "        return self.prod_id,self.prod_name,self.original_price,self.discounted_price,self.valid_till_date\n",
    "        \n",
    "    def end_promotion(self):\n",
    "        self.set_promo_status = \"Inactive\"\n",
    "        print(\"Promotion ended for \",self.prod_name)\n",
    "        print(\"----------------------------------\")\n",
    "        "
   ]
  },
  {
   "cell_type": "code",
   "execution_count": 100,
   "metadata": {},
   "outputs": [
    {
     "name": "stdout",
     "output_type": "stream",
     "text": [
      "{'prod_id': 1, 'prod_name': 'A', 'current_price': 100, 'stock': 100, 'price_change_date': '2020/01/01', 'promo_status': None} {'prod_id': 2, 'prod_name': 'B', 'current_price': 100, 'stock': 50, 'price_change_date': '2020/01/01', 'promo_status': None}\n"
     ]
    }
   ],
   "source": [
    "dealer1 = Dealer(111,'AKS')\n",
    "dealer2 = Dealer(222,'EFD')\n",
    "\n",
    "\n",
    "p1 = dealer1.add_products(1,'A',100,100,'2020/01/01')\n",
    "p2 = dealer2.add_products(2,'B',100,50,'2020/01/01')\n",
    "\n",
    "print(p1.__dict__,p2.__dict__)\n",
    "#p3 = dealer.add_products(3,'C',20,100,datetime.date(datetime.now()))\n",
    "\n",
    "\n",
    "#offer_id,new_price,valid_till_date,promo_status,isPencil\n"
   ]
  },
  {
   "cell_type": "markdown",
   "metadata": {},
   "source": []
  },
  {
   "cell_type": "code",
   "execution_count": 102,
   "metadata": {},
   "outputs": [
    {
     "name": "stdout",
     "output_type": "stream",
     "text": [
      "product:A, oldprice:90\n",
      "New_price: 10\n",
      "price_change_date 2020/03/01\n",
      "date 2020/04/02\n",
      "no_of_stable_days 32\n",
      "valid_discount = 88.88888888888889 %,False\n",
      "Promotion ended for  A\n",
      "----------------------------------\n",
      "product:B, oldprice:80\n",
      "New_price: 80\n",
      "price_change_date 2020/02/01\n",
      "date 2020/04/02\n",
      "no_of_stable_days 61\n",
      "valid_discount = 0.0 %,False\n",
      "Promotion ended for  B\n",
      "----------------------------------\n",
      "{'prod_id': 1, 'prod_name': 'A', 'original_price': 100, 'discounted_price': 90, 'promo_status': 'Active', 'valid_till_date': '2020/6/31'}\n",
      "(1, 'A', 100, 90, '2020/6/31')\n",
      "{'prod_id': 2, 'prod_name': 'B', 'original_price': 100, 'discounted_price': 80, 'promo_status': 'Active', 'valid_till_date': '2020/5/31'}\n",
      "(2, 'B', 100, 80, '2020/5/31')\n"
     ]
    }
   ],
   "source": [
    "off1 = Offer('off1',90,'2020/02/01','2020/6/31')\n",
    "off2 = Offer('off2',80,'2020/02/01','2020/5/31')\n",
    "off3 = Offer('off3',10,'2020/03/01','2020/5/31')\n",
    "\n",
    "#dealer1.update_price(p1,off1)\n",
    "#dealer2.update_price(p2,off2)\n",
    "dealer1.update_price(p1,off3)\n",
    "dealer2.update_price(p2,off2)\n",
    "#print(upd1.old_price)\n",
    "\n",
    "for x in Red_pencil_promotion.redpencil:\n",
    "    print(x.__dict__)\n",
    "    if x.promo_status == \"Active\":\n",
    "        print(x.get_promo_products())\n",
    "    #print(\"Product id:{} Product name:{} Original price:{} Discounted price:{} Valid till:{}\".format(x.prod_id,x.prod_name,x.original_price,x.discounted_price,x.valid_till_date))\n",
    "#     print(\"Product name:{}\",x.prod_name)\n",
    "#     print(\"\",x.original_price)\n",
    "#     print(\"\",x.discounted_price)"
   ]
  },
  {
   "cell_type": "code",
   "execution_count": 84,
   "metadata": {},
   "outputs": [
    {
     "name": "stdout",
     "output_type": "stream",
     "text": [
      "2020/04/02\n"
     ]
    }
   ],
   "source": [
    "import datetime\n",
    "print (datetime.datetime.now().strftime(\"%Y/%m/%d\"))"
   ]
  }
 ],
 "metadata": {
  "kernelspec": {
   "display_name": "Python 3",
   "language": "python",
   "name": "python3"
  },
  "language_info": {
   "codemirror_mode": {
    "name": "ipython",
    "version": 3
   },
   "file_extension": ".py",
   "mimetype": "text/x-python",
   "name": "python",
   "nbconvert_exporter": "python",
   "pygments_lexer": "ipython3",
   "version": "3.7.6"
  }
 },
 "nbformat": 4,
 "nbformat_minor": 4
}
