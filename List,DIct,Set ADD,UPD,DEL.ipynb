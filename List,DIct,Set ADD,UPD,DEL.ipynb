{
 "cells": [
  {
   "cell_type": "code",
   "execution_count": 7,
   "metadata": {},
   "outputs": [
    {
     "name": "stdout",
     "output_type": "stream",
     "text": [
      "[1, 2, 3, 4, 5, 6, 7]\n",
      "{1: 1, 2: 4, 3: 9, 4: 16, 5: 25, 6: 36}\n",
      "{1, 2, 3, 4, 5}\n"
     ]
    }
   ],
   "source": [
    "#ADD\n",
    "\n",
    "l1 = [1,2,3,4]\n",
    "l1.append(5)\n",
    "l1.extend((6,7))\n",
    "print(l1)\n",
    "\n",
    "d1 ={1:1,2:4,3:9,4:16}\n",
    "d1.setdefault(5,25)\n",
    "d1[6]=36\n",
    "print(d1)\n",
    "\n",
    "s1 = {1,2,3,4}\n",
    "s1.add(5) #can add only 1 element at a time\n",
    "print(s1)"
   ]
  },
  {
   "cell_type": "code",
   "execution_count": 13,
   "metadata": {},
   "outputs": [
    {
     "name": "stdout",
     "output_type": "stream",
     "text": [
      "[1, 2, 33, 4]\n",
      "{1: 1, 2: 4, 3: 99, 4: 16}\n",
      "{1, 2, 3, 4, 5, 6}\n",
      "{4}\n",
      "{1, 2, 3}\n",
      "{1, 2, 3, 5, 6}\n"
     ]
    }
   ],
   "source": [
    "#UPDATE\n",
    "\n",
    "l1 = [1,2,3,4]\n",
    "l1[2] = 33\n",
    "print(l1)\n",
    "\n",
    "d1 ={1:1,2:4,3:9,4:16}\n",
    "d1[3] = 99\n",
    "print(d1)\n",
    "\n",
    "s1 = {1,2,3,4}\n",
    "s2 = {4,5,6}\n",
    "s1.update(s2) \n",
    "print(s1)\n",
    "\n",
    "s1 = {1,2,3,4}\n",
    "s2 = {4,5,6}\n",
    "s1.intersection_update(s2)\n",
    "print(s1)\n",
    "\n",
    "s1 = {1,2,3,4}\n",
    "s2 = {4,5,6}\n",
    "s1.difference_update(s2)\n",
    "print(s1)\n",
    "\n",
    "s1 = {1,2,3,4}\n",
    "s2 = {4,5,6}\n",
    "s1.symmetric_difference_update(s2)\n",
    "print(s1)"
   ]
  },
  {
   "cell_type": "code",
   "execution_count": 32,
   "metadata": {},
   "outputs": [
    {
     "name": "stdout",
     "output_type": "stream",
     "text": [
      "[]\n",
      "[1, 2]\n",
      "[1, 4]\n",
      "[1, 2, 3]\n",
      "[1, 2, 4]\n"
     ]
    }
   ],
   "source": [
    "#DEL from list\n",
    "\n",
    "l1 = [1,2,3,4]\n",
    "l1.clear()\n",
    "print(l1)\n",
    "\n",
    "l1 = [1,2,3,4]\n",
    "del(l1[2:])\n",
    "print(l1)\n",
    "# del(l1)   \n",
    "# print(l1)  #throws ERR\n",
    "\n",
    "l1 = [1,2,3,4]\n",
    "del(l1[1:3])\n",
    "print(l1)\n",
    "\n",
    "l1 = [1,2,3,4]\n",
    "l1.pop()\n",
    "print(l1)\n",
    "\n",
    "l1 = [1,2,3,4]\n",
    "l1.remove(3)\n",
    "print(l1)\n"
   ]
  },
  {
   "cell_type": "code",
   "execution_count": 34,
   "metadata": {},
   "outputs": [
    {
     "name": "stdout",
     "output_type": "stream",
     "text": [
      "{}\n",
      "{1: 1, 2: 4, 3: 9}\n",
      "{1: 1, 2: 4, 3: 9, 4: 16}\n",
      "{1: 1, 3: 9, 4: 16, 5: 25}\n"
     ]
    }
   ],
   "source": [
    "#DEl from dict\n",
    "\n",
    "d1 ={1:1,2:4,3:9,4:16}\n",
    "d1.clear()\n",
    "print(d1)\n",
    "\n",
    "d1 ={1:1,2:4,3:9,4:16}\n",
    "d1.pop(4)    #same as list-remove\n",
    "print(d1)\n",
    "\n",
    "d1 ={1:1,2:4,3:9,4:16,5:25}\n",
    "d1.popitem() #last ele\n",
    "print(d1)\n",
    "\n",
    "d1 ={1:1,2:4,3:9,4:16,5:25}\n",
    "del(d1[2])\n",
    "print(d1)\n",
    "\n",
    "# d1 ={1:1,2:4,3:9,4:16,5:25}\n",
    "# del(d1)\n",
    "# print(d1)   #throws ERR"
   ]
  },
  {
   "cell_type": "code",
   "execution_count": 48,
   "metadata": {},
   "outputs": [
    {
     "name": "stdout",
     "output_type": "stream",
     "text": [
      "set()\n",
      "{1, 2, 4}\n",
      "{1, 3, 4}\n",
      "{3, 4, 5, 6, 7, 8, 9, 11}\n"
     ]
    }
   ],
   "source": [
    "#DEL from set\n",
    "\n",
    "s1 = {1,2,3,4}\n",
    "s1.clear() \n",
    "print(s1)\n",
    "\n",
    "s1 = {1,2,3,4}\n",
    "s1.discard(3) #same as list,dict remove \n",
    "s1.discard(5) #if not found,no err\n",
    "print(s1)\n",
    "\n",
    "s1 = {1,2,3,4}\n",
    "s1.remove(2) # if not present,keyerror\n",
    "print(s1)\n",
    "\n",
    "s1 = {11,2,3,4,5,6,7,8,9}\n",
    "s1.pop() #removes one arbitrary value \n",
    "print(s1)\n"
   ]
  }
 ],
 "metadata": {
  "kernelspec": {
   "display_name": "Python 3",
   "language": "python",
   "name": "python3"
  },
  "language_info": {
   "codemirror_mode": {
    "name": "ipython",
    "version": 3
   },
   "file_extension": ".py",
   "mimetype": "text/x-python",
   "name": "python",
   "nbconvert_exporter": "python",
   "pygments_lexer": "ipython3",
   "version": "3.7.6"
  }
 },
 "nbformat": 4,
 "nbformat_minor": 4
}
