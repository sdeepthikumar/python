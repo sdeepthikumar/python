{
 "cells": [
  {
   "cell_type": "markdown",
   "metadata": {},
   "source": [
    "1. Write a program to find product of all elements in a list."
   ]
  },
  {
   "cell_type": "code",
   "execution_count": 1,
   "metadata": {},
   "outputs": [
    {
     "name": "stdout",
     "output_type": "stream",
     "text": [
      "720\n"
     ]
    }
   ],
   "source": [
    "l = [1,2,3,4,5,6]\n",
    "p = 1\n",
    "for x in l:\n",
    "    p = p * x\n",
    "print(p)"
   ]
  },
  {
   "cell_type": "markdown",
   "metadata": {},
   "source": [
    "2. Write a program to count the number of strings where the string length is 2 or more and the first and last character\n",
    "are same from a given list of strings."
   ]
  },
  {
   "cell_type": "code",
   "execution_count": 6,
   "metadata": {},
   "outputs": [
    {
     "name": "stdout",
     "output_type": "stream",
     "text": [
      "ahdha\n",
      "lssdl\n",
      "hasdh\n",
      "3\n"
     ]
    }
   ],
   "source": [
    "def lst_chk(l):\n",
    "    count = 0\n",
    "    for x in l:\n",
    "        if x[0] == x[-1] and len(x) > 2:\n",
    "            count += 1\n",
    "            print(x)\n",
    "    return count\n",
    "            \n",
    "l = ['ahdha','cjjch','sjdn','s','lssdl','p','jsbdh','hasdh']\n",
    "print(lst_chk(l))"
   ]
  },
  {
   "cell_type": "markdown",
   "metadata": {},
   "source": [
    "3.Write a program to get a list, sorted in increasing order by the last element in each tuple from a given list of non-\n",
    "empty tuples."
   ]
  },
  {
   "cell_type": "code",
   "execution_count": 22,
   "metadata": {},
   "outputs": [
    {
     "name": "stdout",
     "output_type": "stream",
     "text": [
      "[(8, 4, 1), (9, 2), (6, 4, 3), (1, 5), (6, 10)]\n"
     ]
    }
   ],
   "source": [
    "def tup_sort(l):\n",
    "    l1 = []\n",
    "    l2 = []\n",
    "    for x in l:\n",
    "        l1.append(x[::-1])\n",
    "    l1.sort()\n",
    "    for y in l1:\n",
    "        l2.append(y[::-1])\n",
    "    return l2\n",
    "\n",
    "l = [(1,5),(6,4,3),(6,10),(9,2),(8,4,1)]\n",
    "print(tup_sort(l))    "
   ]
  },
  {
   "cell_type": "code",
   "execution_count": 10,
   "metadata": {},
   "outputs": [
    {
     "name": "stdout",
     "output_type": "stream",
     "text": [
      "[(5, 1), (10, 1), (9, 4), (8, 5), (7, 6), (2, 9)]\n"
     ]
    }
   ],
   "source": [
    "d = {10:1,5:1,7:6,9:4,8:5,2:9}\n",
    "l1 = []\n",
    "for x in d.items():\n",
    "    l1.append(x[::-1])\n",
    "    l1.sort()\n",
    "l2 = []\n",
    "for y in l1:\n",
    "    l2.append(y[::-1])\n",
    "print(l2)"
   ]
  },
  {
   "cell_type": "markdown",
   "metadata": {},
   "source": [
    "4. Write a program to generate a 3 * 4 * 6  3D array whose each element is *."
   ]
  },
  {
   "cell_type": "code",
   "execution_count": 32,
   "metadata": {},
   "outputs": [
    {
     "name": "stdout",
     "output_type": "stream",
     "text": [
      "[[['*', '*', '*', '*', '*', '*'], ['*', '*', '*', '*', '*', '*'], ['*', '*', '*', '*', '*', '*'], ['*', '*', '*', '*', '*', '*']], [['*', '*', '*', '*', '*', '*'], ['*', '*', '*', '*', '*', '*'], ['*', '*', '*', '*', '*', '*'], ['*', '*', '*', '*', '*', '*']], [['*', '*', '*', '*', '*', '*'], ['*', '*', '*', '*', '*', '*'], ['*', '*', '*', '*', '*', '*'], ['*', '*', '*', '*', '*', '*']]]\n"
     ]
    }
   ],
   "source": [
    "l1=[]\n",
    "l2=[]\n",
    "l3=[]\n",
    "for x in range(0,3):\n",
    "    l2 =[]\n",
    "    for y in range(0,4):\n",
    "        l1 =[]\n",
    "        for x in range(0,6):\n",
    "            l1.append('*')\n",
    "        l2.append(l1)\n",
    "    l3.append(l2)\n",
    "print(l3)\n"
   ]
  },
  {
   "cell_type": "code",
   "execution_count": 46,
   "metadata": {},
   "outputs": [
    {
     "name": "stdout",
     "output_type": "stream",
     "text": [
      "[[['*', '*', '*', '*', '*', '*'], ['*', '*', '*', '*', '*', '*'], ['*', '*', '*', '*', '*', '*'], ['*', '*', '*', '*', '*', '*']], [['*', '*', '*', '*', '*', '*'], ['*', '*', '*', '*', '*', '*'], ['*', '*', '*', '*', '*', '*'], ['*', '*', '*', '*', '*', '*']], [['*', '*', '*', '*', '*', '*'], ['*', '*', '*', '*', '*', '*'], ['*', '*', '*', '*', '*', '*'], ['*', '*', '*', '*', '*', '*']]]\n"
     ]
    }
   ],
   "source": [
    "array = [[['*' for x in range(6)]for x in range(4)]for x in range(3)]\n",
    "print(array)"
   ]
  },
  {
   "cell_type": "markdown",
   "metadata": {},
   "source": [
    "5.  Write a program to check whether a list contains a given sublist."
   ]
  },
  {
   "cell_type": "code",
   "execution_count": 47,
   "metadata": {},
   "outputs": [
    {
     "name": "stdout",
     "output_type": "stream",
     "text": [
      "True\n"
     ]
    }
   ],
   "source": [
    "l = [[1,2,3],[3,4,6],[6,4,7],[9,6,8],[4,5,6]]\n",
    "if [3,4,6] in l:\n",
    "    print(\"True\")"
   ]
  },
  {
   "cell_type": "code",
   "execution_count": 55,
   "metadata": {},
   "outputs": [
    {
     "name": "stdout",
     "output_type": "stream",
     "text": [
      "[34, 2, 140, 45, 25]\n"
     ]
    }
   ],
   "source": [
    "l1 = [25,6,1,45,32,120,140,34,2]\n",
    "l2 = [34,67,12,45,140,25,2,65,61]\n",
    "\n",
    "set1 = set(l1).intersection(set(l2))\n",
    "print(list(set1))"
   ]
  },
  {
   "cell_type": "markdown",
   "metadata": {},
   "source": [
    "7. Write a program to print sum of 2nd largest and 2nd smallest element in a list."
   ]
  },
  {
   "cell_type": "code",
   "execution_count": 61,
   "metadata": {},
   "outputs": [
    {
     "name": "stdout",
     "output_type": "stream",
     "text": [
      "132\n"
     ]
    }
   ],
   "source": [
    "l = [25,6,1,45,32,120,130,140,34,2]\n",
    "l.sort()\n",
    "sum = int(l[1]) + int(l[-2])\n",
    "print(sum)"
   ]
  },
  {
   "cell_type": "markdown",
   "metadata": {},
   "source": [
    "8. Write a program to print list of list element whose sum is 10 in given list.\n",
    "\n",
    "l = [1,5,3,6,8,9,2,7]\n",
    "Output = [[1,9],[3,7],[8,2]]"
   ]
  },
  {
   "cell_type": "code",
   "execution_count": 65,
   "metadata": {},
   "outputs": [
    {
     "name": "stdout",
     "output_type": "stream",
     "text": [
      "[(1, 9), (2, 8), (3, 7)]\n"
     ]
    }
   ],
   "source": [
    "l = [1,5,3,6,8,9,2,7]\n",
    "l1 = []\n",
    "for x in range(len(l)//2):\n",
    "    if 10-x in l:\n",
    "        l1.append((x,10-x))\n",
    "print(l1)"
   ]
  },
  {
   "cell_type": "markdown",
   "metadata": {},
   "source": [
    "9. Write a program to print a list whose 1st element should largest and 2nd should be smallest then 3rd should be 2nd \n",
    "largest and 4th should be 2nd smallest and so on.\n",
    "\n",
    "sample:\n",
    "\n",
    "input = [5,6,7,2,3,4]\n",
    "\n",
    "output = [7,2,6,3,5,4]"
   ]
  },
  {
   "cell_type": "code",
   "execution_count": 116,
   "metadata": {},
   "outputs": [
    {
     "name": "stdout",
     "output_type": "stream",
     "text": [
      "[7, 2, 6, 3, 5, 4]\n"
     ]
    }
   ],
   "source": [
    "l = [5,6,7,2,3,4]\n",
    "l.sort(reverse=True)\n",
    "#print(l)\n",
    "l1=[]\n",
    "#print(len(l)//2) \n",
    "for x in range(0,(len(l)//2)):\n",
    "    l1.append(l[x])\n",
    "    l1.append(l[-x-1])\n",
    "    if l[x] == l[-x-1]:\n",
    "        leng = odd\n",
    "else:\n",
    "    if len(l) % 2 != 0:\n",
    "        l1.append(l[(len(l)//2)])\n",
    "print(l1)"
   ]
  },
  {
   "cell_type": "markdown",
   "metadata": {},
   "source": [
    "10. Write a Python program to insert a given string at the beginning of all items in a list. \n",
    "Sample list : [1,2,3,4], \n",
    "\n",
    "string : emp\n",
    "\n",
    "Expected output : ['emp1', 'emp2', 'emp3', 'emp4']"
   ]
  },
  {
   "cell_type": "code",
   "execution_count": 119,
   "metadata": {},
   "outputs": [
    {
     "name": "stdout",
     "output_type": "stream",
     "text": [
      "['emp1', 'emp2', 'emp3', 'emp4']\n"
     ]
    }
   ],
   "source": [
    "l = [1,2,3,4]\n",
    "l1 =[]\n",
    "st = 'emp'\n",
    "for x in l:\n",
    "    l1.append(st+str(x))\n",
    "print(l1)"
   ]
  }
 ],
 "metadata": {
  "kernelspec": {
   "display_name": "Python 3",
   "language": "python",
   "name": "python3"
  },
  "language_info": {
   "codemirror_mode": {
    "name": "ipython",
    "version": 3
   },
   "file_extension": ".py",
   "mimetype": "text/x-python",
   "name": "python",
   "nbconvert_exporter": "python",
   "pygments_lexer": "ipython3",
   "version": "3.7.6"
  }
 },
 "nbformat": 4,
 "nbformat_minor": 4
}
