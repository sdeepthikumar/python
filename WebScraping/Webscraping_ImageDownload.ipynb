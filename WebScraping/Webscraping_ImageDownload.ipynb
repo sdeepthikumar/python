{
 "cells": [
  {
   "cell_type": "code",
   "execution_count": 2,
   "metadata": {},
   "outputs": [],
   "source": [
    "import requests\n",
    "from bs4 import BeautifulSoup"
   ]
  },
  {
   "cell_type": "code",
   "execution_count": 4,
   "metadata": {},
   "outputs": [
    {
     "name": "stdout",
     "output_type": "stream",
     "text": [
      "<Response [403]>\n"
     ]
    }
   ],
   "source": [
    "image_resp = requests.get(\"https://www.pexels.com/collections/breakfast-time-cydtk1d/\")\n",
    "# fp = open(\"image1.jpeg\",'wb')\n",
    "# fp.write(image_resp.content)\n",
    "# fp.close()\n",
    "print(image_resp)"
   ]
  },
  {
   "cell_type": "code",
   "execution_count": 9,
   "metadata": {},
   "outputs": [
    {
     "name": "stdout",
     "output_type": "stream",
     "text": [
      "[]\n"
     ]
    }
   ],
   "source": [
    "response = requests.get(\"https://www.pexels.com/collections/breakfast-time-cydtk1d/\")\n",
    "soup = BeautifulSoup(response.text,\"html.parser\")\n",
    "\n",
    "images = soup.find_all(\"div\",attrs = {\"class\":\"hide-featured-badge hide-favorite-badge\"})\n",
    "print(images)\n",
    "\n",
    "# for i,image in enumerate(images):\n",
    "#     fp = open(\"image{}.txt\".format(i),"
   ]
  },
  {
   "cell_type": "code",
   "execution_count": 8,
   "metadata": {},
   "outputs": [],
   "source": [
    "from selenium import webdriver\n",
    "from selenium.webdriver.chrome.options import Options"
   ]
  },
  {
   "cell_type": "code",
   "execution_count": 7,
   "metadata": {},
   "outputs": [
    {
     "name": "stdout",
     "output_type": "stream",
     "text": [
      "None\n"
     ]
    }
   ],
   "source": [
    "chrome_options = webdriver.ChromeOptions()\n",
    "chrome_options.add_argument(\"--headerless\")\n",
    "\n",
    "driver = webdriver.Chrome(\"E:\\SoftWare\\chromedriver.exe\",chrome_options)\n",
    "\n",
    "url = \"https://www.pexels.com/collections/breakfast-time-cydtk1d/\"\n",
    "driver.get(url)\n",
    "driver.maximize_window()\n",
    "\n",
    "images = driver.find_element_by_xpath(\"//a[@class = \"\"]\")\n",
    "\n",
    "\n",
    "response = requests.get(\"https://www.pexels.com/collections/breakfast-time-cydtk1d/\")\n",
    "soup = BeautifulSoup(response.content,\"html.parser\")\n",
    "\n",
    "image_columns = soup.find(\"a\",attrs ={\"class\":\"photos__column\"}) \n",
    "print(image_columns)\n",
    "\n",
    "# for columns in image_columns:\n",
    "#     image_url = columns.find()\n",
    "\n",
    "# data-photo-modal-image-download-link"
   ]
  },
  {
   "cell_type": "code",
   "execution_count": 97,
   "metadata": {
    "scrolled": true
   },
   "outputs": [
    {
     "name": "stdout",
     "output_type": "stream",
     "text": [
      "Image Count 4\n",
      "--> //html/body/div[1]/div[2]/div[2]/div[1]/div[1]/article/a[1]/img\n",
      "--> //html/body/div[1]/div[2]/div[2]/div[1]/div[2]/article/a[1]/img\n",
      "--> //html/body/div[1]/div[2]/div[2]/div[1]/div[3]/article/a[1]/img\n",
      "--> //html/body/div[1]/div[2]/div[2]/div[1]/div[4]/article/a[1]/img\n"
     ]
    }
   ],
   "source": [
    "from selenium import webdriver\n",
    "from selenium.webdriver.chrome.options import Options\n",
    "from selenium.webdriver.support import expected_conditions as EC\n",
    "from selenium.webdriver.common.by import By\n",
    "from selenium.webdriver.support.ui import WebDriverWait\n",
    "from selenium.webdriver.remote.webelement import WebElement\n",
    "from selenium.webdriver.common.action_chains import ActionChains\n",
    "import time\n",
    "\n",
    "chrome_options = webdriver.ChromeOptions()\n",
    "prefs = {\"download.default_directory\": \"E:/pythopgmdownload\"}\n",
    "chrome_options.add_experimental_option(\"prefs\", prefs)\n",
    "prefs = {'profile.default_content_setting_values.automatic_downloads': 1}\n",
    "chrome_options.add_experimental_option(\"prefs\", prefs)\n",
    "#chrome_options.add_argument(\"--headless\")\n",
    "\n",
    "driver = webdriver.Chrome(\"E:\\SoftWare\\chromedriver.exe\",options=chrome_options)\n",
    "\n",
    "url = \"https://www.pexels.com/collections/breakfast-time-cydtk1d/\"\n",
    "driver.get(url)\n",
    "driver.maximize_window() \n",
    "images = driver.find_elements_by_xpath(\"//html/body/div[1]/div[2]/div[2]/div[1]/div\")\n",
    "new_element = ''\n",
    "driver.find_element_by_xpath(\"//html/body/div[1]/div[2]/div[2]/div[1]/div[1]/article/a[1]/img\").click()\n",
    "print(\"Image Count\" , len(images))\n",
    "i=1\n",
    "new_element=''\n",
    "for image in images:\n",
    "    new_element=\"//html/body/div[1]/div[2]/div[2]/div[1]/div[{}]/article/a[1]/img\".format(i)\n",
    "    print(\"-->\",new_element)\n",
    "    element = driver.find_element_by_xpath(new_element)\n",
    "    actions = ActionChains(driver)\n",
    "    actions.move_to_element(element)\n",
    "    driver.execute_script(\"arguments[0].click();\", element)\n",
    "    driver.find_element_by_xpath(\"//*[@id='photo-page-top']/div/div[2]/div/div/div/div/a\").click()\n",
    "    driver.find_element_by_xpath(\"//html/body\").click()\n",
    "    driver.find_element_by_xpath(\"//html/body\").click()\n",
    "    i+=1"
   ]
  },
  {
   "cell_type": "code",
   "execution_count": null,
   "metadata": {},
   "outputs": [],
   "source": []
  },
  {
   "cell_type": "code",
   "execution_count": null,
   "metadata": {},
   "outputs": [],
   "source": []
  }
 ],
 "metadata": {
  "kernelspec": {
   "display_name": "Python 3",
   "language": "python",
   "name": "python3"
  },
  "language_info": {
   "codemirror_mode": {
    "name": "ipython",
    "version": 3
   },
   "file_extension": ".py",
   "mimetype": "text/x-python",
   "name": "python",
   "nbconvert_exporter": "python",
   "pygments_lexer": "ipython3",
   "version": "3.7.6"
  }
 },
 "nbformat": 4,
 "nbformat_minor": 4
}
