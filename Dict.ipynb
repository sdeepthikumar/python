{
 "cells": [
  {
   "cell_type": "code",
   "execution_count": 1,
   "metadata": {},
   "outputs": [
    {
     "name": "stdout",
     "output_type": "stream",
     "text": [
      "{1: 1, 2: 4, 3: 9, 4: 16, 5: 25, 6: 36, 7: 49, 8: 64, 9: 81, 10: 100}\n"
     ]
    }
   ],
   "source": [
    "d ={}\n",
    "for x in range(1,11):\n",
    "    d[x] = x * x\n",
    "print(d)"
   ]
  },
  {
   "cell_type": "code",
   "execution_count": 2,
   "metadata": {},
   "outputs": [
    {
     "name": "stdout",
     "output_type": "stream",
     "text": [
      "{(1, 10): 2, (11, 20): 4, (21, 30): 1, (31, 40): 1, (41, 50): 0, (51, 60): 0, (61, 70): 0, (71, 80): 0, (81, 90): 1, (91, 100): 1}\n"
     ]
    }
   ],
   "source": [
    "l = [10,15,20,16,25,39,14,89,10,100]\n",
    "dct = {}\n",
    "\n",
    "for num in range(1,92,10):\n",
    "    dct.setdefault((num,num+9),0)\n",
    "\n",
    "\n",
    "for num in l:\n",
    "    for x in dct:\n",
    "        if num > x[0] and num <= x[1]:\n",
    "            dct[x] += 1\n",
    "            break;\n",
    "print(dct)"
   ]
  },
  {
   "cell_type": "code",
   "execution_count": 47,
   "metadata": {},
   "outputs": [
    {
     "name": "stdout",
     "output_type": "stream",
     "text": [
      "{'a': 5, 'b': 8, 'c': 7, 'd': 8}\n"
     ]
    }
   ],
   "source": [
    "s = \"aaaaabbbbbbbbcccccccdddddddd\"\n",
    "dct = {}\n",
    "for x in s:\n",
    "    if x not in dct:\n",
    "        dct.setdefault(x,s.count(x))\n",
    "print(dct)\n"
   ]
  },
  {
   "cell_type": "code",
   "execution_count": 60,
   "metadata": {},
   "outputs": [
    {
     "name": "stdout",
     "output_type": "stream",
     "text": [
      "phy\n",
      "chem\n"
     ]
    }
   ],
   "source": [
    "dct = {\"maths\":55,\"phy\":35,\"chem\":25,\"eng\":80}\n",
    "value = dct.values()\n",
    "\n",
    "for key,value in dct.items():\n",
    "    if value <= 40:\n",
    "        print(key)"
   ]
  },
  {
   "cell_type": "code",
   "execution_count": null,
   "metadata": {},
   "outputs": [],
   "source": []
  }
 ],
 "metadata": {
  "kernelspec": {
   "display_name": "Python 3",
   "language": "python",
   "name": "python3"
  },
  "language_info": {
   "codemirror_mode": {
    "name": "ipython",
    "version": 3
   },
   "file_extension": ".py",
   "mimetype": "text/x-python",
   "name": "python",
   "nbconvert_exporter": "python",
   "pygments_lexer": "ipython3",
   "version": "3.7.6"
  }
 },
 "nbformat": 4,
 "nbformat_minor": 4
}
