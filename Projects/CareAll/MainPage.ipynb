{
 "cells": [
  {
   "cell_type": "code",
   "execution_count": 2,
   "metadata": {},
   "outputs": [],
   "source": [
    "from CareAllSystem import CareAllSystem\n",
    "from ElderMembers import ElderMembers\n",
    "from YoungMembers import YoungMembers"
   ]
  },
  {
   "cell_type": "code",
   "execution_count": 4,
   "metadata": {},
   "outputs": [],
   "source": [
    "#register members\n",
    "\n",
    "cs1 = ElderMembers(1,'CS','John',50,'M',9999999990,'NY',True)\n",
    "cs2 = ElderMembers(2,'CS','Harry',60,'M',9999999991,'TX',True)\n",
    "cs3 = ElderMembers(3,'CS','Sam',57,'M',9999999992,'PY',True)\n",
    "cs4 = ElderMembers(4,'CS','Kate',70,'F',9999999993,'SE',True)\n",
    "cs5 = ElderMembers(5,'CS','Martha',62,'F',9999999994,'WS',True)\n",
    "cs6 = ElderMembers(6,'CS','Lorence',66,'M',9999999995,'TG',True)\n",
    "cs7 = ElderMembers(7,'CS','Margaret',86,'F',9999999996,'ER',True)\n",
    "cs8 = ElderMembers(8,'CS','Katrina',81,'F',9999999997,'HS',True)\n",
    "\n",
    "ct1 = YoungMembers(101,'CT','Emma',27,'F',8999999990,'MT',True)\n",
    "ct2 = YoungMembers(102,'CT','Paul',28,'M',8999999991,'PF',True)\n",
    "ct3 = YoungMembers(103,'CT','Jack',24,'M',8999999992,'SB',True)\n",
    "ct4 = YoungMembers(104,'CT','Dona',29,'F',8999999993,'QA',True)\n",
    "ct5 = YoungMembers(105,'CT','Mary',25,'F',8999999994,'HW',True)\n"
   ]
  },
  {
   "cell_type": "code",
   "execution_count": 5,
   "metadata": {},
   "outputs": [
    {
     "name": "stdout",
     "output_type": "stream",
     "text": [
      "Elders registered: \n",
      "User_id :1 Name :John Age :50 Phone :9999999990 City: NY Rating :0\n",
      "User_id :2 Name :Harry Age :60 Phone :9999999991 City: TX Rating :0\n",
      "User_id :3 Name :Sam Age :57 Phone :9999999992 City: PY Rating :0\n",
      "User_id :4 Name :Kate Age :70 Phone :9999999993 City: SE Rating :0\n",
      "User_id :5 Name :Martha Age :62 Phone :9999999994 City: WS Rating :0\n",
      "User_id :6 Name :Lorence Age :66 Phone :9999999995 City: TG Rating :0\n",
      "User_id :7 Name :Margaret Age :86 Phone :9999999996 City: ER Rating :0\n",
      "User_id :8 Name :Katrina Age :81 Phone :9999999997 City: HS Rating :0\n"
     ]
    }
   ],
   "source": [
    "#Find all elders\n",
    "\n",
    "print(\"Elders registered: \")\n",
    "for care_seeker in ElderMembers.care_seekers:\n",
    "    print(\"User_id :{} Name :{} Age :{} Phone :{} City: {} Rating :{}\".format(care_seeker.userid,care_seeker.name,care_seeker.age,care_seeker.phone,care_seeker.city,care_seeker.average_rating))"
   ]
  },
  {
   "cell_type": "code",
   "execution_count": 6,
   "metadata": {},
   "outputs": [
    {
     "name": "stdout",
     "output_type": "stream",
     "text": [
      "Caretakers : \n",
      "User_id :101 Name :Emma Age :27 Phone :8999999990 City: MT Rating :0\n",
      "User_id :102 Name :Paul Age :28 Phone :8999999991 City: PF Rating :0\n",
      "User_id :103 Name :Jack Age :24 Phone :8999999992 City: SB Rating :0\n",
      "User_id :104 Name :Dona Age :29 Phone :8999999993 City: QA Rating :0\n",
      "User_id :105 Name :Mary Age :25 Phone :8999999994 City: HW Rating :0\n"
     ]
    }
   ],
   "source": [
    "#Find all caretakers\n",
    "\n",
    "print(\"Caretakers : \")\n",
    "for care_taker in YoungMembers.care_takers:\n",
    "    print(\"User_id :{} Name :{} Age :{} Phone :{} City: {} Rating :{}\".format(care_taker.userid,care_taker.name,care_taker.age,care_taker.phone,care_taker.city,care_taker.average_rating))"
   ]
  },
  {
   "cell_type": "code",
   "execution_count": 7,
   "metadata": {},
   "outputs": [
    {
     "name": "stdout",
     "output_type": "stream",
     "text": [
      "Hi John. Greetings! Emma has requested for approval as your caretaker.Please enter Y to approve or N to reject : Y\n",
      "Request Approved.\n",
      "Emma has been assigned as caretaker of John\n",
      "\n",
      "Hi Harry. Greetings! Emma has requested for approval as your caretaker.Please enter Y to approve or N to reject : Y\n",
      "Request Approved.\n",
      "Emma has been assigned as caretaker of Harry\n",
      "\n",
      "Hi Sam. Greetings! Emma has requested for approval as your caretaker.Please enter Y to approve or N to reject : Y\n",
      "Request Approved.\n",
      "Emma has been assigned as caretaker of Sam\n",
      "\n",
      "Hi Kate. Greetings! Emma has requested for approval as your caretaker.Please enter Y to approve or N to reject : Y\n",
      "Request Approved.\n",
      "Emma has been assigned as caretaker of Kate\n",
      "\n",
      "Hi Martha. Greetings! Paul has requested for approval as your caretaker.Please enter Y to approve or N to reject : Y\n",
      "Request Approved.\n",
      "Paul has been assigned as caretaker of Martha\n",
      "\n",
      "Hi Lorence. Greetings! Jack has requested for approval as your caretaker.Please enter Y to approve or N to reject : N\n",
      "Request Rejected\n",
      "Hi Margaret. Greetings! Dona has requested for approval as your caretaker.Please enter Y to approve or N to reject : Y\n",
      "Request Approved.\n",
      "Dona has been assigned as caretaker of Margaret\n",
      "\n"
     ]
    }
   ],
   "source": [
    "#caretaker requests for approval,\n",
    "#careseeker approves(change availability status,assign caretaker) or rejects.\n",
    "\n",
    "print(ct1.seek_approval(cs1))\n",
    "print(ct1.seek_approval(cs2))\n",
    "print(ct1.seek_approval(cs3))\n",
    "print(ct1.seek_approval(cs4))\n",
    "print(ct2.seek_approval(cs5))\n",
    "print(ct3.seek_approval(cs6))\n",
    "print(ct4.seek_approval(cs7))"
   ]
  },
  {
   "cell_type": "code",
   "execution_count": 8,
   "metadata": {},
   "outputs": [
    {
     "name": "stdout",
     "output_type": "stream",
     "text": [
      "Elder: id 1 name: John, Caretaker:id 101 name:Emma\n",
      "Elder: id 2 name: Harry, Caretaker:id 101 name:Emma\n",
      "Elder: id 3 name: Sam, Caretaker:id 101 name:Emma\n",
      "Elder: id 4 name: Kate, Caretaker:id 101 name:Emma\n",
      "Elder: id 5 name: Martha, Caretaker:id 102 name:Paul\n",
      "Elder not assigned\n",
      "Elder: id 7 name: Margaret, Caretaker:id 104 name:Dona\n",
      "Elder not assigned\n"
     ]
    }
   ],
   "source": [
    "#get caretaker tagged to a careseeker\n",
    "for seeker in ElderMembers.care_seekers:\n",
    "    if seeker.status == False:\n",
    "        print(\"Elder: id {} name: {}, Caretaker:id {} name:{}\".format(seeker.userid,seeker.name,seeker.caretaker_id,seeker.caretaker_name))\n",
    "    else:\n",
    "        print(\"Elder not assigned\")"
   ]
  },
  {
   "cell_type": "code",
   "execution_count": 9,
   "metadata": {},
   "outputs": [
    {
     "name": "stdout",
     "output_type": "stream",
     "text": [
      "Caretaker: name: Emma , Elders assigned :['John', 'Harry', 'Sam', 'Kate']\n",
      "Caretaker: name: Paul , Elders assigned :['Martha']\n",
      "Caretaker: name: Jack , Elders assigned :[]\n",
      "Caretaker: name: Dona , Elders assigned :['Margaret']\n",
      "Caretaker: name: Mary , Elders assigned :[]\n"
     ]
    }
   ],
   "source": [
    "#get careseekers under a caretaker\n",
    "for caretaker in YoungMembers.care_takers:\n",
    "    elders_assigned = [elder.name for elder in caretaker.careseeker_list]\n",
    "    print(\"Caretaker: name: {} , Elders assigned :{}\".format(caretaker.name,elders_assigned))"
   ]
  },
  {
   "cell_type": "code",
   "execution_count": 10,
   "metadata": {},
   "outputs": [
    {
     "name": "stdout",
     "output_type": "stream",
     "text": [
      "Members available for care: \n",
      "User_id :6 Name :Lorence Age :66 Phone :9999999995 City: TG Rating: 0\n",
      "User_id :8 Name :Katrina Age :81 Phone :9999999997 City: HS Rating: 0\n"
     ]
    }
   ],
   "source": [
    "#Find available careseekers\n",
    "\n",
    "available_cs = ct1.find_care_seekers()\n",
    "print(\"Members available for care: \")\n",
    "for care_seeker in available_cs:\n",
    "    print(\"User_id :{} Name :{} Age :{} Phone :{} City: {} Rating: {}\".format(care_seeker.userid,care_seeker.name,care_seeker.age,care_seeker.phone,care_seeker.city,care_seeker.average_rating))"
   ]
  },
  {
   "cell_type": "code",
   "execution_count": 11,
   "metadata": {},
   "outputs": [
    {
     "name": "stdout",
     "output_type": "stream",
     "text": [
      "Caretakers available: \n",
      "User_id :102 Name :Paul Age :28 Phone :8999999991 City: PF Rating :0\n",
      "User_id :103 Name :Jack Age :24 Phone :8999999992 City: SB Rating :0\n",
      "User_id :104 Name :Dona Age :29 Phone :8999999993 City: QA Rating :0\n",
      "User_id :105 Name :Mary Age :25 Phone :8999999994 City: HW Rating :0\n"
     ]
    }
   ],
   "source": [
    "#Find available caretakers\n",
    "\n",
    "available_ct = cs1.find_caretakers()\n",
    "print(\"Caretakers available: \")\n",
    "for care_taker in available_ct:\n",
    "    print(\"User_id :{} Name :{} Age :{} Phone :{} City: {} Rating :{}\".format(care_taker.userid,care_taker.name,care_taker.age,care_taker.phone,care_taker.city,care_taker.average_rating))"
   ]
  },
  {
   "cell_type": "code",
   "execution_count": 12,
   "metadata": {},
   "outputs": [
    {
     "name": "stdout",
     "output_type": "stream",
     "text": [
      "Sorry! Elder member is not available. \n"
     ]
    }
   ],
   "source": [
    "#Case:when elder is not available\n",
    "print(ct2.seek_approval(cs2))\n"
   ]
  },
  {
   "cell_type": "code",
   "execution_count": 13,
   "metadata": {},
   "outputs": [
    {
     "data": {
      "text/plain": [
       "'Sorry! Caretaker is not available. '"
      ]
     },
     "execution_count": 13,
     "metadata": {},
     "output_type": "execute_result"
    }
   ],
   "source": [
    "#case: when caretaker is already assigned\n",
    "ct1.seek_approval(cs8)"
   ]
  },
  {
   "cell_type": "code",
   "execution_count": 14,
   "metadata": {},
   "outputs": [
    {
     "data": {
      "text/plain": [
       "'Please request elder for approval'"
      ]
     },
     "execution_count": 14,
     "metadata": {},
     "output_type": "execute_result"
    }
   ],
   "source": [
    "#case: trying to assign an elder directly\n",
    "ct3.assign_careseeker(cs1)"
   ]
  },
  {
   "cell_type": "code",
   "execution_count": 15,
   "metadata": {},
   "outputs": [],
   "source": [
    "#rate_user\n",
    "ct1.rate_users(5)\n",
    "ct1.rate_users(4)\n",
    "ct1.rate_users(3)\n",
    "ct1.rate_users(3)\n",
    "ct1.rate_users(5)\n",
    "\n",
    "\n",
    "ct2.rate_users(5)\n",
    "ct2.rate_users(1)\n",
    "\n",
    "\n",
    "ct3.rate_users(5)\n",
    "ct3.rate_users(2)\n",
    "ct3.rate_users(4)\n",
    "\n",
    "\n",
    "ct4.rate_users(2)\n",
    "ct4.rate_users(2)\n",
    "ct4.rate_users(4)\n",
    "\n",
    "ct5.rate_users(5)\n",
    "ct5.rate_users(2)\n",
    "\n",
    "cs1.rate_users(3)\n",
    "cs1.rate_users(5)\n",
    "\n",
    "cs2.rate_users(3)\n",
    "cs2.rate_users(3)\n",
    "\n",
    "cs3.rate_users(1)\n",
    "cs3.rate_users(2)\n",
    "cs3.rate_users(3)\n",
    "\n",
    "cs4.rate_users(5)\n",
    "cs4.rate_users(5)\n",
    "\n",
    "cs5.rate_users(3)\n",
    "cs5.rate_users(2)"
   ]
  },
  {
   "cell_type": "code",
   "execution_count": 16,
   "metadata": {},
   "outputs": [
    {
     "name": "stdout",
     "output_type": "stream",
     "text": [
      "Caretakers : \n",
      "User_id :101 Name :Emma Age :27 Phone :8999999990 City: MT Rating :4.0\n",
      "User_id :102 Name :Paul Age :28 Phone :8999999991 City: PF Rating :3.0\n",
      "User_id :103 Name :Jack Age :24 Phone :8999999992 City: SB Rating :3.7\n",
      "User_id :104 Name :Dona Age :29 Phone :8999999993 City: QA Rating :2.7\n",
      "User_id :105 Name :Mary Age :25 Phone :8999999994 City: HW Rating :3.5\n"
     ]
    }
   ],
   "source": [
    "#Find all caretakers with rating\n",
    "\n",
    "print(\"Caretakers : \")\n",
    "for care_taker in YoungMembers.care_takers:\n",
    "    print(\"User_id :{} Name :{} Age :{} Phone :{} City: {} Rating :{}\".format(care_taker.userid,care_taker.name,care_taker.age,care_taker.phone,care_taker.city,care_taker.average_rating))"
   ]
  },
  {
   "cell_type": "code",
   "execution_count": 17,
   "metadata": {},
   "outputs": [
    {
     "name": "stdout",
     "output_type": "stream",
     "text": [
      "Elders registered: \n",
      "User_id :1 Name :John Age :50 Phone :9999999990 City: NY Rating :4.0\n",
      "User_id :2 Name :Harry Age :60 Phone :9999999991 City: TX Rating :3.0\n",
      "User_id :3 Name :Sam Age :57 Phone :9999999992 City: PY Rating :2.0\n",
      "User_id :4 Name :Kate Age :70 Phone :9999999993 City: SE Rating :5.0\n",
      "User_id :5 Name :Martha Age :62 Phone :9999999994 City: WS Rating :2.5\n",
      "User_id :6 Name :Lorence Age :66 Phone :9999999995 City: TG Rating :0\n",
      "User_id :7 Name :Margaret Age :86 Phone :9999999996 City: ER Rating :0\n",
      "User_id :8 Name :Katrina Age :81 Phone :9999999997 City: HS Rating :0\n"
     ]
    }
   ],
   "source": [
    "#Find all elders with rating\n",
    "\n",
    "print(\"Elders registered: \")\n",
    "for care_seeker in ElderMembers.care_seekers:\n",
    "    print(\"User_id :{} Name :{} Age :{} Phone :{} City: {} Rating :{}\".format(care_seeker.userid,care_seeker.name,care_seeker.age,care_seeker.phone,care_seeker.city,care_seeker.average_rating))"
   ]
  },
  {
   "cell_type": "code",
   "execution_count": 18,
   "metadata": {},
   "outputs": [
    {
     "name": "stdout",
     "output_type": "stream",
     "text": [
      "Name:Emma rating:4.0\n"
     ]
    }
   ],
   "source": [
    "print(\"Name:{} rating:{}\".format(ct1.name,ct1.get_rating()))"
   ]
  },
  {
   "cell_type": "code",
   "execution_count": 19,
   "metadata": {},
   "outputs": [
    {
     "name": "stdout",
     "output_type": "stream",
     "text": [
      "['Wonderful service.Loved it!', 'Best service.!']\n"
     ]
    }
   ],
   "source": [
    "ct1.add_review(\"Wonderful service.Loved it!\")\n",
    "ct1.add_review(\"Best service.!\")\n",
    "\n",
    "print(ct1.get_review())"
   ]
  },
  {
   "cell_type": "code",
   "execution_count": 22,
   "metadata": {},
   "outputs": [
    {
     "name": "stdout",
     "output_type": "stream",
     "text": [
      "150000\n"
     ]
    }
   ],
   "source": [
    "#allocate funds\n",
    "cs1.allocate_funds(50000)\n",
    "print(cs1.account_balance)"
   ]
  },
  {
   "cell_type": "code",
   "execution_count": 23,
   "metadata": {},
   "outputs": [
    {
     "name": "stdout",
     "output_type": "stream",
     "text": [
      "130000\n",
      "20000\n"
     ]
    }
   ],
   "source": [
    "#transfer funds\n",
    "cs1.transfer_funds(ct1,20000)\n",
    "print(cs1.account_balance)\n",
    "print(ct1.account_balance)"
   ]
  },
  {
   "cell_type": "code",
   "execution_count": 24,
   "metadata": {},
   "outputs": [
    {
     "name": "stdout",
     "output_type": "stream",
     "text": [
      "130000\n"
     ]
    }
   ],
   "source": [
    "#view account balance\n",
    "bal = cs1.get_account_balance()\n",
    "print(bal)"
   ]
  },
  {
   "cell_type": "code",
   "execution_count": null,
   "metadata": {},
   "outputs": [],
   "source": []
  }
 ],
 "metadata": {
  "kernelspec": {
   "display_name": "Python 3",
   "language": "python",
   "name": "python3"
  },
  "language_info": {
   "codemirror_mode": {
    "name": "ipython",
    "version": 3
   },
   "file_extension": ".py",
   "mimetype": "text/x-python",
   "name": "python",
   "nbconvert_exporter": "python",
   "pygments_lexer": "ipython3",
   "version": "3.7.6"
  }
 },
 "nbformat": 4,
 "nbformat_minor": 4
}
