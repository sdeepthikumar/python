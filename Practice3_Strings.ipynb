{
 "cells": [
  {
   "cell_type": "markdown",
   "metadata": {},
   "source": [
    "\n",
    "1. Write a Python program to check if a string contains all letters of the alphabet."
   ]
  },
  {
   "cell_type": "code",
   "execution_count": 43,
   "metadata": {},
   "outputs": [
    {
     "name": "stdout",
     "output_type": "stream",
     "text": [
      "Contains all alphabets\n"
     ]
    }
   ],
   "source": [
    "def alpha_check(str1):\n",
    "    str2 ='abcdefghijklmnopqrstuvwxyz'\n",
    "    a = set(str2).difference(set(str1))\n",
    "    if a:\n",
    "        return \"Doesn't contain all alphabets\"\n",
    "    else:\n",
    "        return \"Contains all alphabets\"\n",
    "\n",
    "s = 'qwertyuiopasdfghjklzxcvbnm'\n",
    "print(alpha_check(s))\n"
   ]
  },
  {
   "cell_type": "markdown",
   "metadata": {},
   "source": [
    "2. Write a Python program to remove duplicate characters of a given string."
   ]
  },
  {
   "cell_type": "code",
   "execution_count": 46,
   "metadata": {},
   "outputs": [
    {
     "name": "stdout",
     "output_type": "stream",
     "text": [
      "{'n', 'a', 's', 'o', 'k', 'd', 'h', 'j', 'p', 'b', 'c'}\n"
     ]
    }
   ],
   "source": [
    "s = 'aaannnnnssskopakaojskjndhdbc'\n",
    "print(set(s))"
   ]
  },
  {
   "cell_type": "markdown",
   "metadata": {},
   "source": [
    "3. Write a Python program to get a string from a given string where all occurrences of its first char have been changed to $, except the first char itself.\n",
    "Sample String : 'restart'\n",
    "Expected Result : 'resta$t'"
   ]
  },
  {
   "cell_type": "code",
   "execution_count": 71,
   "metadata": {},
   "outputs": [
    {
     "name": "stdout",
     "output_type": "stream",
     "text": [
      "e\n",
      "exp$ct$d\n"
     ]
    }
   ],
   "source": [
    "s = 'ExpectEd'\n",
    "s1 = s[1:].lower()\n",
    "s2 = s[0].lower()\n",
    "print(s2)\n",
    "print(s2 + s1.replace(s2,'$'))"
   ]
  },
  {
   "cell_type": "code",
   "execution_count": 49,
   "metadata": {},
   "outputs": [
    {
     "name": "stdout",
     "output_type": "stream",
     "text": [
      "Help on method_descriptor:\n",
      "\n",
      "replace(self, old, new, count=-1, /)\n",
      "    Return a copy with all occurrences of substring old replaced by new.\n",
      "    \n",
      "      count\n",
      "        Maximum number of occurrences to replace.\n",
      "        -1 (the default value) means replace all occurrences.\n",
      "    \n",
      "    If the optional argument count is given, only the first count occurrences are\n",
      "    replaced.\n",
      "\n"
     ]
    }
   ],
   "source": [
    "help(str.replace)"
   ]
  },
  {
   "cell_type": "markdown",
   "metadata": {},
   "source": [
    "4. Write a Python program to get a single string from two given strings, separated by a space and swap the first two characters of each string.\n",
    "Sample String : 'abc', 'xyz'\n",
    "Expected Result : 'xyc abz'"
   ]
  },
  {
   "cell_type": "code",
   "execution_count": 91,
   "metadata": {},
   "outputs": [
    {
     "name": "stdout",
     "output_type": "stream",
     "text": [
      "xyc abz\n"
     ]
    }
   ],
   "source": [
    "l = ['abc','xyz']\n",
    "print((l[1][:2]+l[0][2:])+' '+ (l[0][:2]+l[1][2:]))"
   ]
  },
  {
   "cell_type": "code",
   "execution_count": 100,
   "metadata": {},
   "outputs": [
    {
     "name": "stdout",
     "output_type": "stream",
     "text": [
      "xyc abz\n"
     ]
    }
   ],
   "source": [
    "def char_swap(x,y):\n",
    "    new_x = y[:2] + x[2:]\n",
    "    new_y = x[:2] + y[2:]\n",
    "    res = new_x + ' ' + new_y\n",
    "    return(res)\n",
    "\n",
    "print(char_swap('abc','xyz'))"
   ]
  },
  {
   "cell_type": "markdown",
   "metadata": {},
   "source": [
    "5. Write a Python program to find the first appearance of the substring 'not' and 'poor' from a given string, if 'not'\n",
    "follows the 'poor', replace the whole 'not'...'poor' substring with 'good' else swap 'not' and 'poor'. Return the\n",
    "resulting string.\n",
    "\n",
    "Sample String : 'The lyrics is not that poor!'\n",
    "'The lyrics is poor!'\n",
    "Expected Result : 'The lyrics is good!'\n",
    "'The lyrics is poor!'"
   ]
  },
  {
   "cell_type": "code",
   "execution_count": 104,
   "metadata": {},
   "outputs": [
    {
     "name": "stdout",
     "output_type": "stream",
     "text": [
      "The lyrics is not that poor!The lyrics is poor!\n"
     ]
    }
   ],
   "source": [
    "s = 'The lyrics is not that poor!''The lyrics is poor!'\n",
    "s_not = s.find('not')\n",
    "s_poor =  s.find('poor')\n",
    "if s_poor >s_not:\n",
    "    s.replace(s[s_not:s_poor+4],'good')\n",
    "print(s)\n"
   ]
  },
  {
   "cell_type": "markdown",
   "metadata": {},
   "source": [
    "6. Write a Python program to remove the nth index character from a nonempty string."
   ]
  },
  {
   "cell_type": "code",
   "execution_count": 110,
   "metadata": {},
   "outputs": [
    {
     "name": "stdout",
     "output_type": "stream",
     "text": [
      "asadfafnenfeej\n"
     ]
    }
   ],
   "source": [
    "s = 'asadfafnenfeejh'\n",
    "print(s[:-1])"
   ]
  },
  {
   "cell_type": "markdown",
   "metadata": {},
   "source": [
    "7.  Write a Python program to replace the characters which have odd index values of a given string with \"A\"."
   ]
  },
  {
   "cell_type": "code",
   "execution_count": 226,
   "metadata": {},
   "outputs": [
    {
     "name": "stdout",
     "output_type": "stream",
     "text": [
      "andddkkkkkkkkkksssssssss\n",
      "aAdAdAkAkAkAkAkAsAsAsAsA\n"
     ]
    }
   ],
   "source": [
    "s='andddkkkkkkkkkksssssssss'\n",
    "s1=''\n",
    "for x in range(0,len(s)):\n",
    "    if x % 2 == 0:\n",
    "        s1 = s1 + s[x]\n",
    "    else:\n",
    "        s1 = s1 + 'A'\n",
    "print(s)\n",
    "print(s1)"
   ]
  },
  {
   "cell_type": "markdown",
   "metadata": {},
   "source": [
    "8. Write a Python function to get a string made of 4 copies of the last two characters of a specified string (length\n",
    "must be at least 2).\n",
    "Sample function and result :\n",
    "insert_end('Python') -> onononon\n",
    "insert_end('Exercises') -> eseseses"
   ]
  },
  {
   "cell_type": "code",
   "execution_count": 233,
   "metadata": {},
   "outputs": [
    {
     "name": "stdout",
     "output_type": "stream",
     "text": [
      "eseseses\n"
     ]
    }
   ],
   "source": [
    "def insert_end(string):\n",
    "    s1 = \"\"\n",
    "    if len(string) > 2:\n",
    "        for x in range(0,4):\n",
    "            s1 = s1 + string[-2:]\n",
    "    return s1\n",
    "\n",
    "st = \"Exercises\"\n",
    "print(insert_end(st))"
   ]
  },
  {
   "cell_type": "markdown",
   "metadata": {},
   "source": [
    "9. Write a Python function to reverses a string if it's length is a multiple of 4."
   ]
  },
  {
   "cell_type": "code",
   "execution_count": 237,
   "metadata": {},
   "outputs": [
    {
     "name": "stdout",
     "output_type": "stream",
     "text": [
      "mgorP nohtyP\n"
     ]
    }
   ],
   "source": [
    "def reverse_str(s):\n",
    "    if len(s) % 4 == 0:\n",
    "        return s[::-1]\n",
    "    else:\n",
    "        return 'Invalid input'\n",
    "\n",
    "s = \"Python Progm\"\n",
    "print(reverse_str(s))"
   ]
  },
  {
   "cell_type": "markdown",
   "metadata": {},
   "source": [
    "10. Write a Python program to sort a string lexicographically.\n",
    "Lexicographically means a generalization of the way words are alphabetically ordered based on the alphabetical order of\n",
    "their component letters."
   ]
  },
  {
   "cell_type": "code",
   "execution_count": 247,
   "metadata": {},
   "outputs": [
    {
     "name": "stdout",
     "output_type": "stream",
     "text": [
      "a a is lexicographically program python sort string this to\n"
     ]
    }
   ],
   "source": [
    "def lex_str(s):\n",
    "    l = s.split()\n",
    "    l.sort()\n",
    "    strn = (' ').join(l)\n",
    "    return strn\n",
    "s = \"this is a python program to sort a string lexicographically\"\n",
    "print(lex_str(s))"
   ]
  },
  {
   "cell_type": "markdown",
   "metadata": {},
   "source": [
    "11.Write a Python program to display formatted text (width=50) as output"
   ]
  },
  {
   "cell_type": "code",
   "execution_count": 252,
   "metadata": {},
   "outputs": [
    {
     "data": {
      "text/plain": [
       "'**********************PYTHON**********************'"
      ]
     },
     "execution_count": 252,
     "metadata": {},
     "output_type": "execute_result"
    }
   ],
   "source": [
    "s = \"PYTHON\"\n",
    "s.center(50,'*')"
   ]
  },
  {
   "cell_type": "markdown",
   "metadata": {},
   "source": [
    "12. Write a Python program to get a string made of the first 2 and the last 2 chars from a given a string."
   ]
  },
  {
   "cell_type": "code",
   "execution_count": 258,
   "metadata": {},
   "outputs": [
    {
     "name": "stdout",
     "output_type": "stream",
     "text": [
      "Pram\n"
     ]
    }
   ],
   "source": [
    "s = \"Program\"\n",
    "if len(s) > 2:\n",
    "    s1 = s[:2] + s[-2:]\n",
    "    print(s1)\n",
    "else:\n",
    "    print(\"Invalid input\")\n"
   ]
  },
  {
   "cell_type": "markdown",
   "metadata": {},
   "source": [
    "13. Take a string string by input and change the case. if character is in lowercase then make it in uppercase and vicecersa ig character is digit then print digit itself.\n",
    "\n",
    "sample input: abCD5e\n",
    "sample output: ABcd5E"
   ]
  },
  {
   "cell_type": "code",
   "execution_count": 261,
   "metadata": {},
   "outputs": [
    {
     "name": "stdout",
     "output_type": "stream",
     "text": [
      "sAmPLe StRiNg\n"
     ]
    }
   ],
   "source": [
    "def change_case(s):\n",
    "    s1=''\n",
    "    for x in s:\n",
    "        if x.isupper():\n",
    "            s1 = s1 + x.lower()\n",
    "        else:\n",
    "            s1 = s1 + x.upper()\n",
    "    return s1\n",
    "s = \"SaMplE sTrInG\"\n",
    "print(change_case(s))"
   ]
  },
  {
   "cell_type": "markdown",
   "metadata": {},
   "source": [
    "14.  Write a Python program to find the first repeated character of a given string where the index of first occurrence is smallest."
   ]
  },
  {
   "cell_type": "code",
   "execution_count": 281,
   "metadata": {},
   "outputs": [
    {
     "name": "stdout",
     "output_type": "stream",
     "text": [
      "s\n"
     ]
    }
   ],
   "source": [
    "s1 = 'zhsndjnfaadskdmmaa'\n",
    "l=[]\n",
    "for i,x in enumerate(s1):\n",
    "    if s1.count(x)>1:\n",
    "        #print((s1[i+1:].find(x))-i+1)\n",
    "        print(x)\n",
    "        break"
   ]
  },
  {
   "cell_type": "markdown",
   "metadata": {},
   "source": [
    "15. Write a Python program to count the number of characters (character frequency) in a string.\n",
    "Sample String : google.com'\n",
    "Expected Result : {'o': 3, 'g': 2, '.': 1, 'e': 1, 'l': 1, 'm': 1, 'c': 1}"
   ]
  },
  {
   "cell_type": "code",
   "execution_count": 295,
   "metadata": {},
   "outputs": [
    {
     "name": "stdout",
     "output_type": "stream",
     "text": [
      "{'w': 3, '.': 2, 'g': 2, 'o': 3, 'l': 1, 'e': 1, 'c': 1, 'm': 1}\n"
     ]
    }
   ],
   "source": [
    "s = 'www.google.com'\n",
    "d = {}\n",
    "for x in s:\n",
    "#    if x not in d:\n",
    "    d.setdefault(x,s.count(x))\n",
    "print(d)"
   ]
  },
  {
   "cell_type": "markdown",
   "metadata": {},
   "source": [
    "\n",
    "16. Write a program to print all digits at even place followed by digits at odd place."
   ]
  },
  {
   "cell_type": "code",
   "execution_count": 307,
   "metadata": {},
   "outputs": [
    {
     "name": "stdout",
     "output_type": "stream",
     "text": [
      "mr a  itelm/n\n",
      "ayhdaltl ab"
     ]
    }
   ],
   "source": [
    "s = 'mary had a little lamb'\n",
    "for i,x in enumerate(s):\n",
    "    if i % 2 == 0:\n",
    "        print(x,end='')\n",
    "else:\n",
    "    print('/n')\n",
    "    for i,x in enumerate(s):\n",
    "        if i % 2 != 0:\n",
    "            print(x,end='')"
   ]
  },
  {
   "cell_type": "code",
   "execution_count": null,
   "metadata": {},
   "outputs": [],
   "source": []
  }
 ],
 "metadata": {
  "kernelspec": {
   "display_name": "Python 3",
   "language": "python",
   "name": "python3"
  },
  "language_info": {
   "codemirror_mode": {
    "name": "ipython",
    "version": 3
   },
   "file_extension": ".py",
   "mimetype": "text/x-python",
   "name": "python",
   "nbconvert_exporter": "python",
   "pygments_lexer": "ipython3",
   "version": "3.7.6"
  }
 },
 "nbformat": 4,
 "nbformat_minor": 4
}
