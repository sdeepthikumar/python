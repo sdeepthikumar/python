{
 "cells": [
  {
   "cell_type": "code",
   "execution_count": 3,
   "metadata": {},
   "outputs": [
    {
     "name": "stdout",
     "output_type": "stream",
     "text": [
      "None\n"
     ]
    }
   ],
   "source": [
    "import re\n",
    "s = 'Aa12ABCDE1234A'\n",
    "r = re.compile(\"^([a-z][A-Z0-9])+\")\n",
    "l = re.search(r,s)\n",
    "print(l)\n"
   ]
  },
  {
   "cell_type": "code",
   "execution_count": 9,
   "metadata": {},
   "outputs": [
    {
     "name": "stdout",
     "output_type": "stream",
     "text": [
      "['ABCDE1234A']\n"
     ]
    }
   ],
   "source": [
    "import re\n",
    "\n",
    "r = re.compile(\"^[A-Z]{5}[0-9]{4}[A-Z]$\")\n",
    "pan_no = 'ABCDE1234A'\n",
    "l = re.findall(r,pan_no)\n",
    "print(l)"
   ]
  },
  {
   "cell_type": "code",
   "execution_count": 18,
   "metadata": {},
   "outputs": [
    {
     "name": "stdout",
     "output_type": "stream",
     "text": [
      "(+91)9138728231\n"
     ]
    }
   ],
   "source": [
    "r = re.compile(\"^(\\(\\+91\\))?[6-9][0-9]{9}$\")\n",
    "s = '(+91)9138728231'\n",
    "m = re.search(r,s)\n",
    "if m:\n",
    "    print(m.group())\n",
    "else:\n",
    "    print(\"Invalid\")"
   ]
  },
  {
   "cell_type": "code",
   "execution_count": 2,
   "metadata": {},
   "outputs": [],
   "source": [
    "import re"
   ]
  },
  {
   "cell_type": "code",
   "execution_count": 5,
   "metadata": {
    "scrolled": true
   },
   "outputs": [
    {
     "name": "stdout",
     "output_type": "stream",
     "text": [
      "Invalid\n"
     ]
    }
   ],
   "source": [
    "d = '28-12-202'\n",
    "r = re.compile(\"^(?P<day>([0-9]{2}))-(?P<month>([0-9]{2}))-(?P<year>([0-9]{4}))\")\n",
    "m = re.search(r,d)\n",
    "if m:\n",
    "    print(m.group('day'))\n",
    "else:\n",
    "    print(\"Invalid\")"
   ]
  },
  {
   "cell_type": "code",
   "execution_count": 2,
   "metadata": {},
   "outputs": [],
   "source": [
    "#DATE VALIDATION\n",
    "import re"
   ]
  },
  {
   "cell_type": "code",
   "execution_count": 7,
   "metadata": {},
   "outputs": [
    {
     "name": "stdout",
     "output_type": "stream",
     "text": [
      "valid date\n"
     ]
    }
   ],
   "source": [
    "date = '31-12-2020'\n",
    "r = re.compile(\"^(?P<day>([0-9]{2}))-(?P<month>([0-9]{2}))-(?P<year>([0-9]{4}))\")\n",
    "m = re.search(r,date)\n",
    "\n",
    "if m:\n",
    "    if int(m.group('day')) in range (1,32) and int(m.group('month')) in range(1,13) and int(m.group('year')) in range(1600,3000):\n",
    "        print(\"valid date\")\n",
    "    else:\n",
    "        print(\"invalid date\")\n",
    "else:\n",
    "    print(\"invalid date format\")"
   ]
  },
  {
   "cell_type": "code",
   "execution_count": null,
   "metadata": {},
   "outputs": [],
   "source": [
    "#EMAIL VALIDATION\n",
    "import re"
   ]
  },
  {
   "cell_type": "code",
   "execution_count": 31,
   "metadata": {},
   "outputs": [
    {
     "name": "stdout",
     "output_type": "stream",
     "text": [
      "valid\n"
     ]
    }
   ],
   "source": [
    "email = 'abcd1234@gmail.com'\n",
    "r = re.compile(\"^(?P<userid>([a-zA-Z0-9!#\\$%&'\\*\\+-/=\\?\\^_]+))@(?P<domain_name>([a-z]+.com$))\")\n",
    "r = re.compile(\"\n",
    "m = re.search(r,email)\n",
    "if m:\n",
    "    print(\"valid email\")\n",
    "else:\n",
    "    print(\"invalid email\")"
   ]
  },
  {
   "cell_type": "code",
   "execution_count": 51,
   "metadata": {},
   "outputs": [
    {
     "name": "stdout",
     "output_type": "stream",
     "text": [
      "valid\n"
     ]
    }
   ],
   "source": [
    "#URL VALIDATION\n",
    "email = 'https://www.w3schools.com/python/python_regex.asp'\n",
    "r = re.compile(\"^https?://www\\.[a-zA-Z0-9]+\\.com/+\")\n",
    "m = re.search(r,email)\n",
    "if m:\n",
    "    print(\"valid URL\")\n",
    "else:\n",
    "    print(\"invalid URL\")"
   ]
  },
  {
   "cell_type": "code",
   "execution_count": null,
   "metadata": {},
   "outputs": [],
   "source": []
  }
 ],
 "metadata": {
  "kernelspec": {
   "display_name": "Python 3",
   "language": "python",
   "name": "python3"
  },
  "language_info": {
   "codemirror_mode": {
    "name": "ipython",
    "version": 3
   },
   "file_extension": ".py",
   "mimetype": "text/x-python",
   "name": "python",
   "nbconvert_exporter": "python",
   "pygments_lexer": "ipython3",
   "version": "3.7.6"
  }
 },
 "nbformat": 4,
 "nbformat_minor": 4
}
