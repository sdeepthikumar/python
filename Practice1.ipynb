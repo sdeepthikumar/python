{
 "cells": [
  {
   "cell_type": "markdown",
   "metadata": {},
   "source": [
    "\n",
    "1. Take values of length and breadth of a rectangle from user and check if it is square or not. Return area"
   ]
  },
  {
   "cell_type": "code",
   "execution_count": 1,
   "metadata": {},
   "outputs": [
    {
     "name": "stdout",
     "output_type": "stream",
     "text": [
      "Enter length of the rectangle :5\n",
      "Enter breadth of the rectangle : 6\n",
      "Rectangle of area:  30\n"
     ]
    }
   ],
   "source": [
    "length = input(\"Enter length of the rectangle :\")\n",
    "breadth = input(\"Enter breadth of the rectangle : \")\n",
    "area = int(length) * int(breadth)\n",
    "if length == breadth :\n",
    "    print(\"Square of area: \", area)\n",
    "else : \n",
    "    print(\"Rectangle of area: \", area)"
   ]
  },
  {
   "cell_type": "markdown",
   "metadata": {},
   "source": [
    "2. Write a Python program which accepts the radius of a circle from the user and compute the area."
   ]
  },
  {
   "cell_type": "code",
   "execution_count": 2,
   "metadata": {},
   "outputs": [
    {
     "name": "stdout",
     "output_type": "stream",
     "text": [
      "Enter the radius of the circle: 5\n",
      "Area is 79\n"
     ]
    }
   ],
   "source": [
    "radius = input(\"Enter the radius of the circle: \")\n",
    "rad_square = int(radius) ** 2\n",
    "area = round(22/7 * rad_square)\n",
    "print(\"Area is\", area)"
   ]
  },
  {
   "cell_type": "markdown",
   "metadata": {},
   "source": [
    "3. Write a Python program that accepts an integer (n) and computes the value of n+nn+nnn. Sample value of n is 5 Expected Result : 615\n"
   ]
  },
  {
   "cell_type": "code",
   "execution_count": 73,
   "metadata": {},
   "outputs": [
    {
     "name": "stdout",
     "output_type": "stream",
     "text": [
      "Enter a number :5\n",
      "The desired output is : 615\n"
     ]
    }
   ],
   "source": [
    "n = int(input(\"Enter a number :\"))\n",
    "result = n + (n * 10 +  n) + (n * 100 + n * 10 + n)\n",
    "print(\"The desired output is :\", result)"
   ]
  },
  {
   "cell_type": "markdown",
   "metadata": {},
   "source": [
    "4. A company decided to deduct pf of 12% of salary if year of service is less than 5 year and 24% employee if his/her year of service is more than 5 years.\n",
    "Ask user for their salary and year of service and print the net in-hand salary after pf deduction."
   ]
  },
  {
   "cell_type": "code",
   "execution_count": 74,
   "metadata": {},
   "outputs": [
    {
     "name": "stdout",
     "output_type": "stream",
     "text": [
      "Enter your salary: 10000\n",
      "Enter your total years of service: 7\n",
      "The net salary is: 7600.0\n"
     ]
    }
   ],
   "source": [
    "salary = int(input(\"Enter your salary: \"))\n",
    "service = int(input(\"Enter your total years of service: \"))\n",
    "if service < 5 :\n",
    "    deduction = salary * 0.12\n",
    "else :\n",
    "    deduction = salary * 0.24\n",
    "net_salary = salary - deduction\n",
    "print(\"The net salary is:\", net_salary)"
   ]
  },
  {
   "cell_type": "markdown",
   "metadata": {},
   "source": [
    "\n",
    "5. A school has following rules for grading system:\n",
    "    a. Below 40 - F\n",
    "    b. 40 to 50 - C\n",
    "    c. 50 to 60 - C+\n",
    "    d. 60 to 70 - B\n",
    "    e. 70 to 80 - B+\n",
    "    f. 80 to 90 - A\n",
    "    g. Above 90 - A+\n",
    "\n",
    "Ask user to enter marks for their 5 main subject and print the corresponding grade and overall grade for average of marks."
   ]
  },
  {
   "cell_type": "code",
   "execution_count": 75,
   "metadata": {},
   "outputs": [
    {
     "name": "stdout",
     "output_type": "stream",
     "text": [
      "Enter your marks:\n",
      "Sub1:85\n",
      "Sub2:86\n",
      "Sub3:87\n",
      "Sub4:85\n",
      "Sub5:89\n",
      "Grade: A\n"
     ]
    }
   ],
   "source": [
    "print(\"Enter your marks:\")\n",
    "marks1 = int(input(\"Sub1:\"))\n",
    "marks2 = int(input(\"Sub2:\"))\n",
    "marks3 = int(input(\"Sub3:\"))\n",
    "marks4 = int(input(\"Sub4:\"))\n",
    "marks5 = int(input(\"Sub5:\"))\n",
    "total_marks = 500\n",
    "avg_marks = int((marks1 + marks2 + marks3 + marks4 + marks5)/5)\n",
    "if avg_marks > 90 :\n",
    "    print(\"Grade: A+\")\n",
    "elif avg_marks in range(80,90):\n",
    "    print(\"Grade: A\")\n",
    "elif avg_marks in range(70,80):\n",
    "    print(\"Grade: B+\")\n",
    "elif avg_marks in range(60,70):\n",
    "    print(\"Grade: B\")\n",
    "elif avg_marks in range(50,60):\n",
    "    print(\"Grade: C+\")\n",
    "elif avg_marks in range(40,50):\n",
    "    print(\"Grade: C\")\n",
    "elif avg_marks < 40 :\n",
    "    print(\"Grade: F\")"
   ]
  },
  {
   "cell_type": "markdown",
   "metadata": {},
   "source": [
    "6. A student will not be allowed to sit in exam if his/her attendence is less than 75%.\n",
    "    Take following input from user\n",
    "    Number of classes held\n",
    "    Number of classes attended.\n",
    "\n",
    "    And print\n",
    "    percentage of class attended\n",
    "    Is student is allowed to sit in exam or not."
   ]
  },
  {
   "cell_type": "code",
   "execution_count": 2,
   "metadata": {},
   "outputs": [
    {
     "name": "stdout",
     "output_type": "stream",
     "text": [
      "Enter no of classes held:100\n",
      "Enter no of classes attended:79\n",
      "Student permitted to take exam!!\n"
     ]
    }
   ],
   "source": [
    "class_held = int(input(\"Enter no of classes held:\"))\n",
    "class_attended = int(input(\"Enter no of classes attended:\"))\n",
    "attendence_per = int((class_attended/class_held) * 100)\n",
    "\n",
    "if attendence_per < 75 :\n",
    "    print(\"Student not permitted to take exam!!\")\n",
    "    \n",
    "else :\n",
    "    print(\"Student permitted to take exam!!\")"
   ]
  },
  {
   "cell_type": "markdown",
   "metadata": {},
   "source": [
    "7. Modify the above question to allow student to sit if he/she has medical cause reduce attendance criteria to 60%. Ask user if he/she has medical cause or not ( 'Y' or 'N' ) and print accordingly."
   ]
  },
  {
   "cell_type": "code",
   "execution_count": 21,
   "metadata": {},
   "outputs": [
    {
     "name": "stdout",
     "output_type": "stream",
     "text": [
      "Enter no of classes held:152\n",
      "Enter no of classes attended:100\n",
      "Do you have any medical cause? Y or N :N\n",
      "Student not permitted to take exam!!\n"
     ]
    }
   ],
   "source": [
    "class_held = int(input(\"Enter no of classes held:\"))\n",
    "class_attended = int(input(\"Enter no of classes attended:\"))\n",
    "\n",
    "attendence_per = int((class_attended/class_held) * 100)\n",
    "\n",
    "if attendence_per >= 75 :\n",
    "    print(\"Student permitted to take exam!!\")\n",
    "    \n",
    "elif attendence_per in range(60,75) :\n",
    "    medical_cause = input(\"Do you have any medical cause? Y or N :\")\n",
    "    if medical_cause == 'Y' :\n",
    "         print(\"Student permitted to take exam!!\")\n",
    "    else :\n",
    "         print(\"Student not permitted to take exam!!\")\n",
    "            \n",
    "else :\n",
    "    print(\"Student not permitted to take exam!!\")\n"
   ]
  },
  {
   "cell_type": "markdown",
   "metadata": {},
   "source": [
    "8. Write a program to check if a year is leap year or not.\n",
    "   If a year is divisible by 4 then it is leap year but if the year is century year like 2000, 1900, 2100 then it must be divisible by 400."
   ]
  },
  {
   "cell_type": "code",
   "execution_count": 29,
   "metadata": {},
   "outputs": [
    {
     "name": "stdout",
     "output_type": "stream",
     "text": [
      "Enter the year:2388\n",
      "It is a leap year\n"
     ]
    }
   ],
   "source": [
    "year = int(input(\"Enter the year:\"))\n",
    "\n",
    "if year % 100 == 0 and year %  4 == 0:\n",
    "    print(\"It is a leap year\")\n",
    "    \n",
    "elif year % 4 == 0 :\n",
    "    print(\"It is a leap year\")\n",
    "    \n",
    "else:\n",
    "    print(\"It is not a leap year\")\n",
    "\n",
    "    "
   ]
  },
  {
   "cell_type": "markdown",
   "metadata": {},
   "source": [
    "9. Ask user to enter age, gender ( M or F ), marital status ( Y or N ) and then using following rules print their place of service.\n",
    "if employee is female, then she will work only in urban areas.\n",
    "\n",
    "if employee is a male and age is in between 20 to 30 and not married then he may work in anywhere.\n",
    "\n",
    "if employee is a female and age is in between 20 to 30 and not married then she may work in urban areas.\n",
    "\n",
    "if employee is male and age is in between 20 t0 30 and married then he will work in nearby Hometown.\n",
    "\n",
    "if employee is female and age is in between 20 t0 30 and married then she will work in her husband's city.\n",
    "\n",
    "And any other input of age should print \"ERROR\".\n"
   ]
  },
  {
   "cell_type": "code",
   "execution_count": 38,
   "metadata": {},
   "outputs": [
    {
     "name": "stdout",
     "output_type": "stream",
     "text": [
      "Enter your age:30\n",
      "Enter your gender M or F: F\n",
      "Are you married? Y or N : Y\n",
      "The employee may work in husbands city\n"
     ]
    }
   ],
   "source": [
    "age = int(input(\"Enter your age:\" ))\n",
    "gender = input(\"Enter your gender M or F: \")\n",
    "mar_status = input(\"Are you married? Y or N : \" )\n",
    "\n",
    "if (20 <= age <= 30) and gender == 'M' :\n",
    "    if mar_status == 'N' :\n",
    "        print(\"The employee may work anywhere\")\n",
    "    elif mar_status == 'Y' :\n",
    "        print(\"The employee may work nearby hometown\")\n",
    "        \n",
    "elif (20 <= age <= 30) and gender == 'F' :\n",
    "    if mar_status == 'N' :\n",
    "        print(\"The employee may work in urban areas\")\n",
    "    elif mar_status == 'Y' :\n",
    "        print(\"The employee may work in husbands city\")\n",
    "        \n",
    "else :\n",
    "    print(\"ERROR\")"
   ]
  },
  {
   "cell_type": "markdown",
   "metadata": {},
   "source": [
    "10. A 4 digit number is entered through keyboard. Write a program to print a new number with digits reversed as of orignal one. E.g.-\n",
    "INPUT : 1234        OUTPUT : 4321\n",
    "INPUT : 5982        OUTPUT : 2895\n",
    "NOTE:- Do not use builtin functions e.g. sort(), reverse() and loop try to solve it by if-else"
   ]
  },
  {
   "cell_type": "code",
   "execution_count": 52,
   "metadata": {},
   "outputs": [
    {
     "name": "stdout",
     "output_type": "stream",
     "text": [
      "Enter a four digit number: 4567\n",
      "7654\n"
     ]
    }
   ],
   "source": [
    "number = int(input(\"Enter a four digit number: \"))\n",
    "a = number % 10\n",
    "\n",
    "b = (number // 10) % 10\n",
    "\n",
    "c = (number // 100) % 10\n",
    "\n",
    "d = (number // 1000) % 10\n",
    "\n",
    "number = 1000 * a + 100 * b + 10 * c + 1 * d\n",
    "print(number)"
   ]
  },
  {
   "cell_type": "markdown",
   "metadata": {},
   "source": [
    "11. Write a program to find sum of digits of given number by user answer should be of single digit.\n",
    "    Example: input: 25643\n",
    "    sum of digits of 2+5+6+4+3 = 20\n",
    "    again find sum of digits of 20 and final answer would be 2+0 = 2"
   ]
  },
  {
   "cell_type": "code",
   "execution_count": 84,
   "metadata": {},
   "outputs": [
    {
     "name": "stdout",
     "output_type": "stream",
     "text": [
      "Enter the number123456789\n",
      "sum is : 45\n"
     ]
    }
   ],
   "source": [
    "number = input(\"Enter the number\")\n",
    "sum_digit = 0\n",
    "for x in number :\n",
    "    digit = int(number) % 10\n",
    "    sum_digit = sum_digit + digit\n",
    "    number = int(number) // 10\n",
    "    \n",
    "print(\"sum is :\",sum_digit)"
   ]
  },
  {
   "cell_type": "markdown",
   "metadata": {},
   "source": [
    "12. Write a Python program to find those numbers which are divisible by 7 and multiple of 5, between 1500 and 2700 (both included)."
   ]
  },
  {
   "cell_type": "code",
   "execution_count": 54,
   "metadata": {},
   "outputs": [
    {
     "name": "stdout",
     "output_type": "stream",
     "text": [
      "1505\n",
      "1540\n",
      "1575\n",
      "1610\n",
      "1645\n",
      "1680\n",
      "1715\n",
      "1750\n",
      "1785\n",
      "1820\n",
      "1855\n",
      "1890\n",
      "1925\n",
      "1960\n",
      "1995\n",
      "2030\n",
      "2065\n",
      "2100\n",
      "2135\n",
      "2170\n",
      "2205\n",
      "2240\n",
      "2275\n",
      "2310\n",
      "2345\n",
      "2380\n",
      "2415\n",
      "2450\n",
      "2485\n",
      "2520\n",
      "2555\n",
      "2590\n",
      "2625\n",
      "2660\n",
      "2695\n"
     ]
    }
   ],
   "source": [
    "for x in range(1500,2700) :\n",
    "    if x % 7 == 0 and x % 5 == 0 :\n",
    "        print(x)"
   ]
  },
  {
   "cell_type": "markdown",
   "metadata": {},
   "source": [
    "13. A shop will give discount of 10% max upto 100rs if the cost of purchased quantity is more than 1000.\n",
    "    Ask user for quantity\n",
    "    Suppose, one unit will cost 100rs.\n",
    "    Judge and print total cost for user."
   ]
  },
  {
   "cell_type": "code",
   "execution_count": 70,
   "metadata": {},
   "outputs": [
    {
     "name": "stdout",
     "output_type": "stream",
     "text": [
      "Enter the no of units required: 15\n",
      "The total cost to be paid is: 1400\n"
     ]
    }
   ],
   "source": [
    "qty = int(input(\"Enter the no of units required: \"))\n",
    "price_per_unit = 100 \n",
    "cost_calculated = qty * price_per_unit\n",
    "\n",
    "if cost_calculated >= 1000 :\n",
    "    discount = 0.1 * cost_calculated\n",
    "    if discount < 100 :\n",
    "        total_cost = cost_calculated - discount\n",
    "    if discount >=100 :\n",
    "        total_cost = cost_calculated - 100\n",
    "else :\n",
    "    total_cost = cost_calculated\n",
    "\n",
    "print(\"The total cost to be paid is:\", total_cost)"
   ]
  },
  {
   "cell_type": "markdown",
   "metadata": {},
   "source": [
    "14. Write a Python program to calculate number of days between two dates."
   ]
  },
  {
   "cell_type": "code",
   "execution_count": 2,
   "metadata": {},
   "outputs": [
    {
     "name": "stdout",
     "output_type": "stream",
     "text": [
      "Enter the from date(dd/mm/yyyy):12/12/8888\n",
      "Enter the to date(dd/mm/yyyy):23/33/3333\n",
      "12 12 8888\n"
     ]
    }
   ],
   "source": [
    "from_date = input(\"Enter the from date(dd/mm/yyyy):\")\n",
    "to_date = input(\"Enter the to date(dd/mm/yyyy):\")\n",
    "\n",
    "d1,m1,y1 = from_date.split('/')\n",
    "d2,m2,y2 = to_date.split('/')\n",
    "\n",
    "for x "
   ]
  }
 ],
 "metadata": {
  "kernelspec": {
   "display_name": "Python 3",
   "language": "python",
   "name": "python3"
  },
  "language_info": {
   "codemirror_mode": {
    "name": "ipython",
    "version": 3
   },
   "file_extension": ".py",
   "mimetype": "text/x-python",
   "name": "python",
   "nbconvert_exporter": "python",
   "pygments_lexer": "ipython3",
   "version": "3.7.6"
  }
 },
 "nbformat": 4,
 "nbformat_minor": 4
}
