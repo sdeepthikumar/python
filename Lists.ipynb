{
 "cells": [
  {
   "cell_type": "code",
   "execution_count": 1,
   "metadata": {
    "collapsed": true
   },
   "outputs": [
    {
     "name": "stdout",
     "output_type": "stream",
     "text": [
      "n\n"
     ]
    }
   ],
   "source": [
    "l = [100,200,300,\"python\",400]\n",
    "print(l[-2][-1])"
   ]
  },
  {
   "cell_type": "code",
   "execution_count": 2,
   "metadata": {},
   "outputs": [
    {
     "name": "stdout",
     "output_type": "stream",
     "text": [
      "[30, 20]\n",
      "[30, 20]\n"
     ]
    }
   ],
   "source": [
    "l = [10,20,30,40,50,60]\n",
    "print(l[-4:-6:-1])\n",
    "print(l[2:0:-1])"
   ]
  },
  {
   "cell_type": "code",
   "execution_count": 3,
   "metadata": {},
   "outputs": [
    {
     "name": "stdout",
     "output_type": "stream",
     "text": [
      "[1, 2, 3, 4, 5, 6, 7, 8, 9]\n",
      "[100, 200, 300, 400, 500, 600, 700, 800, 900]\n",
      "[101, 202, 303, 404, 505, 606, 707, 808, 909]\n"
     ]
    }
   ],
   "source": [
    "l1 = [[1,2,3],[4,5,6],[7,8,9]]\n",
    "l2 = [[100,200,300],[400,500,600],[700,800,900]]\n",
    "l3 = []\n",
    "l4 = []\n",
    "l5 = []\n",
    "for x in l1:\n",
    "    l3.extend(x)\n",
    "print(l3)\n",
    "for y in l2:\n",
    "    l4.extend(y)\n",
    "print(l4) \n",
    "\n",
    "for index,n in enumerate(l4):\n",
    "    num = l3[index] + n\n",
    "    l5.append(num)\n",
    "print(l5)"
   ]
  },
  {
   "cell_type": "code",
   "execution_count": 72,
   "metadata": {},
   "outputs": [
    {
     "name": "stdout",
     "output_type": "stream",
     "text": [
      "[[101, 202, 303], [404, 505, 606], [707, 808, 909]]\n"
     ]
    }
   ],
   "source": [
    "l1 = [[1,2,3],[4,5,6],[7,8,9]]\n",
    "l2 = [[100,200,300],[400,500,600],[700,800,900]]\n",
    "l3 = []\n",
    "l4 = []\n",
    "for i1,x in enumerate(l1):\n",
    "    l3=[]\n",
    "    for i2,y in enumerate(l2):\n",
    "        num = l1[i1][i2] + l2[i1][i2]\n",
    "        l3.append(num)\n",
    "    l4.append(l3)\n",
    "print(l4)\n"
   ]
  },
  {
   "cell_type": "code",
   "execution_count": 14,
   "metadata": {},
   "outputs": [
    {
     "name": "stdout",
     "output_type": "stream",
     "text": [
      "a\n",
      "s\n",
      "d\n",
      "f\n",
      "c\n",
      "h\n",
      "n\n",
      "a 17\n",
      "['a', 's', 'd', 'f', 'c', 'h', 'n']\n"
     ]
    }
   ],
   "source": [
    "s = 'aaassssdddddddddfcaaaaaaaashndaaafaaassss'\n",
    "unique_char = []\n",
    "max_count = 0\n",
    "for x in s:\n",
    "    if x in unique_char:\n",
    "        continue\n",
    "    else:\n",
    "        print(x)\n",
    "        unique_char.append(x)\n",
    "        count = s.count(x)\n",
    "        if count > max_count:\n",
    "            max_count = count\n",
    "            max_char = x\n",
    "print(max_char,max_count)\n",
    "print(unique_char)"
   ]
  },
  {
   "cell_type": "code",
   "execution_count": 3,
   "metadata": {},
   "outputs": [
    {
     "ename": "IndentationError",
     "evalue": "unindent does not match any outer indentation level (<tokenize>, line 20)",
     "output_type": "error",
     "traceback": [
      "\u001b[1;36m  File \u001b[1;32m\"<tokenize>\"\u001b[1;36m, line \u001b[1;32m20\u001b[0m\n\u001b[1;33m    else:\u001b[0m\n\u001b[1;37m    ^\u001b[0m\n\u001b[1;31mIndentationError\u001b[0m\u001b[1;31m:\u001b[0m unindent does not match any outer indentation level\n"
     ]
    }
   ],
   "source": [
    "l1 = [10,20,30,40,100,35,50,20,55]\n",
    "l2 = [25,30,45,65,100,150,200]\n",
    "l3 = []\n",
    "\n",
    "l1.extend(l2)\n",
    "print(l1)\n",
    "        \n",
    "l1.sort()\n",
    "print(l1)\n",
    "\n",
    "#for x in l1:\n",
    "#    if x not in l3:\n",
    " #       l3.append(x)\n",
    "#print(l3)\n",
    "\n",
    "\n",
    "for index,x in enumerate(l1[:-1]):\n",
    "       if l1[index] == l1[index + 1]:\n",
    "            l1.pop(index)\n",
    "        else:"
   ]
  },
  {
   "cell_type": "code",
   "execution_count": 25,
   "metadata": {},
   "outputs": [
    {
     "name": "stdout",
     "output_type": "stream",
     "text": [
      "Help on method_descriptor:\n",
      "\n",
      "index(self, value, start=0, stop=2147483647, /)\n",
      "    Return first index of value.\n",
      "    \n",
      "    Raises ValueError if the value is not present.\n",
      "\n"
     ]
    }
   ],
   "source": [
    "help(tuple.index)"
   ]
  },
  {
   "cell_type": "code",
   "execution_count": 29,
   "metadata": {},
   "outputs": [
    {
     "name": "stdout",
     "output_type": "stream",
     "text": [
      "['ab', 'cd']\n"
     ]
    }
   ],
   "source": [
    "x = ['ab','cd']\n",
    "for i in x:\n",
    "    i.upper()\n",
    "print(x)"
   ]
  },
  {
   "cell_type": "code",
   "execution_count": 33,
   "metadata": {},
   "outputs": [
    {
     "name": "stdout",
     "output_type": "stream",
     "text": [
      "1\n",
      "2\n"
     ]
    }
   ],
   "source": [
    "i = 1\n",
    "while True:\n",
    "    if i%3 == 0:\n",
    "        break\n",
    "    print(i)\n",
    "    i += 1"
   ]
  },
  {
   "cell_type": "code",
   "execution_count": 1,
   "metadata": {},
   "outputs": [
    {
     "name": "stdout",
     "output_type": "stream",
     "text": [
      "0\n"
     ]
    }
   ],
   "source": [
    "for i in range(1):\n",
    "    print(i)"
   ]
  },
  {
   "cell_type": "code",
   "execution_count": 46,
   "metadata": {},
   "outputs": [
    {
     "name": "stdout",
     "output_type": "stream",
     "text": [
      "['ab', 'efcdghcdijcdklcdmn']\n"
     ]
    }
   ],
   "source": [
    "print('abcdefcdghcdijcdklcdmn'.split('cd',1))"
   ]
  }
 ],
 "metadata": {
  "kernelspec": {
   "display_name": "Python 3",
   "language": "python",
   "name": "python3"
  },
  "language_info": {
   "codemirror_mode": {
    "name": "ipython",
    "version": 3
   },
   "file_extension": ".py",
   "mimetype": "text/x-python",
   "name": "python",
   "nbconvert_exporter": "python",
   "pygments_lexer": "ipython3",
   "version": "3.7.6"
  }
 },
 "nbformat": 4,
 "nbformat_minor": 4
}
