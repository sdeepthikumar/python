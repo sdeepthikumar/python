{
 "cells": [
  {
   "cell_type": "code",
   "execution_count": 1,
   "metadata": {},
   "outputs": [],
   "source": [
    "import requests\n",
    "from bs4 import BeautifulSoup"
   ]
  },
  {
   "cell_type": "code",
   "execution_count": null,
   "metadata": {},
   "outputs": [],
   "source": [
    "_3pLy-c row"
   ]
  },
  {
   "cell_type": "code",
   "execution_count": 13,
   "metadata": {},
   "outputs": [
    {
     "name": "stdout",
     "output_type": "stream",
     "text": [
      "[<div class=\"_3I9_wc _27UcVY\">₹<!-- -->12,999</div>, <div class=\"_3I9_wc _27UcVY\">₹<!-- -->12,999</div>, <div class=\"_3I9_wc _27UcVY\">₹<!-- -->13,999</div>, <div class=\"_3I9_wc _27UcVY\">₹<!-- -->12,999</div>, <div class=\"_3I9_wc _27UcVY\">₹<!-- -->9,999</div>, <div class=\"_3I9_wc _27UcVY\">₹<!-- -->9,999</div>, <div class=\"_3I9_wc _27UcVY\">₹<!-- -->9,999</div>, <div class=\"_3I9_wc _27UcVY\">₹<!-- -->12,999</div>, <div class=\"_3I9_wc _27UcVY\">₹<!-- -->17,999</div>, <div class=\"_3I9_wc _27UcVY\">₹<!-- -->9,999</div>, <div class=\"_3I9_wc _27UcVY\">₹<!-- -->13,999</div>, <div class=\"_3I9_wc _27UcVY\">₹<!-- -->13,999</div>, <div class=\"_3I9_wc _27UcVY\">₹<!-- -->9,999</div>, <div class=\"_3I9_wc _27UcVY\">₹<!-- -->10,999</div>, <div class=\"_3I9_wc _27UcVY\">₹<!-- -->10,999</div>, <div class=\"_3I9_wc _27UcVY\">₹<!-- -->13,999</div>, <div class=\"_3I9_wc _27UcVY\">₹<!-- -->13,999</div>, <div class=\"_3I9_wc _27UcVY\">₹<!-- -->13,999</div>, <div class=\"_3I9_wc _27UcVY\">₹<!-- -->12,999</div>, <div class=\"_3I9_wc _27UcVY\">₹<!-- -->11,999</div>, <div class=\"_3I9_wc _27UcVY\">₹<!-- -->9,999</div>, <div class=\"_3I9_wc _27UcVY\">₹<!-- -->11,999</div>, <div class=\"_3I9_wc _27UcVY\">₹<!-- -->11,999</div>, <div class=\"_3I9_wc _27UcVY\">₹<!-- -->11,999</div>]\n"
     ]
    },
    {
     "ename": "AttributeError",
     "evalue": "'NoneType' object has no attribute 'text'",
     "output_type": "error",
     "traceback": [
      "\u001b[1;31m---------------------------------------------------------------------------\u001b[0m",
      "\u001b[1;31mAttributeError\u001b[0m                            Traceback (most recent call last)",
      "\u001b[1;32m<ipython-input-13-11083ff159a9>\u001b[0m in \u001b[0;36m<module>\u001b[1;34m\u001b[0m\n\u001b[0;32m      9\u001b[0m     \u001b[0mprice\u001b[0m \u001b[1;33m=\u001b[0m \u001b[0mcard\u001b[0m\u001b[1;33m.\u001b[0m\u001b[0mfind\u001b[0m\u001b[1;33m(\u001b[0m\u001b[1;34m\"div\"\u001b[0m\u001b[1;33m,\u001b[0m \u001b[0mattrs\u001b[0m \u001b[1;33m=\u001b[0m \u001b[1;33m{\u001b[0m\u001b[1;34m\"class\"\u001b[0m \u001b[1;33m:\u001b[0m\u001b[1;34m\"_1vC4OE _2rQ-NK\"\u001b[0m\u001b[1;33m}\u001b[0m \u001b[1;33m)\u001b[0m\u001b[1;33m\u001b[0m\u001b[1;33m\u001b[0m\u001b[0m\n\u001b[0;32m     10\u001b[0m     \u001b[0mrating\u001b[0m \u001b[1;33m=\u001b[0m \u001b[0mcard\u001b[0m\u001b[1;33m.\u001b[0m\u001b[0mfind\u001b[0m\u001b[1;33m(\u001b[0m\u001b[1;34m\"div\"\u001b[0m\u001b[1;33m,\u001b[0m \u001b[0mattrs\u001b[0m \u001b[1;33m=\u001b[0m\u001b[1;33m{\u001b[0m\u001b[1;34m\"class\"\u001b[0m\u001b[1;33m:\u001b[0m \u001b[1;34m\"hGSR34\"\u001b[0m\u001b[1;33m}\u001b[0m\u001b[1;33m)\u001b[0m\u001b[1;33m\u001b[0m\u001b[1;33m\u001b[0m\u001b[0m\n\u001b[1;32m---> 11\u001b[1;33m     \u001b[0mprint\u001b[0m\u001b[1;33m(\u001b[0m\u001b[1;34m\"{} {} {}\"\u001b[0m\u001b[1;33m.\u001b[0m\u001b[0mformat\u001b[0m\u001b[1;33m(\u001b[0m\u001b[0mname\u001b[0m\u001b[1;33m.\u001b[0m\u001b[0mtext\u001b[0m\u001b[1;33m,\u001b[0m\u001b[0mprice\u001b[0m\u001b[1;33m.\u001b[0m\u001b[0mtext\u001b[0m\u001b[1;33m,\u001b[0m\u001b[0mrating\u001b[0m\u001b[1;33m.\u001b[0m\u001b[0mtext\u001b[0m\u001b[1;33m)\u001b[0m\u001b[1;33m)\u001b[0m\u001b[1;33m\u001b[0m\u001b[1;33m\u001b[0m\u001b[0m\n\u001b[0m",
      "\u001b[1;31mAttributeError\u001b[0m: 'NoneType' object has no attribute 'text'"
     ]
    }
   ],
   "source": [
    "response1 = requests.get(\"https://www.flipkart.com/search?q=mobiles&otracker=search&otracker1=search&marketplace=FLIPKART&as-show=on&as=off\")\n",
    "soup = BeautifulSoup(response1.content,\"html.parser\")\n",
    "#print(response1.content)\n",
    "\n",
    "cards1 = soup.find_all(\"div\",attrs = {\"class\" :\"_3I9_wc _27UcVY\"})\n",
    "print(cards1)\n",
    "for card in cards1:\n",
    "    name = card.find(\"div\", attrs = {\"class\" :\"_3wU53n\"})\n",
    "    price = card.find(\"div\", attrs = {\"class\" :\"_1vC4OE _2rQ-NK\"} )\n",
    "    rating = card.find(\"div\", attrs ={\"class\": \"hGSR34\"})\n",
    "    print(\"{} {} {}\".format(name.text,price.text,rating.text))"
   ]
  },
  {
   "cell_type": "code",
   "execution_count": 5,
   "metadata": {},
   "outputs": [
    {
     "ename": "AttributeError",
     "evalue": "'NoneType' object has no attribute 'get'",
     "output_type": "error",
     "traceback": [
      "\u001b[1;31m---------------------------------------------------------------------------\u001b[0m",
      "\u001b[1;31mAttributeError\u001b[0m                            Traceback (most recent call last)",
      "\u001b[1;32m<ipython-input-5-073091e1f980>\u001b[0m in \u001b[0;36m<module>\u001b[1;34m\u001b[0m\n\u001b[0;32m      2\u001b[0m \u001b[1;33m\u001b[0m\u001b[0m\n\u001b[0;32m      3\u001b[0m \u001b[1;32mfor\u001b[0m \u001b[0mx\u001b[0m \u001b[1;32min\u001b[0m \u001b[0mrange\u001b[0m\u001b[1;33m(\u001b[0m\u001b[1;36m1\u001b[0m\u001b[1;33m,\u001b[0m\u001b[1;36m101\u001b[0m\u001b[1;33m)\u001b[0m\u001b[1;33m:\u001b[0m\u001b[1;33m\u001b[0m\u001b[1;33m\u001b[0m\u001b[0m\n\u001b[1;32m----> 4\u001b[1;33m     \u001b[0mlink\u001b[0m \u001b[1;33m=\u001b[0m \u001b[1;33m(\u001b[0m\u001b[0msoup\u001b[0m\u001b[1;33m.\u001b[0m\u001b[0mfind\u001b[0m\u001b[1;33m(\u001b[0m\u001b[1;34m\"a\"\u001b[0m\u001b[1;33m,\u001b[0m\u001b[0mattrs\u001b[0m \u001b[1;33m=\u001b[0m\u001b[1;33m{\u001b[0m\u001b[1;34m\"class\"\u001b[0m\u001b[1;33m:\u001b[0m\u001b[1;34m\"_3fVaIS\"\u001b[0m\u001b[1;33m}\u001b[0m\u001b[1;33m)\u001b[0m\u001b[1;33m)\u001b[0m\u001b[1;33m.\u001b[0m\u001b[0mget\u001b[0m\u001b[1;33m(\u001b[0m\u001b[1;34m\"href\"\u001b[0m\u001b[1;33m)\u001b[0m\u001b[1;33m\u001b[0m\u001b[1;33m\u001b[0m\u001b[0m\n\u001b[0m\u001b[0;32m      5\u001b[0m     \u001b[0mhomepage_url\u001b[0m \u001b[1;33m=\u001b[0m \u001b[1;34m\"https://www.flipkart.com\"\u001b[0m\u001b[1;33m\u001b[0m\u001b[1;33m\u001b[0m\u001b[0m\n\u001b[0;32m      6\u001b[0m     \u001b[0mnext_link\u001b[0m \u001b[1;33m=\u001b[0m \u001b[0mhomepage_url\u001b[0m \u001b[1;33m+\u001b[0m \u001b[0mlink\u001b[0m\u001b[1;33m\u001b[0m\u001b[1;33m\u001b[0m\u001b[0m\n",
      "\u001b[1;31mAttributeError\u001b[0m: 'NoneType' object has no attribute 'get'"
     ]
    }
   ],
   "source": [
    "fp = open(\"WS_Flipkart_Mobiles.txt\",\"w+\",encoding = \"UTF\")\n",
    "\n",
    "for x in range(1,101):\n",
    "    link = (soup.find(\"a\",attrs ={\"class\":\"_3fVaIS\"})).get(\"href\")\n",
    "    homepage_url = \"https://www.flipkart.com\"\n",
    "    next_link = homepage_url + link\n",
    "\n",
    "    response = requests.get(next_link)\n",
    "    soup = BeautifulSoup(response2.content,\"html.parser\")\n",
    "   \n",
    "    cards = soup.find_all(\"div\",attrs = {\"class\" :\"_1UoZlX\"})\n",
    "    \n",
    "    for card in cards:\n",
    "        name = card.find(\"div\", attrs = {\"class\" :\"_3wU53n\"})\n",
    "        price = card.find(\"div\", attrs = {\"class\" :\"_1vC4OE _2rQ-NK\"} )\n",
    "        rating = card.find(\"div\", attrs ={\"class\": \"hGSR34\"})\n",
    "        content = \"{} {} {} \\n\".format(name.text,price.text,rating.text)\n",
    "        fp.write(content)\n",
    "        \n",
    "fp.close()"
   ]
  },
  {
   "cell_type": "code",
   "execution_count": 47,
   "metadata": {},
   "outputs": [
    {
     "name": "stdout",
     "output_type": "stream",
     "text": [
      "2400\n"
     ]
    }
   ],
   "source": [
    "fp = open(\"WS_Flipkart_Mobiles.txt\",\"r+\",encoding = \"UTF\")\n",
    "content = fp.readlines()\n",
    "print(len(content))"
   ]
  },
  {
   "cell_type": "code",
   "execution_count": null,
   "metadata": {},
   "outputs": [],
   "source": []
  },
  {
   "cell_type": "code",
   "execution_count": 19,
   "metadata": {},
   "outputs": [
    {
     "name": "stdout",
     "output_type": "stream",
     "text": [
      "[]\n"
     ]
    }
   ],
   "source": [
    "response = requests.get(\"https://www.bseindia.com/markets/equity/EQReports/MarketWatch.html?index_code=16\")\n",
    "\n",
    "soup = BeautifulSoup(response.content,\"html.parser\")\n",
    "\n",
    "#table = soup.find(\"div\",attrs = {\"class\":\"col-lg-12 largetable\"})\n",
    "table = soup.find_all(\"a\",attrs={\"class\":\"ng-binding\"})\n",
    "print(table)\n"
   ]
  },
  {
   "cell_type": "code",
   "execution_count": 17,
   "metadata": {},
   "outputs": [
    {
     "name": "stdout",
     "output_type": "stream",
     "text": [
      "[]\n"
     ]
    }
   ],
   "source": [
    "response = requests.get(\"https://www.insidefutures.com/markets/data.php?page=quote&sym=ng&x=13&y=8\")\n",
    "\n",
    "soup = BeautifulSoup(response.content,\"html.parser\")\n",
    "\n",
    "#table = soup.find(\"div\",attrs = {\"class\":\"col-lg-12 largetable\"})\n",
    "table = soup.find_all(\"a\",attrs={\"class\":\"ng-binding\"})\n",
    "print(table)\n"
   ]
  },
  {
   "cell_type": "code",
   "execution_count": 14,
   "metadata": {},
   "outputs": [],
   "source": [
    "from selenium import webdriver\n",
    "from selenium.webdriver.chrome.options import Options  \n",
    "import pandas as pd"
   ]
  },
  {
   "cell_type": "code",
   "execution_count": 15,
   "metadata": {},
   "outputs": [
    {
     "ename": "SessionNotCreatedException",
     "evalue": "Message: session not created: This version of ChromeDriver only supports Chrome version 80\n",
     "output_type": "error",
     "traceback": [
      "\u001b[1;31m---------------------------------------------------------------------------\u001b[0m",
      "\u001b[1;31mSessionNotCreatedException\u001b[0m                Traceback (most recent call last)",
      "\u001b[1;32m<ipython-input-15-116d75068482>\u001b[0m in \u001b[0;36m<module>\u001b[1;34m\u001b[0m\n\u001b[1;32m----> 1\u001b[1;33m \u001b[0mdriver\u001b[0m \u001b[1;33m=\u001b[0m \u001b[0mwebdriver\u001b[0m\u001b[1;33m.\u001b[0m\u001b[0mChrome\u001b[0m\u001b[1;33m(\u001b[0m\u001b[1;34m'E:\\SoftWare\\chromedriver.exe'\u001b[0m\u001b[1;33m)\u001b[0m\u001b[1;33m\u001b[0m\u001b[1;33m\u001b[0m\u001b[0m\n\u001b[0m\u001b[0;32m      2\u001b[0m \u001b[0mdriver\u001b[0m\u001b[1;33m.\u001b[0m\u001b[0mget\u001b[0m\u001b[1;33m(\u001b[0m\u001b[1;34m\"https://www.bseindia.com/markets/equity/EQReports/MarketWatch.html?index_code=16\"\u001b[0m\u001b[1;33m)\u001b[0m\u001b[1;33m\u001b[0m\u001b[1;33m\u001b[0m\u001b[0m\n\u001b[0;32m      3\u001b[0m \u001b[0mdriver\u001b[0m\u001b[1;33m.\u001b[0m\u001b[0mmaximize_window\u001b[0m\u001b[1;33m(\u001b[0m\u001b[1;33m)\u001b[0m\u001b[1;33m\u001b[0m\u001b[1;33m\u001b[0m\u001b[0m\n\u001b[0;32m      4\u001b[0m \u001b[1;33m\u001b[0m\u001b[0m\n\u001b[0;32m      5\u001b[0m \u001b[0mtable\u001b[0m \u001b[1;33m=\u001b[0m \u001b[0mdriver\u001b[0m\u001b[1;33m.\u001b[0m\u001b[0mfind_elements_by_xpath\u001b[0m\u001b[1;33m(\u001b[0m\u001b[1;34m\"//tbody\"\u001b[0m\u001b[1;33m)\u001b[0m\u001b[1;33m\u001b[0m\u001b[1;33m\u001b[0m\u001b[0m\n",
      "\u001b[1;32mc:\\users\\sanu menon\\appdata\\local\\programs\\python\\python37\\lib\\site-packages\\selenium\\webdriver\\chrome\\webdriver.py\u001b[0m in \u001b[0;36m__init__\u001b[1;34m(self, executable_path, port, options, service_args, desired_capabilities, service_log_path, chrome_options, keep_alive)\u001b[0m\n\u001b[0;32m     79\u001b[0m                     \u001b[0mremote_server_addr\u001b[0m\u001b[1;33m=\u001b[0m\u001b[0mself\u001b[0m\u001b[1;33m.\u001b[0m\u001b[0mservice\u001b[0m\u001b[1;33m.\u001b[0m\u001b[0mservice_url\u001b[0m\u001b[1;33m,\u001b[0m\u001b[1;33m\u001b[0m\u001b[1;33m\u001b[0m\u001b[0m\n\u001b[0;32m     80\u001b[0m                     keep_alive=keep_alive),\n\u001b[1;32m---> 81\u001b[1;33m                 desired_capabilities=desired_capabilities)\n\u001b[0m\u001b[0;32m     82\u001b[0m         \u001b[1;32mexcept\u001b[0m \u001b[0mException\u001b[0m\u001b[1;33m:\u001b[0m\u001b[1;33m\u001b[0m\u001b[1;33m\u001b[0m\u001b[0m\n\u001b[0;32m     83\u001b[0m             \u001b[0mself\u001b[0m\u001b[1;33m.\u001b[0m\u001b[0mquit\u001b[0m\u001b[1;33m(\u001b[0m\u001b[1;33m)\u001b[0m\u001b[1;33m\u001b[0m\u001b[1;33m\u001b[0m\u001b[0m\n",
      "\u001b[1;32mc:\\users\\sanu menon\\appdata\\local\\programs\\python\\python37\\lib\\site-packages\\selenium\\webdriver\\remote\\webdriver.py\u001b[0m in \u001b[0;36m__init__\u001b[1;34m(self, command_executor, desired_capabilities, browser_profile, proxy, keep_alive, file_detector, options)\u001b[0m\n\u001b[0;32m    155\u001b[0m             warnings.warn(\"Please use FirefoxOptions to set browser profile\",\n\u001b[0;32m    156\u001b[0m                           DeprecationWarning, stacklevel=2)\n\u001b[1;32m--> 157\u001b[1;33m         \u001b[0mself\u001b[0m\u001b[1;33m.\u001b[0m\u001b[0mstart_session\u001b[0m\u001b[1;33m(\u001b[0m\u001b[0mcapabilities\u001b[0m\u001b[1;33m,\u001b[0m \u001b[0mbrowser_profile\u001b[0m\u001b[1;33m)\u001b[0m\u001b[1;33m\u001b[0m\u001b[1;33m\u001b[0m\u001b[0m\n\u001b[0m\u001b[0;32m    158\u001b[0m         \u001b[0mself\u001b[0m\u001b[1;33m.\u001b[0m\u001b[0m_switch_to\u001b[0m \u001b[1;33m=\u001b[0m \u001b[0mSwitchTo\u001b[0m\u001b[1;33m(\u001b[0m\u001b[0mself\u001b[0m\u001b[1;33m)\u001b[0m\u001b[1;33m\u001b[0m\u001b[1;33m\u001b[0m\u001b[0m\n\u001b[0;32m    159\u001b[0m         \u001b[0mself\u001b[0m\u001b[1;33m.\u001b[0m\u001b[0m_mobile\u001b[0m \u001b[1;33m=\u001b[0m \u001b[0mMobile\u001b[0m\u001b[1;33m(\u001b[0m\u001b[0mself\u001b[0m\u001b[1;33m)\u001b[0m\u001b[1;33m\u001b[0m\u001b[1;33m\u001b[0m\u001b[0m\n",
      "\u001b[1;32mc:\\users\\sanu menon\\appdata\\local\\programs\\python\\python37\\lib\\site-packages\\selenium\\webdriver\\remote\\webdriver.py\u001b[0m in \u001b[0;36mstart_session\u001b[1;34m(self, capabilities, browser_profile)\u001b[0m\n\u001b[0;32m    250\u001b[0m         parameters = {\"capabilities\": w3c_caps,\n\u001b[0;32m    251\u001b[0m                       \"desiredCapabilities\": capabilities}\n\u001b[1;32m--> 252\u001b[1;33m         \u001b[0mresponse\u001b[0m \u001b[1;33m=\u001b[0m \u001b[0mself\u001b[0m\u001b[1;33m.\u001b[0m\u001b[0mexecute\u001b[0m\u001b[1;33m(\u001b[0m\u001b[0mCommand\u001b[0m\u001b[1;33m.\u001b[0m\u001b[0mNEW_SESSION\u001b[0m\u001b[1;33m,\u001b[0m \u001b[0mparameters\u001b[0m\u001b[1;33m)\u001b[0m\u001b[1;33m\u001b[0m\u001b[1;33m\u001b[0m\u001b[0m\n\u001b[0m\u001b[0;32m    253\u001b[0m         \u001b[1;32mif\u001b[0m \u001b[1;34m'sessionId'\u001b[0m \u001b[1;32mnot\u001b[0m \u001b[1;32min\u001b[0m \u001b[0mresponse\u001b[0m\u001b[1;33m:\u001b[0m\u001b[1;33m\u001b[0m\u001b[1;33m\u001b[0m\u001b[0m\n\u001b[0;32m    254\u001b[0m             \u001b[0mresponse\u001b[0m \u001b[1;33m=\u001b[0m \u001b[0mresponse\u001b[0m\u001b[1;33m[\u001b[0m\u001b[1;34m'value'\u001b[0m\u001b[1;33m]\u001b[0m\u001b[1;33m\u001b[0m\u001b[1;33m\u001b[0m\u001b[0m\n",
      "\u001b[1;32mc:\\users\\sanu menon\\appdata\\local\\programs\\python\\python37\\lib\\site-packages\\selenium\\webdriver\\remote\\webdriver.py\u001b[0m in \u001b[0;36mexecute\u001b[1;34m(self, driver_command, params)\u001b[0m\n\u001b[0;32m    319\u001b[0m         \u001b[0mresponse\u001b[0m \u001b[1;33m=\u001b[0m \u001b[0mself\u001b[0m\u001b[1;33m.\u001b[0m\u001b[0mcommand_executor\u001b[0m\u001b[1;33m.\u001b[0m\u001b[0mexecute\u001b[0m\u001b[1;33m(\u001b[0m\u001b[0mdriver_command\u001b[0m\u001b[1;33m,\u001b[0m \u001b[0mparams\u001b[0m\u001b[1;33m)\u001b[0m\u001b[1;33m\u001b[0m\u001b[1;33m\u001b[0m\u001b[0m\n\u001b[0;32m    320\u001b[0m         \u001b[1;32mif\u001b[0m \u001b[0mresponse\u001b[0m\u001b[1;33m:\u001b[0m\u001b[1;33m\u001b[0m\u001b[1;33m\u001b[0m\u001b[0m\n\u001b[1;32m--> 321\u001b[1;33m             \u001b[0mself\u001b[0m\u001b[1;33m.\u001b[0m\u001b[0merror_handler\u001b[0m\u001b[1;33m.\u001b[0m\u001b[0mcheck_response\u001b[0m\u001b[1;33m(\u001b[0m\u001b[0mresponse\u001b[0m\u001b[1;33m)\u001b[0m\u001b[1;33m\u001b[0m\u001b[1;33m\u001b[0m\u001b[0m\n\u001b[0m\u001b[0;32m    322\u001b[0m             response['value'] = self._unwrap_value(\n\u001b[0;32m    323\u001b[0m                 response.get('value', None))\n",
      "\u001b[1;32mc:\\users\\sanu menon\\appdata\\local\\programs\\python\\python37\\lib\\site-packages\\selenium\\webdriver\\remote\\errorhandler.py\u001b[0m in \u001b[0;36mcheck_response\u001b[1;34m(self, response)\u001b[0m\n\u001b[0;32m    240\u001b[0m                 \u001b[0malert_text\u001b[0m \u001b[1;33m=\u001b[0m \u001b[0mvalue\u001b[0m\u001b[1;33m[\u001b[0m\u001b[1;34m'alert'\u001b[0m\u001b[1;33m]\u001b[0m\u001b[1;33m.\u001b[0m\u001b[0mget\u001b[0m\u001b[1;33m(\u001b[0m\u001b[1;34m'text'\u001b[0m\u001b[1;33m)\u001b[0m\u001b[1;33m\u001b[0m\u001b[1;33m\u001b[0m\u001b[0m\n\u001b[0;32m    241\u001b[0m             \u001b[1;32mraise\u001b[0m \u001b[0mexception_class\u001b[0m\u001b[1;33m(\u001b[0m\u001b[0mmessage\u001b[0m\u001b[1;33m,\u001b[0m \u001b[0mscreen\u001b[0m\u001b[1;33m,\u001b[0m \u001b[0mstacktrace\u001b[0m\u001b[1;33m,\u001b[0m \u001b[0malert_text\u001b[0m\u001b[1;33m)\u001b[0m\u001b[1;33m\u001b[0m\u001b[1;33m\u001b[0m\u001b[0m\n\u001b[1;32m--> 242\u001b[1;33m         \u001b[1;32mraise\u001b[0m \u001b[0mexception_class\u001b[0m\u001b[1;33m(\u001b[0m\u001b[0mmessage\u001b[0m\u001b[1;33m,\u001b[0m \u001b[0mscreen\u001b[0m\u001b[1;33m,\u001b[0m \u001b[0mstacktrace\u001b[0m\u001b[1;33m)\u001b[0m\u001b[1;33m\u001b[0m\u001b[1;33m\u001b[0m\u001b[0m\n\u001b[0m\u001b[0;32m    243\u001b[0m \u001b[1;33m\u001b[0m\u001b[0m\n\u001b[0;32m    244\u001b[0m     \u001b[1;32mdef\u001b[0m \u001b[0m_value_or_default\u001b[0m\u001b[1;33m(\u001b[0m\u001b[0mself\u001b[0m\u001b[1;33m,\u001b[0m \u001b[0mobj\u001b[0m\u001b[1;33m,\u001b[0m \u001b[0mkey\u001b[0m\u001b[1;33m,\u001b[0m \u001b[0mdefault\u001b[0m\u001b[1;33m)\u001b[0m\u001b[1;33m:\u001b[0m\u001b[1;33m\u001b[0m\u001b[1;33m\u001b[0m\u001b[0m\n",
      "\u001b[1;31mSessionNotCreatedException\u001b[0m: Message: session not created: This version of ChromeDriver only supports Chrome version 80\n"
     ]
    }
   ],
   "source": [
    "driver = webdriver.Chrome('E:\\SoftWare\\chromedriver.exe')\n",
    "driver.get(\"https://www.bseindia.com/markets/equity/EQReports/MarketWatch.html?index_code=16\")\n",
    "driver.maximize_window()\n",
    "\n",
    "table = driver.find_elements_by_xpath(\"//tbody\")\n",
    "\n",
    "rows = [row.text for row in table]\n",
    "print(rows)"
   ]
  },
  {
   "cell_type": "code",
   "execution_count": 21,
   "metadata": {},
   "outputs": [
    {
     "ename": "AttributeError",
     "evalue": "'list' object has no attribute 'text'",
     "output_type": "error",
     "traceback": [
      "\u001b[1;31m---------------------------------------------------------------------------\u001b[0m",
      "\u001b[1;31mAttributeError\u001b[0m                            Traceback (most recent call last)",
      "\u001b[1;32m<ipython-input-21-ac37a969e90f>\u001b[0m in \u001b[0;36m<module>\u001b[1;34m\u001b[0m\n\u001b[0;32m     10\u001b[0m \u001b[1;33m\u001b[0m\u001b[0m\n\u001b[0;32m     11\u001b[0m \u001b[1;31m#rows = [row.text for row in table]\u001b[0m\u001b[1;33m\u001b[0m\u001b[1;33m\u001b[0m\u001b[1;33m\u001b[0m\u001b[0m\n\u001b[1;32m---> 12\u001b[1;33m \u001b[0mprint\u001b[0m\u001b[1;33m(\u001b[0m\u001b[0mtable\u001b[0m\u001b[1;33m.\u001b[0m\u001b[0mtext\u001b[0m\u001b[1;33m)\u001b[0m\u001b[1;33m\u001b[0m\u001b[1;33m\u001b[0m\u001b[0m\n\u001b[0m",
      "\u001b[1;31mAttributeError\u001b[0m: 'list' object has no attribute 'text'"
     ]
    }
   ],
   "source": [
    "chrome_options = webdriver.ChromeOptions()\n",
    "chrome_options.add_argument(\"--headless\") \n",
    "\n",
    "driver = webdriver.Chrome('E:\\SoftWare\\chromedriver.exe',   options=chrome_options)  \n",
    "\n",
    "driver.get(\"https://www.bseindia.com/markets/equity/EQReports/MarketWatch.html?index_code=16\")\n",
    "driver.maximize_window()\n",
    "\n",
    "table = driver.find_elements_by_xpath(\"//tbody\")\n",
    "\n",
    "#rows = [row.text for row in table]\n",
    "print(table.text)"
   ]
  },
  {
   "cell_type": "code",
   "execution_count": 18,
   "metadata": {},
   "outputs": [
    {
     "name": "stdout",
     "output_type": "stream",
     "text": [
      "Security Code Security Name Security Group Open High Low LTP No. of Shares Traded Total Turnover(₹ Lac.) No. of Trades\n",
      "500325 RELIANCE A 1,130.00 1,131.60 1,057.00 1,078.20 14,73,406 15,829.10 28,689\n",
      "500112 SBIN A 187.50 188.00 175.00 175.55 34,10,477 6,087.76 36,340\n",
      "532174 ICICIBANK A 311.00 311.00 281.60 286.50 19,67,226 5,751.07 33,287\n",
      "500034 BAJFINANCE A 2,250.00 2,341.75 2,185.00 2,207.35 2,41,714 5,471.07 24,648\n",
      "500180 HDFCBANK A 841.00 846.55 810.00 813.50 6,10,898 5,031.16 22,282\n",
      "532187 INDUSINDBK A 350.80 350.80 310.40 313.25 12,97,280 4,149.67 31,879\n",
      "500247 KOTAKBANK A 1,183.00 1,183.65 1,090.20 1,140.00 3,60,612 4,038.47 26,441\n",
      "500875 ITC A 168.20 182.65 167.30 177.80 19,52,021 3,437.51 23,158\n",
      "532215 AXISBANK A 360.45 362.70 324.00 325.60 9,80,697 3,331.72 21,713\n",
      "500010 HDFC A 1,584.40 1,584.40 1,483.15 1,499.40 2,01,240 3,048.65 15,458\n",
      "532540 TCS A 1,731.30 1,740.00 1,650.00 1,654.40 1,70,043 2,865.96 15,137\n",
      "524715 SUNPHARMA* A 344.00 384.90 340.50 375.90 6,78,297 2,512.17 16,272\n",
      "532500 MARUTI A 4,255.00 4,255.00 4,002.00 4,011.65 60,202 2,465.23 14,185\n",
      "500696 HINDUNILVR A 2,225.00 2,253.25 2,128.65 2,153.55 92,665 2,021.33 8,528\n",
      "500209 INFY A 604.10 606.65 582.35 585.45 3,27,035 1,936.58 12,542\n",
      "500470 TATASTEEL A 266.45 268.45 251.05 253.85 6,89,365 1,762.98 12,589\n",
      "500510 LT A 786.30 790.00 763.00 774.85 2,27,919 1,761.90 15,913\n",
      "500312 ONGC A 69.35 71.00 66.50 69.85 23,36,927 1,611.53 9,719\n",
      "532454 BHARTIARTL A 423.00 429.65 415.70 423.95 3,63,451 1,537.70 7,922\n",
      "500114 TITAN A 936.75 936.75 856.60 862.70 1,64,933 1,457.91 13,642\n",
      "500820 ASIANPAINT A 1,624.00 1,624.00 1,517.45 1,521.30 69,260 1,063.84 8,626\n",
      "500790 NESTLEIND A 15,706.00 15,861.90 14,989.10 15,150.80 6,830 1,041.91 2,928\n",
      "500520 M&M A 275.00 290.00 271.45 280.90 3,59,702 1,021.24 9,943\n",
      "532755 TECHM A 512.90 532.50 510.20 520.65 1,54,792 806.25 9,886\n",
      "500182 HEROMOTOCO A 1,619.95 1,619.95 1,544.90 1,583.65 39,309 620.64 5,460\n",
      "532281 HCLTECH A 427.50 428.10 399.65 404.95 1,34,575 557.63 4,855\n",
      "532538 ULTRACEMCO A 3,248.95 3,248.95 3,029.00 3,040.70 16,744 516.34 2,854\n",
      "532977 BAJAJ-AUTO A 2,052.00 2,052.00 1,959.00 2,033.20 17,620 354.00 2,407\n",
      "532898 POWERGRID A 159.50 160.25 152.00 156.35 1,76,340 277.78 3,999\n",
      "532555 NTPC A 81.50 82.50 78.85 79.45 3,32,503 266.29 3,011\n"
     ]
    }
   ],
   "source": [
    "from selenium.webdriver.chrome.options import Options\n",
    "chrome_options = webdriver.ChromeOptions()\n",
    "chrome_options.add_argument(\"--headless\")\n",
    "\n",
    "driver = webdriver.Chrome(\"E:\\SoftWare\\chromedriver.exe\", options = chrome_options )\n",
    "driver.get(\"https://www.bseindia.com/markets/equity/EQReports/MarketWatch.html?index_code=16\")\n",
    "driver.maximize_window()\n",
    "\n",
    "table = driver.find_element_by_xpath(\"//tbody\")\n",
    "print(table.text)"
   ]
  }
 ],
 "metadata": {
  "kernelspec": {
   "display_name": "Python 3",
   "language": "python",
   "name": "python3"
  },
  "language_info": {
   "codemirror_mode": {
    "name": "ipython",
    "version": 3
   },
   "file_extension": ".py",
   "mimetype": "text/x-python",
   "name": "python",
   "nbconvert_exporter": "python",
   "pygments_lexer": "ipython3",
   "version": "3.7.6"
  }
 },
 "nbformat": 4,
 "nbformat_minor": 4
}
