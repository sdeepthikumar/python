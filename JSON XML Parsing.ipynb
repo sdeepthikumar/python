{
 "cells": [
  {
   "cell_type": "code",
   "execution_count": 3,
   "metadata": {},
   "outputs": [],
   "source": [
    "import json "
   ]
  },
  {
   "cell_type": "code",
   "execution_count": 4,
   "metadata": {},
   "outputs": [
    {
     "name": "stdout",
     "output_type": "stream",
     "text": [
      "{\n",
      "    \"glossary\": {\n",
      "        \"title\": [\n",
      "            \"TITLE1\",\n",
      "            \"TITLE\"\n",
      "        ],\n",
      "        \"GlossDiv\": {\n",
      "            \"title\": \"NEW TITLE\",\n",
      "            \"GlossList\": {\n",
      "                \"GlossEntry\": {\n",
      "                    \"ID\": \"SGML\",\n",
      "                    \"SortAs\": \"SGML\",\n",
      "                    \"GlossTerm\": \"Standard Generalized Markup Language\",\n",
      "                    \"Acronym\": \"SGML\",\n",
      "                    \"Abbrev\": \"ISO 8879:1986\",\n",
      "                    \"GlossDef\": {\n",
      "                        \"para\": \"A meta-markup language, used to create markup languages such as DocBook.\",\n",
      "                        \"GlossSeeAlso\": [\n",
      "                            \"GML\",\n",
      "                            \"XML\"\n",
      "                        ]\n",
      "                    },\n",
      "                    \"GlossSee\": \"markup\",\n",
      "                    \"TESTVAL1\": true,\n",
      "                    \"TESTVAL2\": null\n",
      "                }\n",
      "            }\n",
      "        }\n",
      "    }\n",
      "}\n"
     ]
    }
   ],
   "source": [
    "fp = open(\"json_testfile.json\",\"r\")\n",
    "content = fp.read()\n",
    "#print(content)\n",
    "d = json.loads(content)\n",
    "#print(d)\n",
    "#print(d['glossary']['GlossDiv']['title'])\n",
    "d['glossary']['GlossDiv']['title'] = \"NEW TITLE\"\n",
    "#print(d['glossary']['GlossDiv']['title'])\n",
    "\n",
    "d['glossary']['title'] = (\"TITLE1\",\"TITLE\")\n",
    "#print(d['glossary']['title'])\n",
    "\n",
    "j = json.dumps(d,indent=4)\n",
    "print(j)\n",
    "fp.close()"
   ]
  },
  {
   "cell_type": "code",
   "execution_count": 5,
   "metadata": {},
   "outputs": [],
   "source": [
    "fp = open(\"example_2.json\",\"r\")"
   ]
  },
  {
   "cell_type": "code",
   "execution_count": 6,
   "metadata": {},
   "outputs": [],
   "source": [
    "#fp fpfp.close()"
   ]
  },
  {
   "cell_type": "code",
   "execution_count": 7,
   "metadata": {},
   "outputs": [],
   "source": [
    "content = fp.read()"
   ]
  },
  {
   "cell_type": "code",
   "execution_count": 8,
   "metadata": {},
   "outputs": [],
   "source": [
    "content_in_json = json.loads(content)"
   ]
  },
  {
   "cell_type": "code",
   "execution_count": 9,
   "metadata": {},
   "outputs": [
    {
     "data": {
      "text/plain": [
       "{'quiz': {'sport': {'q1': {'question': 'Which one is correct team name in NBA?',\n",
       "    'options': ['New York Bulls',\n",
       "     'Los Angeles Kings',\n",
       "     'Golden State Warriros',\n",
       "     'Huston Rocket'],\n",
       "    'answer': 'Huston Rocket'}},\n",
       "  'maths': {'q1': {'question': '5 + 7 = ?',\n",
       "    'options': ['10', '11', '12', '13'],\n",
       "    'answer': '12'},\n",
       "   'q2': {'question': '12 - 8 = ?',\n",
       "    'options': ['1', '2', '3', '4'],\n",
       "    'answer': '4'}}}}"
      ]
     },
     "execution_count": 9,
     "metadata": {},
     "output_type": "execute_result"
    }
   ],
   "source": [
    "content_in_json"
   ]
  },
  {
   "cell_type": "code",
   "execution_count": 10,
   "metadata": {},
   "outputs": [
    {
     "data": {
      "text/plain": [
       "['New York Bulls',\n",
       " 'Los Angeles Kings',\n",
       " 'Golden State Warriros',\n",
       " 'Huston Rocket']"
      ]
     },
     "execution_count": 10,
     "metadata": {},
     "output_type": "execute_result"
    }
   ],
   "source": [
    "content_in_json['quiz']['sport']['q1']['options']"
   ]
  },
  {
   "cell_type": "code",
   "execution_count": 16,
   "metadata": {},
   "outputs": [
    {
     "data": {
      "text/plain": [
       "dict_items([('question', '12 - 8 = ?'), ('options', ['1', '2', '3', '4']), ('answer', '4')])"
      ]
     },
     "execution_count": 16,
     "metadata": {},
     "output_type": "execute_result"
    }
   ],
   "source": [
    "content_in_json[quiz][subsections][questions_nums].items()"
   ]
  },
  {
   "cell_type": "code",
   "execution_count": 59,
   "metadata": {},
   "outputs": [
    {
     "name": "stdout",
     "output_type": "stream",
     "text": [
      "1. Which one is correct team name in NBA?\n",
      "  a. New York Bulls\n",
      "  b. Los Angeles Kings\n",
      "  c. Golden State Warriros\n",
      "  d. Huston Rocket\n",
      "\n",
      "\n",
      "2. 5 + 7 = ?\n",
      "  a. 10\n",
      "  b. 11\n",
      "  c. 12\n",
      "  d. 13\n",
      "\n",
      "\n",
      "3. 12 - 8 = ?\n",
      "  a. 1\n",
      "  b. 2\n",
      "  c. 3\n",
      "  d. 4\n",
      "\n",
      "\n",
      "Answers: {1: 'Huston Rocket', 2: '12', 3: '4'}\n"
     ]
    }
   ],
   "source": [
    "q_count = 0\n",
    "answers = {}\n",
    "for quiz in content_in_json:\n",
    "    for subsections in content_in_json[quiz]:\n",
    "        for q_nums in content_in_json[quiz][subsections]:\n",
    "            q_count +=1\n",
    "            question_data = content_in_json[quiz][subsections][q_nums]\n",
    "            print(str(q_count)+'.',question_data['question'])\n",
    "            i = 0\n",
    "            for i,option in enumerate(question_data['options']):\n",
    "                print('  ' + chr(ord('a')+i) + '.',option)\n",
    "            answers[q_count]= question_data['answer']\n",
    "            print(\"\\n\")\n",
    "print('Answers:',answers)\n",
    "\n",
    "                "
   ]
  },
  {
   "cell_type": "code",
   "execution_count": 65,
   "metadata": {},
   "outputs": [],
   "source": [
    "space_astro = {\"number\": 3, \"people\": [{\"craft\": \"ISS\", \"name\": \"Chris Cassidy\"}, {\"craft\": \"ISS\", \"name\": \"Anatoly Ivanishin\"}, {\"craft\": \"ISS\", \"name\": \"Ivan Vagner\"}], \"message\": \"success\"}"
   ]
  },
  {
   "cell_type": "code",
   "execution_count": 66,
   "metadata": {},
   "outputs": [],
   "source": [
    "space_astro[\"people\"].append({\"craft\":\"DSK\", \"name\": \"Deepthi S\"})\n",
    "space_astro[\"number\"] +=1"
   ]
  },
  {
   "cell_type": "code",
   "execution_count": 67,
   "metadata": {},
   "outputs": [
    {
     "data": {
      "text/plain": [
       "{'number': 4,\n",
       " 'people': [{'craft': 'ISS', 'name': 'Chris Cassidy'},\n",
       "  {'craft': 'ISS', 'name': 'Anatoly Ivanishin'},\n",
       "  {'craft': 'ISS', 'name': 'Ivan Vagner'},\n",
       "  {'craft': 'DSK', 'name': 'Deepthi S'}],\n",
       " 'message': 'success'}"
      ]
     },
     "execution_count": 67,
     "metadata": {},
     "output_type": "execute_result"
    }
   ],
   "source": [
    "space_astro"
   ]
  },
  {
   "cell_type": "code",
   "execution_count": 68,
   "metadata": {},
   "outputs": [],
   "source": [
    "fp = open(\"space_astro_data.json\",\"w+\")\n",
    "dump_data = json.dumps(space_astro)"
   ]
  },
  {
   "cell_type": "code",
   "execution_count": 69,
   "metadata": {},
   "outputs": [],
   "source": [
    "fp.write(dump_data)\n",
    "fp.close()"
   ]
  },
  {
   "cell_type": "code",
   "execution_count": 1,
   "metadata": {},
   "outputs": [],
   "source": [
    "import requests"
   ]
  },
  {
   "cell_type": "code",
   "execution_count": 5,
   "metadata": {},
   "outputs": [
    {
     "name": "stdout",
     "output_type": "stream",
     "text": [
      "{\n",
      "  \"args\": {\n",
      "    \"hello\": \"world\"\n",
      "  }, \n",
      "  \"headers\": {\n",
      "    \"Accept\": \"*/*\", \n",
      "    \"Accept-Encoding\": \"gzip, deflate\", \n",
      "    \"Host\": \"httpbin.org\", \n",
      "    \"User-Agent\": \"python-requests/2.23.0\", \n",
      "    \"X-Amzn-Trace-Id\": \"Root=1-5f46777c-a743c61015d11c38f4656880\"\n",
      "  }, \n",
      "  \"origin\": \"27.7.16.225\", \n",
      "  \"url\": \"https://httpbin.org/get?hello=world\"\n",
      "}\n",
      "\n"
     ]
    }
   ],
   "source": [
    "response = requests.get(\"https://httpbin.org/get\",params = {\"hello\":\"world\"})\n",
    "print(response.text)"
   ]
  },
  {
   "cell_type": "code",
   "execution_count": 8,
   "metadata": {},
   "outputs": [
    {
     "name": "stdout",
     "output_type": "stream",
     "text": [
      "{\n",
      "  \"args\": {}, \n",
      "  \"data\": \"\", \n",
      "  \"files\": {}, \n",
      "  \"form\": {\n",
      "    \"hello\": \"world\"\n",
      "  }, \n",
      "  \"headers\": {\n",
      "    \"Accept\": \"*/*\", \n",
      "    \"Accept-Encoding\": \"gzip, deflate\", \n",
      "    \"Content-Length\": \"11\", \n",
      "    \"Content-Type\": \"application/x-www-form-urlencoded\", \n",
      "    \"Host\": \"httpbin.org\", \n",
      "    \"User-Agent\": \"python-requests/2.23.0\", \n",
      "    \"X-Amzn-Trace-Id\": \"Root=1-5f4677c4-0eb8ce40877d5300d1d24640\"\n",
      "  }, \n",
      "  \"json\": null, \n",
      "  \"origin\": \"27.7.16.225\", \n",
      "  \"url\": \"https://httpbin.org/post\"\n",
      "}\n",
      "\n"
     ]
    }
   ],
   "source": [
    "response = requests.post(\"https://httpbin.org/post\",data = {\"hello\":\"world\"})\n",
    "print(response.text)"
   ]
  },
  {
   "cell_type": "code",
   "execution_count": 2,
   "metadata": {},
   "outputs": [],
   "source": [
    "from bs4 import BeautifulSoup"
   ]
  },
  {
   "cell_type": "code",
   "execution_count": 3,
   "metadata": {},
   "outputs": [],
   "source": [
    "with open(\"test_file.html\") as html_file:\n",
    "    soup = BeautifulSoup(html_file,\"html.parser\")"
   ]
  },
  {
   "cell_type": "code",
   "execution_count": 12,
   "metadata": {},
   "outputs": [
    {
     "name": "stdout",
     "output_type": "stream",
     "text": [
      "First item\n",
      "Second item\n",
      "Third item\n",
      "Bullet one\n",
      "Second Item\n",
      "Third Item\n",
      "Item one\n",
      "Item two\n",
      "I'm nested inside item two?\n",
      " Also nested\n",
      "I nested insdie nesed.\n",
      "Me too\n"
     ]
    }
   ],
   "source": [
    "for items in soup.find_all('li'):\n",
    "    print(items.text)"
   ]
  }
 ],
 "metadata": {
  "kernelspec": {
   "display_name": "Python 3",
   "language": "python",
   "name": "python3"
  },
  "language_info": {
   "codemirror_mode": {
    "name": "ipython",
    "version": 3
   },
   "file_extension": ".py",
   "mimetype": "text/x-python",
   "name": "python",
   "nbconvert_exporter": "python",
   "pygments_lexer": "ipython3",
   "version": "3.7.6"
  }
 },
 "nbformat": 4,
 "nbformat_minor": 4
}
