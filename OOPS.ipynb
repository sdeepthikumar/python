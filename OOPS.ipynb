{
 "cells": [
  {
   "cell_type": "code",
   "execution_count": null,
   "metadata": {},
   "outputs": [],
   "source": []
  },
  {
   "cell_type": "code",
   "execution_count": null,
   "metadata": {},
   "outputs": [],
   "source": [
    "class User:\n",
    "    def __init__()\n",
    "\n",
    "user1 = User(\"abc\",\"abc@xyz.com\",\"abc@123\")\n",
    "print(user1)\n",
    "\n",
    "user2 = User(\"pqr\",\"pqr@xyz.com\",\"pqr@123\")\n",
    "print(user1)"
   ]
  },
  {
   "cell_type": "code",
   "execution_count": null,
   "metadata": {},
   "outputs": [],
   "source": [
    "student:\n",
    "    rollno\n",
    "    class\n",
    "    marks{sub:80....}\n",
    "    \n",
    "    total marks =500\n",
    "1. cal percent for evry student\n",
    "2. if per>40-- result:pass/fail\n",
    "3. all failed stud and their details\n",
    "4. top 3 stud\n"
   ]
  },
  {
   "cell_type": "code",
   "execution_count": 22,
   "metadata": {},
   "outputs": [
    {
     "name": "stdout",
     "output_type": "stream",
     "text": [
      "Result:(91.0, 'PASS')\n",
      "Result:(33.6, 'FAIL', 'Ram', '1', 'X')\n"
     ]
    }
   ],
   "source": [
    "class Student:\n",
    "    def __init__(self,roll_no,name,class_st,marks):\n",
    "        self.roll_no = roll_no\n",
    "        self.class_st = class_st\n",
    "        self.marks = marks\n",
    "        self.name = name\n",
    "        \n",
    "    def calculate_percent(self,marks):\n",
    "        student_marks = sum(self.marks.values())\n",
    "        total_marks = 500\n",
    "        percentage = student_marks/total_marks * 100\n",
    "        if percentage > 40:\n",
    "            result = \"PASS\"\n",
    "            return percentage,result\n",
    "        else:\n",
    "            result = \"FAIL\"\n",
    "            return percentage,result,self.name,self.roll_no,self.class_st\n",
    "    \n",
    "student_1 = Student('1','Ram','X',marks = {\"English\":91,\"Hindi\":91,\"Science\":91,\"Maths\":91,\"EVS\":91})\n",
    "#print(student_1.marks)\n",
    "percentage = student_1.calculate_percent(student_1.marks)\n",
    "print(\"Result:{}\".format(percentage))\n",
    "\n",
    "student_2 = Student('1','Ram','X',marks = {\"English\":0,\"Hindi\":0,\"Science\":97,\"Maths\":23,\"EVS\":48})\n",
    "#print(student_2.marks)\n",
    "percentage = student_2.calculate_percent(student_2.marks)\n",
    "print(\"Result:{}\".format(percentage))"
   ]
  },
  {
   "cell_type": "code",
   "execution_count": 33,
   "metadata": {},
   "outputs": [
    {
     "name": "stdout",
     "output_type": "stream",
     "text": [
      "60\n"
     ]
    }
   ],
   "source": [
    "d = {'a':10,'b':20,'c':30}\n",
    "print(sum(d.values()))"
   ]
  },
  {
   "cell_type": "code",
   "execution_count": 89,
   "metadata": {},
   "outputs": [
    {
     "name": "stdout",
     "output_type": "stream",
     "text": [
      "['1|Malu|2|98']\n",
      "['1|Malu|2|98', '2|sanu|2|58']\n",
      "['1|Malu|2|98', '2|sanu|2|58', '3|deepthi|2|29']\n",
      "['1|Malu|2|98', '2|sanu|2|58', '3|deepthi|2|29', '4|Meenu|2|100']\n"
     ]
    }
   ],
   "source": [
    "import csv\n",
    "\n",
    "class Student:\n",
    "    def __init__(self,roll_no,name,class_st,marks):\n",
    "        self.roll_no = roll_no\n",
    "        self.class_st = class_st\n",
    "        self.sum_marks = marks\n",
    "        self.name = name\n",
    "        \n",
    "    def calculate_percent(self):     \n",
    "        total_marks = 500\n",
    "        percentage = self.sum_marks * 100 //total_marks \n",
    "        return [self.roll_no,self.name,self.class_st,str(percentage)]\n",
    "\n",
    "with open(\"MarksSheet.txt\", \"r\",encoding = \"utf-8\") as csvfile:\n",
    "    csvreader = csv.reader(csvfile)\n",
    "    next(csvreader)\n",
    "    users = []\n",
    "    count = 0\n",
    "    for row in csvreader:\n",
    "        count += 1\n",
    "        users.append(row[0].split('|'))\n",
    "resultlist = []\n",
    "for i,user in enumerate(users):\n",
    "    roll_no = user[0]\n",
    "    name = user[1]\n",
    "    class_st = user[2]\n",
    "    marks = user[3:]\n",
    "    sum_marks = sum([int(x) for x in marks])\n",
    "    obj = [Student(roll_no,name,class_st,sum_marks) for i in range(count)]\n",
    "    percentage = obj[i].calculate_percent()\n",
    "    perc = ('|').join(percentage)\n",
    "    resultlist.append(perc)\n",
    "    print(resultlist)\n",
    "    \n",
    "    with open(\"Results_sheet.txt\",\"w\",newline='\\n') as file:\n",
    "        csvwriter = csv.writer(file,delimiter = '\\n')\n",
    "        csvwriter.writerow(['RollNo|Name|Standard|Percentage'])\n",
    "        csvwriter.writerow(resultlist)"
   ]
  },
  {
   "cell_type": "code",
   "execution_count": 5,
   "metadata": {},
   "outputs": [
    {
     "ename": "SyntaxError",
     "evalue": "invalid syntax (<ipython-input-5-018bf4b40a8a>, line 1)",
     "output_type": "error",
     "traceback": [
      "\u001b[1;36m  File \u001b[1;32m\"<ipython-input-5-018bf4b40a8a>\"\u001b[1;36m, line \u001b[1;32m1\u001b[0m\n\u001b[1;33m    d = {'E':98 'H':98 'M':98 'K':98 'F':98}\u001b[0m\n\u001b[1;37m                  ^\u001b[0m\n\u001b[1;31mSyntaxError\u001b[0m\u001b[1;31m:\u001b[0m invalid syntax\n"
     ]
    }
   ],
   "source": [
    "d = {'E':98 'H':98 'M':98 'K':98 'F':98}\n",
    "print(d.keys())"
   ]
  },
  {
   "cell_type": "code",
   "execution_count": 2,
   "metadata": {},
   "outputs": [
    {
     "name": "stdout",
     "output_type": "stream",
     "text": [
      "4\n",
      "1\n"
     ]
    }
   ],
   "source": [
    "\n",
    "def func():\n",
    "    num = num + 3\n",
    "    print(num)\n",
    "\n",
    "func()\n",
    "print(num)"
   ]
  },
  {
   "cell_type": "code",
   "execution_count": 1,
   "metadata": {},
   "outputs": [
    {
     "name": "stdout",
     "output_type": "stream",
     "text": [
      "[(4,), (5,), (6,), (4, 5), (4, 6), (5, 6), (4, 5, 6)]\n",
      "[(1,), (2,), (3,), (1, 2), (1, 3), (2, 3), (1, 2, 3)]\n"
     ]
    }
   ],
   "source": [
    "import itertools\n",
    "\n",
    "class combinations:\n",
    "    def __init__(self,l):\n",
    "        self.l = l\n",
    "    def combination(self):\n",
    "        l1 =[]\n",
    "        for i in range(1,len(self.l)+1):\n",
    "            l1.extend(list(itertools.combinations(self.l,i)))\n",
    "        return (list(l1))\n",
    "\n",
    "c1 = combinations([4,5,6])\n",
    "c2 = combinations([1,2,3])\n",
    "print(c1.combination())\n",
    "print(c2.combination())"
   ]
  },
  {
   "cell_type": "code",
   "execution_count": 69,
   "metadata": {},
   "outputs": [
    {
     "name": "stdout",
     "output_type": "stream",
     "text": [
      "Sanu\n",
      "16 Sanu Success\n",
      "Malavika\n",
      "32 Malavika Success\n",
      "Deepthi\n",
      "4 Deepthi Success\n",
      "Meenu\n",
      "8 Meenu Success\n"
     ]
    }
   ],
   "source": [
    "class Power:\n",
    "    def __init__(self,num,power,name,status):\n",
    "        self.number = num\n",
    "        self.power = power\n",
    "        self.name = name\n",
    "        self.status =status\n",
    "        \n",
    "        \n",
    "    def powerfunc(self):\n",
    "        print(self.name)\n",
    "        return self.number ** self.power\n",
    "    \n",
    "\n",
    "p = Power(2,4,'Sanu','Success')\n",
    "k = Power(2,5,'Malavika','Success')\n",
    "l = Power(2,2,'Deepthi','Success')\n",
    "m = Power(2,3,'Meenu','Success')\n",
    "print(p.powerfunc() , p.name , p.status)\n",
    "print(k.powerfunc() , k.name , k.status)\n",
    "print(l.powerfunc() , l.name , l.status)\n",
    "print(m.powerfunc() , m.name , m.status)\n"
   ]
  },
  {
   "cell_type": "code",
   "execution_count": 17,
   "metadata": {},
   "outputs": [
    {
     "name": "stdout",
     "output_type": "stream",
     "text": [
      "num 10 0\n",
      "self.nlist 20\n",
      "self.nlist 10\n",
      "self.nlist 40\n",
      "(0, 3)\n"
     ]
    }
   ],
   "source": [
    "class find_index:\n",
    "    def __init__(self,nlist,target):\n",
    "        self.nlist = nlist\n",
    "        self.target = target\n",
    "    \n",
    "    def return_index(self):\n",
    "        for i,num in enumerate(self.nlist):\n",
    "            print(\"num\",num,i)\n",
    "            for j in range(1,len(self.nlist)):\n",
    "                print(\"self.nlist\",self.nlist[j])\n",
    "                if num + self.nlist[j] == self.target:\n",
    "                    return i,j\n",
    "                \n",
    "numbers= [10,20,10,40,50,60,70]\n",
    "f = find_index(numbers,50)\n",
    "print(f.return_index())\n"
   ]
  },
  {
   "cell_type": "code",
   "execution_count": 13,
   "metadata": {},
   "outputs": [
    {
     "name": "stdout",
     "output_type": "stream",
     "text": [
      "index1=1, index2=2\n"
     ]
    }
   ],
   "source": [
    "class py_solution:\n",
    "    def twoSum(self, nums, target):\n",
    "        lookup = {}\n",
    "        for i, num in enumerate(nums):\n",
    "            if target - num in lookup:\n",
    "                return (lookup[target - num], i )\n",
    "            lookup[num] = i\n",
    "print(\"index1=%d, index2=%d\" % py_solution().twoSum((10,20,30,40,50,60,70),50))"
   ]
  },
  {
   "cell_type": "code",
   "execution_count": 46,
   "metadata": {
    "scrolled": true
   },
   "outputs": [
    {
     "name": "stdout",
     "output_type": "stream",
     "text": [
      "[(1, 2), (0, 3)]\n"
     ]
    }
   ],
   "source": [
    "class find_index:\n",
    "    def __init__(self,nlist,target):\n",
    "        self.nlist = nlist\n",
    "        self.target = target\n",
    "        \n",
    "    def return_index(self):\n",
    "        l1 = []\n",
    "        l2 = {}\n",
    "        l3 = []\n",
    "        for i,num in enumerate(self.nlist):\n",
    "            if (self.target - num) in self.nlist:\n",
    "                l1.append([self.nlist.index(num),self.nlist.index(self.target - num)])\n",
    "        \n",
    "        for j in l1:\n",
    "            j.sort()\n",
    "            for k in j:\n",
    "                l2[j[0]] = k\n",
    "        \n",
    "        for key,value in l2.items():\n",
    "            l3.append((key,value))\n",
    "        return sorted(l3,reverse = True)\n",
    "            \n",
    "numbers= [10,20,30,40,50,60,70]\n",
    "f = find_index(numbers,50)\n",
    "print(f.return_index())\n"
   ]
  },
  {
   "cell_type": "code",
   "execution_count": 14,
   "metadata": {},
   "outputs": [
    {
     "name": "stdout",
     "output_type": "stream",
     "text": [
      "family my love I\n"
     ]
    }
   ],
   "source": [
    "class Reverse_string:\n",
    "    def __init__(self,string):\n",
    "        self.string = string\n",
    "        \n",
    "    def reverse(self):\n",
    "        l1 = self.string.split(' ')\n",
    "        l2 = l1[::-1]\n",
    "        out_str = (' ').join(l2)\n",
    "        return out_str\n",
    "\n",
    "r = Reverse_string(\"I love my family\")\n",
    "print(r.reverse())\n",
    "    "
   ]
  },
  {
   "cell_type": "code",
   "execution_count": 12,
   "metadata": {},
   "outputs": [
    {
     "name": "stdout",
     "output_type": "stream",
     "text": [
      "family dfjk my love I\n"
     ]
    }
   ],
   "source": [
    "string = \"I love my dfjk family\"\n",
    "l2 = []\n",
    "ly = string.split(' ')\n",
    "l2 = ly[::-1]\n",
    "out_str = (' ').join(l2)\n",
    "print(out_str)"
   ]
  },
  {
   "cell_type": "code",
   "execution_count": 21,
   "metadata": {},
   "outputs": [
    {
     "name": "stdout",
     "output_type": "stream",
     "text": [
      "['family', 'dfjk', 'my', 'love', 'I']\n",
      "family dfjk my love I\n"
     ]
    }
   ],
   "source": [
    "string = \"I love my dfjk family\"\n",
    "print(list(reversed(string.split(' '))))\n",
    "print(str(' '.join((reversed(string.split(' '))))))"
   ]
  },
  {
   "cell_type": "code",
   "execution_count": 31,
   "metadata": {},
   "outputs": [
    {
     "name": "stdout",
     "output_type": "stream",
     "text": [
      "Enter the string:hello oyfu\n",
      "HELLO OYFU\n"
     ]
    }
   ],
   "source": [
    "class Case:\n",
    "    def __init__(self):\n",
    "        self.string = ''\n",
    "        \n",
    "    def get_string(self):\n",
    "        self.string = input(\"Enter the string:\")\n",
    "        \n",
    "    def print_string(self):\n",
    "        print(self.string.upper())\n",
    "        \n",
    "s = Case()\n",
    "s.get_string()\n",
    "s.print_string()"
   ]
  },
  {
   "cell_type": "code",
   "execution_count": 34,
   "metadata": {},
   "outputs": [
    {
     "name": "stdout",
     "output_type": "stream",
     "text": [
      "154.0\n",
      "44.0\n",
      "Circle\n"
     ]
    }
   ],
   "source": [
    "class Circle:\n",
    "    def __init__(self,radius):\n",
    "        self.radius = radius\n",
    "        \n",
    "    def area(self):\n",
    "        return 22/7 * (self.radius ** 2)\n",
    "    \n",
    "    def perimeter(self):\n",
    "        return 2 * 22/7 * self.radius\n",
    "    \n",
    "c = Circle(7)\n",
    "print(c.area())\n",
    "print(c.perimeter())\n",
    "print(type(c).__name__)"
   ]
  },
  {
   "cell_type": "code",
   "execution_count": 37,
   "metadata": {},
   "outputs": [
    {
     "name": "stdout",
     "output_type": "stream",
     "text": [
      "['g', 'n', 'i', 'r', 't', 's', ' ', 'n', 'o', 'h', 't', 'y', 'P']\n"
     ]
    }
   ],
   "source": [
    "st = \"Python string\"\n",
    "print(list(reversed(st)))"
   ]
  },
  {
   "cell_type": "code",
   "execution_count": 11,
   "metadata": {},
   "outputs": [
    {
     "ename": "TypeError",
     "evalue": "'set' object is not subscriptable",
     "output_type": "error",
     "traceback": [
      "\u001b[1;31m---------------------------------------------------------------------------\u001b[0m",
      "\u001b[1;31mTypeError\u001b[0m                                 Traceback (most recent call last)",
      "\u001b[1;32m<ipython-input-11-323fd1d34e81>\u001b[0m in \u001b[0;36m<module>\u001b[1;34m\u001b[0m\n\u001b[0;32m      1\u001b[0m \u001b[0ma\u001b[0m \u001b[1;33m=\u001b[0m \u001b[1;33m{\u001b[0m\u001b[1;36m10\u001b[0m\u001b[1;33m,\u001b[0m\u001b[1;36m20\u001b[0m\u001b[1;33m,\u001b[0m\u001b[1;36m30\u001b[0m\u001b[1;33m,\u001b[0m\u001b[1;36m40\u001b[0m\u001b[1;33m,\u001b[0m\u001b[1;36m50\u001b[0m\u001b[1;33m}\u001b[0m\u001b[1;33m\u001b[0m\u001b[1;33m\u001b[0m\u001b[0m\n\u001b[1;32m----> 2\u001b[1;33m \u001b[0mprint\u001b[0m\u001b[1;33m(\u001b[0m\u001b[0ma\u001b[0m\u001b[1;33m[\u001b[0m\u001b[1;36m10\u001b[0m\u001b[1;33m]\u001b[0m\u001b[1;33m)\u001b[0m\u001b[1;33m\u001b[0m\u001b[1;33m\u001b[0m\u001b[0m\n\u001b[0m",
      "\u001b[1;31mTypeError\u001b[0m: 'set' object is not subscriptable"
     ]
    }
   ],
   "source": [
    "a = {10,20,30,40,50}\n",
    "print(a[10])"
   ]
  },
  {
   "cell_type": "code",
   "execution_count": null,
   "metadata": {},
   "outputs": [],
   "source": [
    "HW1\n",
    "Products :\n",
    "    prod_id :\n",
    "    prod_name :\n",
    "    unit_price :\n",
    "    stock :\n",
    "        \n",
    "Orders : 1 order there are multiple products \n",
    "    order_id\n",
    "    order_details :\n",
    "           prod_id\n",
    "           unit_price\n",
    "           qunatity \n",
    "            \n",
    "    Calculate_price_order \n",
    "    Get order details for a specific order\n"
   ]
  },
  {
   "cell_type": "code",
   "execution_count": null,
   "metadata": {},
   "outputs": [],
   "source": [
    "1 order : many products"
   ]
  },
  {
   "cell_type": "code",
   "execution_count": 36,
   "metadata": {},
   "outputs": [],
   "source": [
    "class Products:\n",
    "    def __init__(self,prod_id,prod_name,unit_price,stock):\n",
    "        self.prod_id = prod_id\n",
    "        self.prod_name = prod_name\n",
    "        self.unit_price = unit_price\n",
    "        self.stock = stock\n"
   ]
  },
  {
   "cell_type": "code",
   "execution_count": 37,
   "metadata": {},
   "outputs": [],
   "source": [
    "class Orders:\n",
    "    def __init__(self,order_id,ord_dtl):\n",
    "        self.order_id = order_id\n",
    "        self.ord_dtl = ord_dtl\n",
    "    \n",
    "    def get_orderdetails(self):"
   ]
  },
  {
   "cell_type": "code",
   "execution_count": 78,
   "metadata": {},
   "outputs": [],
   "source": [
    "class OrderDetails:\n",
    "    \n",
    "    def __init__(self,prod_dtl):\n",
    "        self.prod_dtl = prod_dtl\n",
    "        \n",
    "    def get_price(self):\n",
    "        self.total = 0\n",
    "        for pdt,qty in self.prod_dtl.items():\n",
    "            self.total = self.total + pdt.unit_price * qty\n",
    "        return self.total"
   ]
  },
  {
   "cell_type": "code",
   "execution_count": 91,
   "metadata": {},
   "outputs": [],
   "source": [
    "pdt1 = Products('P1','PdtA',100,50)\n",
    "pdt2 = Products('P2','PdtB',200,150)\n",
    "pdt3 = Products('P3','PdtC',300,250)\n",
    "pdt4 = Products('P4','PdtD',400,350)\n",
    "pdt5 = Products('P5','PdtE',500,450)\n",
    "\n",
    "ord_dtl1 = OrderDetails({pdt1:2,pdt2:3})\n",
    "ord_dtl2 = OrderDetails({pdt2:2,pdt5:2,pdt2:3})\n",
    "ord_dtl3 = OrderDetails({pdt3:1,pdt2:2,pdt4:1})\n",
    "\n",
    "ord1 = Orders('Ord1',Ord_dtl1)\n",
    "ord2 = Orders('Ord2',Ord_dtl2)\n",
    "ord3 = Orders('Ord3',Ord_dtl3)\n"
   ]
  },
  {
   "cell_type": "code",
   "execution_count": 92,
   "metadata": {},
   "outputs": [
    {
     "name": "stdout",
     "output_type": "stream",
     "text": [
      "Total price 800\n",
      "Total price 1600\n",
      "Total price 1100\n"
     ]
    }
   ],
   "source": [
    "products_objlist = [pdt1,pdt2,pdt3,pdt4,pdt5]\n",
    "orders_objlist = [ord1,ord2,ord3]\n",
    "orderdetails_list = [ord_dtl1,ord_dtl2,ord_dtl3]\n",
    "\n",
    "for eachorder in orderdetails_list:\n",
    "    print(\"Total price\",eachorder.get_price())\n",
    "\n",
    "for ordr in orders_objlist:"
   ]
  },
  {
   "cell_type": "code",
   "execution_count": 1,
   "metadata": {},
   "outputs": [
    {
     "name": "stdout",
     "output_type": "stream",
     "text": [
      "Help on class map in module builtins:\n",
      "\n",
      "class map(object)\n",
      " |  map(func, *iterables) --> map object\n",
      " |  \n",
      " |  Make an iterator that computes the function using arguments from\n",
      " |  each of the iterables.  Stops when the shortest iterable is exhausted.\n",
      " |  \n",
      " |  Methods defined here:\n",
      " |  \n",
      " |  __getattribute__(self, name, /)\n",
      " |      Return getattr(self, name).\n",
      " |  \n",
      " |  __iter__(self, /)\n",
      " |      Implement iter(self).\n",
      " |  \n",
      " |  __next__(self, /)\n",
      " |      Implement next(self).\n",
      " |  \n",
      " |  __reduce__(...)\n",
      " |      Return state information for pickling.\n",
      " |  \n",
      " |  ----------------------------------------------------------------------\n",
      " |  Static methods defined here:\n",
      " |  \n",
      " |  __new__(*args, **kwargs) from builtins.type\n",
      " |      Create and return a new object.  See help(type) for accurate signature.\n",
      "\n"
     ]
    }
   ],
   "source": [
    "help(map)"
   ]
  },
  {
   "cell_type": "code",
   "execution_count": null,
   "metadata": {},
   "outputs": [],
   "source": [
    "HW2\n",
    "Course : 1 course can have multiple tutorials \n",
    "    course_id\n",
    "    course_name\n",
    "    course_desc\n",
    "    author_name\n",
    "\n",
    "Tutorials :\n",
    "    tut_id\n",
    "    name\n",
    "    content \n",
    "    course\n",
    "    \n",
    "1. Find all the tutorials for course say \"Python\"    \n",
    "2. All the tutorials by author \"ABC\"\n",
    "3. change the name of course with id 1 to Numpy\n",
    "\n",
    "\n",
    "aut name\n",
    "profession \n",
    "total exp \n",
    "tech"
   ]
  },
  {
   "cell_type": "code",
   "execution_count": null,
   "metadata": {},
   "outputs": [],
   "source": [
    "1 course : many tut\n",
    "1 tut : 1 Course"
   ]
  },
  {
   "cell_type": "code",
   "execution_count": 18,
   "metadata": {},
   "outputs": [],
   "source": [
    "class Course:\n",
    "    courses = [] \n",
    "    \n",
    "    @classmethod\n",
    "    def add_course(cls,obj_self):\n",
    "        cls.courses.append(obj_self)\n",
    "        \n",
    "    def __init__(self,course_id,course_name,course_desc,author):\n",
    "        self.course_id = course_id\n",
    "        self.course_name = course_name\n",
    "        self.course_desc = course_desc\n",
    "        self.author = author\n",
    "        Course.add_course(self)\n",
    "\n",
    "class Tutorials:\n",
    "    tutorial = []\n",
    "    \n",
    "    @classmethod\n",
    "    def add_tutorial(cls,obj_self):\n",
    "        cls.tutorial.append(obj_self)\n",
    "        \n",
    "    def __init__(self,tut_id,tut_name,content,course):\n",
    "        self.tut_id = tut_id\n",
    "        self.tut_name = tut_name\n",
    "        self.content = content\n",
    "        self.course = course\n",
    "        Tutorials.add_tutorial(self)\n",
    "    \n",
    "    def get_tutorials(self):\n",
    "        return self.tut_id,self.tut_name,self.content\n",
    "\n",
    "class Author:\n",
    "    authors = []\n",
    "    def __init__(self,auth_name,prof,total_exp,tech):\n",
    "        self.auth_name = auth_name\n",
    "        self.prof = prof\n",
    "        self.total_exp = total_exp\n",
    "        self.tech = tech"
   ]
  },
  {
   "cell_type": "code",
   "execution_count": 19,
   "metadata": {},
   "outputs": [],
   "source": [
    "auth1 = Author('ABC','xcv',7,['Python','C','C++'])\n",
    "auth2 = Author('DEF','hgbc',8,['Python','DataScience'])\n",
    "auth3 = Author('GHI','gfh',9,['C++','DataScience'])\n",
    "auth4 = Author('JKL','khhj',10,['Python','C','Java'])\n",
    "\n",
    "course1 = Course(1,'Python','Python Beginner to adv',auth1)\n",
    "course2 = Course(2,'DataScience','Python Beginner to adv',auth2)\n",
    "\n",
    "tut1 = Tutorials(101,'Python oops','OOPS',course1)\n",
    "tut2 = Tutorials(102,'Python basics','conditional stmts',course1)\n",
    "tut3 = Tutorials(103,'Python loops','looping stmts',course1)\n",
    "tut4 = Tutorials(104,'Python functions','functions',course1)\n",
    "tut5 = Tutorials(105,'DataScience basics','basics',course2)\n",
    "tut6 = Tutorials(106,'DataScience advanced','advanced',course2)\n",
    "\n"
   ]
  },
  {
   "cell_type": "code",
   "execution_count": 20,
   "metadata": {},
   "outputs": [
    {
     "name": "stdout",
     "output_type": "stream",
     "text": [
      "(105, 'DataScience basics', 'basics')\n",
      "(106, 'DataScience advanced', 'advanced')\n"
     ]
    }
   ],
   "source": [
    "for tutorial in Tutorials.tutorial:\n",
    "    if tutorial.course.course_name == 'DataScience':\n",
    "        print(tutorial.get_tutorials())"
   ]
  },
  {
   "cell_type": "code",
   "execution_count": null,
   "metadata": {},
   "outputs": [],
   "source": [
    "Tut : course \n",
    "many : 1 \n",
    "        \n",
    "course : auth\n",
    "many: 1"
   ]
  }
 ],
 "metadata": {
  "kernelspec": {
   "display_name": "Python 3",
   "language": "python",
   "name": "python3"
  },
  "language_info": {
   "codemirror_mode": {
    "name": "ipython",
    "version": 3
   },
   "file_extension": ".py",
   "mimetype": "text/x-python",
   "name": "python",
   "nbconvert_exporter": "python",
   "pygments_lexer": "ipython3",
   "version": "3.7.6"
  }
 },
 "nbformat": 4,
 "nbformat_minor": 4
}
