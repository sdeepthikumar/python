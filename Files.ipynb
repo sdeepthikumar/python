{
 "cells": [
  {
   "cell_type": "code",
   "execution_count": 2,
   "metadata": {},
   "outputs": [
    {
     "name": "stdout",
     "output_type": "stream",
     "text": [
      "PEP 587 Python Inheritance\n",
      "Inheritance allows us to define a class that inherits all the methods and properties from another class.\n",
      "\n",
      "Parent class is the class being inherited from, also called base class.\n",
      "\n",
      "Child class is the class that inherits from another class, also called derived class.\n",
      "**************************************************\n",
      "\n"
     ]
    }
   ],
   "source": [
    "fp = open(\"pepfile1.txt\",\"r\",encoding=\"utf-8\")\n",
    "content = fp.read()\n",
    "print(content)\n",
    "print(\"**************************************************\")\n",
    "content = fp.read()\n",
    "print(content)\n",
    "fp.close()"
   ]
  },
  {
   "cell_type": "code",
   "execution_count": 4,
   "metadata": {},
   "outputs": [
    {
     "name": "stdout",
     "output_type": "stream",
     "text": [
      "16\n",
      "0\n",
      "add text to file\n"
     ]
    }
   ],
   "source": [
    "fp = open(\"Sample_write.txt\", \"w+\")\n",
    "s = \"add text to file\"\n",
    "fp.write(s)\n",
    "print(fp.tell())\n",
    "fp.seek(0,0)\n",
    "print(fp.tell())\n",
    "content = fp.read()\n",
    "print(content)\n",
    "fp.close()"
   ]
  },
  {
   "cell_type": "code",
   "execution_count": null,
   "metadata": {},
   "outputs": [],
   "source": [
    "mode:\n",
    "    r :read\n",
    "    r+\n",
    "    w: write\n",
    "    w+\n",
    "    a:append\n",
    "    a+"
   ]
  },
  {
   "cell_type": "code",
   "execution_count": 9,
   "metadata": {},
   "outputs": [
    {
     "name": "stdout",
     "output_type": "stream",
     "text": [
      "0\n",
      "332\n"
     ]
    }
   ],
   "source": [
    "fp = open(\"Sample_write.txt\", \"a\")\n",
    "print(fp.tell())\n",
    "s = \"\"\"Open for reading and writing. The \n",
    "file is created if it does not exist, otherwise it is \n",
    "truncated. The stream is positioned at the beginning of the file.\n",
    "\"\"\"\n",
    "fp.write(\"\\n\\n\\n {}\".format(s))\n",
    "print(fp.tell())"
   ]
  },
  {
   "cell_type": "code",
   "execution_count": 25,
   "metadata": {},
   "outputs": [
    {
     "name": "stdout",
     "output_type": "stream",
     "text": [
      "['PEP', '582', 'Python', 'Inheritance\\n']\n",
      "['PEP', '512', 'An', 'array', 'is', 'a', 'special', 'variable\\n']\n",
      "582 512\n"
     ]
    }
   ],
   "source": [
    "fp1 = open(\"pepfile1.txt\",\"r\")\n",
    "fp2 = open(\"pepfile2.txt\", \"r\")\n",
    "fp3 = open(\"pepoutfile.txt\",\"w\")\n",
    "\n",
    "fp1_fl = fp1.readline().split(\" \")\n",
    "fp2_fl = fp2.readline().split(\" \")\n",
    "\n",
    "print(fp1_fl)\n",
    "print(fp2_fl)\n",
    "\n",
    "pep_file1 = 0\n",
    "pep_file2 = 0\n",
    "\n",
    "for val1,val2 in zip(fp1_fl,fp2_fl):\n",
    "    if pep_file1 !=0 and pep_file2 !=0:\n",
    "        break\n",
    "        \n",
    "    if val1.isdigit():\n",
    "        pep_file1 = int(val1)\n",
    "        \n",
    "    if val2.isdigit():\n",
    "        pep_file2 = int(val2)\n",
    "\n",
    "print(pep_file1,pep_file2)\n",
    "\n",
    "fp1.seek(0,0)\n",
    "fp2.seek(0,0)\n",
    "\n",
    "file1_content = fp1.read()\n",
    "file2_content = fp2.read()\n",
    "\n",
    "if pep_file1 < pep_file2:\n",
    "    data = \"{} \\n\\n {}\".format(file1_content,file2_content)\n",
    "else:\n",
    "    data = \"{} \\n\\n {}\".format(file2_content,file1_content)\n",
    "#print(data)\n",
    "\n",
    "fp3.write(data)\n",
    "fp1.close()\n",
    "fp2.close()\n",
    "fp3.close()"
   ]
  },
  {
   "cell_type": "markdown",
   "metadata": {},
   "source": [
    "4. Write a Python program to read last n lines of a file."
   ]
  },
  {
   "cell_type": "code",
   "execution_count": 60,
   "metadata": {},
   "outputs": [
    {
     "name": "stdout",
     "output_type": "stream",
     "text": [
      "What’s New In Python 3.8\n",
      "\n",
      "['if (n := len(a)) > 10:\\n', '    print(f\"List is too long ({n} elements, expected <= 10)\")\\n', 'A similar benefit arises during regular expression matching where match objects are needed twice, once to test whether a match occurred and another to extract a subgroup:\\n', '********************************\\n']\n"
     ]
    }
   ],
   "source": [
    "fp = open(\"Sample_text.txt\", \"r\" , encoding = \"utf-8\")\n",
    "content = fp.readlines()\n",
    "s = str(content[0])\n",
    "print(s)\n",
    "print(content[-5:-1])\n",
    "fp.close()"
   ]
  },
  {
   "cell_type": "code",
   "execution_count": 58,
   "metadata": {},
   "outputs": [
    {
     "name": "stdout",
     "output_type": "stream",
     "text": [
      " astringa \n"
     ]
    }
   ],
   "source": [
    "s = ' astringa '\n",
    "print(s.strip(\"s\"))"
   ]
  },
  {
   "cell_type": "code",
   "execution_count": 40,
   "metadata": {},
   "outputs": [
    {
     "name": "stdout",
     "output_type": "stream",
     "text": [
      "Help on method_descriptor:\n",
      "\n",
      "strip(self, chars=None, /)\n",
      "    Return a copy of the string with leading and trailing whitespace removed.\n",
      "    \n",
      "    If chars is given and not None, remove characters in chars instead.\n",
      "\n"
     ]
    }
   ],
   "source": [
    "help(str.strip)"
   ]
  }
 ],
 "metadata": {
  "kernelspec": {
   "display_name": "Python 3",
   "language": "python",
   "name": "python3"
  },
  "language_info": {
   "codemirror_mode": {
    "name": "ipython",
    "version": 3
   },
   "file_extension": ".py",
   "mimetype": "text/x-python",
   "name": "python",
   "nbconvert_exporter": "python",
   "pygments_lexer": "ipython3",
   "version": "3.7.6"
  }
 },
 "nbformat": 4,
 "nbformat_minor": 4
}
