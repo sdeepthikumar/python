{
 "cells": [
  {
   "cell_type": "code",
   "execution_count": 13,
   "metadata": {},
   "outputs": [
    {
     "name": "stdout",
     "output_type": "stream",
     "text": [
      "200 FAIL\n",
      "350 PASS\n",
      "266 PASS\n",
      "150 FAIL\n",
      "400 PASS\n"
     ]
    }
   ],
   "source": [
    "student_marks= [200,350,266,150,400]\n",
    "total = 500\n",
    "pass_per = 40\n",
    "\n",
    "for marks in student_marks:\n",
    "    per = (marks / total) * 100\n",
    "    if per > pass_per:\n",
    "        print(marks,\"PASS\")\n",
    "    else:\n",
    "        print(marks,\"FAIL\")"
   ]
  },
  {
   "cell_type": "code",
   "execution_count": 16,
   "metadata": {},
   "outputs": [
    {
     "name": "stdout",
     "output_type": "stream",
     "text": [
      "150\n"
     ]
    }
   ],
   "source": [
    "nums= [10,20,30,40,50]\n",
    "total = 0\n",
    "\n",
    "for x in nums:\n",
    "    total = total + x\n",
    "print(total)\n",
    "    "
   ]
  },
  {
   "cell_type": "code",
   "execution_count": 19,
   "metadata": {},
   "outputs": [
    {
     "name": "stdout",
     "output_type": "stream",
     "text": [
      "o\n",
      "i\n",
      "e\n",
      "a\n",
      "o\n",
      "e\n",
      "a\n"
     ]
    }
   ],
   "source": [
    "chars = \"Python is easyto learn\"\n",
    "vowel = ['a','e','i','o','u']\n",
    "for value in chars:\n",
    "    if value in vowel:\n",
    "        print(value)"
   ]
  },
  {
   "cell_type": "code",
   "execution_count": 112,
   "metadata": {},
   "outputs": [
    {
     "name": "stdout",
     "output_type": "stream",
     "text": [
      "600\n",
      "350\n"
     ]
    }
   ],
   "source": [
    "nums = [100,45,12,300,74,90,150,4,2,1,600,350]\n",
    "max_value = 0\n",
    "\n",
    "for num in nums:\n",
    "    if num > max_value:\n",
    "        second_max = max_value\n",
    "        max_value = num\n",
    "    elif num > second_max:\n",
    "        second_max = num\n",
    "    \n",
    "print(max_value) #prints max value in a list\n",
    "print(second_max) #prints second max value in a list"
   ]
  },
  {
   "cell_type": "code",
   "execution_count": 45,
   "metadata": {},
   "outputs": [
    {
     "name": "stdout",
     "output_type": "stream",
     "text": [
      "hi;hello\n",
      "100\n"
     ]
    }
   ],
   "source": [
    "print(\"hi\",\"hello\", sep = \";\")\n",
    "print(100)"
   ]
  },
  {
   "cell_type": "code",
   "execution_count": 105,
   "metadata": {},
   "outputs": [
    {
     "name": "stdout",
     "output_type": "stream",
     "text": [
      "\t 1 * 1 = 1\t 2 * 1 = 2\t 3 * 1 = 3\t 4 * 1 = 4\t 5 * 1 = 5\n",
      "\t 1 * 2 = 2\t 2 * 2 = 4\t 3 * 2 = 6\t 4 * 2 = 8\t 5 * 2 = 10\n",
      "\t 1 * 3 = 3\t 2 * 3 = 6\t 3 * 3 = 9\t 4 * 3 = 12\t 5 * 3 = 15\n",
      "\t 1 * 4 = 4\t 2 * 4 = 8\t 3 * 4 = 12\t 4 * 4 = 16\t 5 * 4 = 20\n",
      "\t 1 * 5 = 5\t 2 * 5 = 10\t 3 * 5 = 15\t 4 * 5 = 20\t 5 * 5 = 25\n",
      "\t 1 * 6 = 6\t 2 * 6 = 12\t 3 * 6 = 18\t 4 * 6 = 24\t 5 * 6 = 30\n",
      "\t 1 * 7 = 7\t 2 * 7 = 14\t 3 * 7 = 21\t 4 * 7 = 28\t 5 * 7 = 35\n",
      "\t 1 * 8 = 8\t 2 * 8 = 16\t 3 * 8 = 24\t 4 * 8 = 32\t 5 * 8 = 40\n",
      "\t 1 * 9 = 9\t 2 * 9 = 18\t 3 * 9 = 27\t 4 * 9 = 36\t 5 * 9 = 45\n",
      "\t 1 * 10 = 10\t 2 * 10 = 20\t 3 * 10 = 30\t 4 * 10 = 40\t 5 * 10 = 50\n"
     ]
    }
   ],
   "source": [
    "for m in range(1,11):\n",
    "    for n in range(1,6):\n",
    "        mult = n * m\n",
    "        print(\"\\t\",n,\"*\",m,\"=\",mult,end =\"\")\n",
    "    print(\"\") "
   ]
  },
  {
   "cell_type": "code",
   "execution_count": 113,
   "metadata": {},
   "outputs": [
    {
     "name": "stdout",
     "output_type": "stream",
     "text": [
      "not found\n",
      "not found\n",
      "found\n"
     ]
    }
   ],
   "source": [
    "nums = [10,20,30,40,50]\n",
    "key = 30\n",
    "for num in nums:\n",
    "    if key == num:\n",
    "        print(\"found\")\n",
    "        break\n",
    "    else:\n",
    "        print(\"not found\")"
   ]
  },
  {
   "cell_type": "code",
   "execution_count": 5,
   "metadata": {},
   "outputs": [
    {
     "name": "stdout",
     "output_type": "stream",
     "text": [
      "found at: 2\n"
     ]
    }
   ],
   "source": [
    "nums = [10,20,30,40,50]\n",
    "key = 30\n",
    "for index,num in enumerate(nums):\n",
    "    if key == num:\n",
    "        print(\"found at:\", index)\n",
    "        break\n",
    "else: \n",
    "        print(\"not found\")"
   ]
  },
  {
   "cell_type": "code",
   "execution_count": 1,
   "metadata": {},
   "outputs": [
    {
     "name": "stdout",
     "output_type": "stream",
     "text": [
      "100\n",
      "101\n"
     ]
    }
   ],
   "source": [
    "num1 = 100\n",
    "print(num1)\n",
    "num1 += 1\n",
    "print(num1)"
   ]
  },
  {
   "cell_type": "code",
   "execution_count": 6,
   "metadata": {},
   "outputs": [
    {
     "name": "stdout",
     "output_type": "stream",
     "text": [
      "before\n",
      "before\n",
      "before\n",
      "before\n"
     ]
    }
   ],
   "source": [
    "l = [10,20,30,40]\n",
    "for value in l:\n",
    "    if value< 100:\n",
    "        print(\"before\")\n",
    "        continue\n",
    "        print(value)"
   ]
  },
  {
   "cell_type": "code",
   "execution_count": 9,
   "metadata": {},
   "outputs": [
    {
     "name": "stdout",
     "output_type": "stream",
     "text": [
      "0\n",
      "1\n",
      "2\n",
      "3\n",
      "4\n"
     ]
    }
   ],
   "source": [
    "l = [10,20,30,40,50]\n",
    "for x in range(len(l)):\n",
    "    print(x)\n",
    "    \n",
    "\n"
   ]
  },
  {
   "cell_type": "code",
   "execution_count": null,
   "metadata": {},
   "outputs": [],
   "source": [
    "l=[1,2,3,4]\n",
    "for index,x in enumerate(l):\n",
    "    print(index,x)"
   ]
  },
  {
   "cell_type": "code",
   "execution_count": 5,
   "metadata": {},
   "outputs": [
    {
     "name": "stdout",
     "output_type": "stream",
     "text": [
      "Enter the number:496\n",
      "Perfect num\n"
     ]
    }
   ],
   "source": [
    "number = int(input(\"Enter the number:\"))\n",
    "x = 1\n",
    "sum = 0\n",
    "while x < number :\n",
    "    if number % x == 0:\n",
    "        sum = sum + x\n",
    "    x = x + 1   \n",
    "if number == sum :\n",
    "    print(\"Perfect num\")\n",
    "else:\n",
    "    print(\"not perfect num\")\n"
   ]
  },
  {
   "cell_type": "code",
   "execution_count": 6,
   "metadata": {},
   "outputs": [
    {
     "name": "stdout",
     "output_type": "stream",
     "text": [
      "a\n",
      "b\n",
      "c\n",
      "d\n",
      "e\n",
      "f\n",
      "g\n",
      "h\n",
      "i\n",
      "j\n",
      "k\n",
      "l\n",
      "m\n",
      "n\n",
      "o\n",
      "p\n",
      "q\n",
      "r\n",
      "s\n",
      "t\n",
      "u\n",
      "v\n",
      "w\n",
      "x\n",
      "y\n",
      "z\n"
     ]
    }
   ],
   "source": [
    "for x in range(ord('a'),ord('z')+1):\n",
    "    print(chr(x))"
   ]
  },
  {
   "cell_type": "code",
   "execution_count": 11,
   "metadata": {},
   "outputs": [
    {
     "name": "stdout",
     "output_type": "stream",
     "text": [
      "total: 210\n"
     ]
    }
   ],
   "source": [
    "sum = 0\n",
    "x = 1\n",
    "while x <= 20:\n",
    "    sum = sum + x\n",
    "    x += 1\n",
    "print(\"total:\",sum)\n"
   ]
  }
 ],
 "metadata": {
  "kernelspec": {
   "display_name": "Python 3",
   "language": "python",
   "name": "python3"
  },
  "language_info": {
   "codemirror_mode": {
    "name": "ipython",
    "version": 3
   },
   "file_extension": ".py",
   "mimetype": "text/x-python",
   "name": "python",
   "nbconvert_exporter": "python",
   "pygments_lexer": "ipython3",
   "version": "3.7.6"
  }
 },
 "nbformat": 4,
 "nbformat_minor": 4
}
