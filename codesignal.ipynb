{
 "cells": [
  {
   "cell_type": "code",
   "execution_count": 30,
   "metadata": {},
   "outputs": [
    {
     "name": "stdout",
     "output_type": "stream",
     "text": [
      "3\n"
     ]
    }
   ],
   "source": [
    "#10\n",
    "\n",
    "def commonCharacterCount(s1, s2):\n",
    "    l1 = [x for x in s1]\n",
    "    l2 = [y for y in s2]\n",
    "    count =0\n",
    "\n",
    "    dict1 ={a:s1.count(a) for a in s1}\n",
    "    dict2 = {b:s2.count(b) for b in s2}\n",
    "    for d1,v1 in dict1.items():\n",
    "        for d2,v2 in dict2.items():\n",
    "            if d1 == d2:\n",
    "                count = count + min(v1,v2)\n",
    "    return count\n",
    "    \n",
    "\n",
    "s1 = \"aabcc\"\n",
    "s2 = \"adcaa\"\n",
    "\n",
    "print(commonCharacterCount(s1, s2))"
   ]
  },
  {
   "cell_type": "code",
   "execution_count": 47,
   "metadata": {},
   "outputs": [
    {
     "name": "stdout",
     "output_type": "stream",
     "text": [
      "[2, 3, 9] [0, 1, 7]\n",
      "14 8\n"
     ]
    },
    {
     "data": {
      "text/plain": [
       "False"
      ]
     },
     "execution_count": 47,
     "metadata": {},
     "output_type": "execute_result"
    }
   ],
   "source": [
    "#11\n",
    "\n",
    "def isLucky(n):\n",
    "    st = str(n)\n",
    "    half_len = len(st)//2\n",
    "    \n",
    "    l1 = [int(x) for x in st[:half_len]]\n",
    "    l2 = [int(y) for y in st[half_len:]]\n",
    "    \n",
    "    if sum(l1) == sum(l2):\n",
    "        return True\n",
    "    else:\n",
    "        return False\n",
    "    \n",
    "\n",
    "#n = 1230\n",
    "n = 239017\n",
    "isLucky(n)\n"
   ]
  },
  {
   "cell_type": "code",
   "execution_count": 79,
   "metadata": {},
   "outputs": [
    {
     "name": "stdout",
     "output_type": "stream",
     "text": [
      "[-1, 150, 160, 170, -1, -1, 180, 190]\n"
     ]
    }
   ],
   "source": [
    "#12\n",
    "def sortByHeight(a):\n",
    "    l1 = [i for i,x in enumerate(a) if x == -1]\n",
    "    l2 = list(filter(lambda x:x!=-1,a))\n",
    "    l2.sort()\n",
    "    for y in l1:\n",
    "        l2.insert(y,-1)\n",
    "    print(l2)   \n",
    "\n",
    "a = [-1, 150, 190, 170, -1, -1, 160, 180]\n",
    "sortByHeight(a)"
   ]
  },
  {
   "cell_type": "code",
   "execution_count": 111,
   "metadata": {},
   "outputs": [
    {
     "name": "stdout",
     "output_type": "stream",
     "text": [
      "[4, 8] [10, 11]\n",
      "sgdj new foo(zab(rab))blim\n",
      "sgdj new foo(zab()bar)blim\n",
      "foozabbarblim\n"
     ]
    }
   ],
   "source": [
    "#13\n",
    "def reverseInParentheses(inputString):\n",
    "    l_start = [i+1 for i,x in enumerate(st) if x == '(']\n",
    "    l_end= [i-1 for i,x in enumerate(st) if x == ')']\n",
    "    count = 0\n",
    "    for i,x in enumerate(inputString):\n",
    "        if x == '(':\n",
    "            start = i\n",
    "            count += 1\n",
    "        elif x == ')':\n",
    "        \n",
    "            \n",
    "            \n",
    "            \n",
    "    l_start.sort(reverse =True)\n",
    "    rev = ''\n",
    "    print(l_start,l_end)\n",
    "\n",
    "    for l1,l2 in zip(l_start,l_end):\n",
    "            rev = inputString[l2:l1-1:-1]\n",
    "            inputString = inputString[:l1] + rev + inputString[l2+1:]\n",
    "\n",
    "            print(\"sgdj new\",inputString)\n",
    "    l = ''.join(x for x in inputString if x not in '()')\n",
    "    return l\n",
    "#             start = i\n",
    "#             l_start.append(start)\n",
    "#         elif x ==')':\n",
    "#             end = i-1\n",
    "#             l_end.append\n",
    "#             start = 0\n",
    "#             string = string + inputString[end:start:-1]\n",
    "#         string = inputString[end:start:-1]\n",
    "    \n",
    "#inputString = \"(bar)\"\n",
    "#inputString = \"foo(bar)baz\"  #\"foorabbaz\"\n",
    "#inputString = \"foo(bar)baz(blim)\"   #\"foorabbazmilb\"\n",
    "inputString = \"foo(bar(baz))blim\"   #\"foobazrabblim\"\n",
    "reverseInParentheses(inputString)\n"
   ]
  },
  {
   "cell_type": "code",
   "execution_count": 120,
   "metadata": {},
   "outputs": [
    {
     "name": "stdout",
     "output_type": "stream",
     "text": [
      "['f', 'o', 'o', '(', 'b', 'a', 'r', '(', 'b', 'a', 'z', ')', ')', 'b', 'l', 'i', 'm']\n"
     ]
    }
   ],
   "source": [
    "def reverseInParentheses(inputString):\n",
    "    l_start = [i+1 for i,x in enumerate(inputString) if x == '(']\n",
    "    l_end= [i-1 for i,x in enumerate(inputString) if x == ')']\n",
    "    l_start.sort(reverse =True)\n",
    "    rev = ''\n",
    "    print(l_start,l_end)\n",
    "\n",
    "    for l1,l2 in zip(l_start,l_end):\n",
    "            rev = inputString[l2:l1-1:-1]\n",
    "            inputString = inputString[:l1] + rev + inputString[l2+1:]\n",
    "\n",
    "            print(\"sgdj new\",inputString)\n",
    "    l = ''.join(x for x in inputString if x not in '()')\n",
    "    return l"
   ]
  },
  {
   "cell_type": "code",
   "execution_count": 14,
   "metadata": {},
   "outputs": [
    {
     "ename": "TypeError",
     "evalue": "slice indices must be integers or None or have an __index__ method",
     "output_type": "error",
     "traceback": [
      "\u001b[1;31m---------------------------------------------------------------------------\u001b[0m",
      "\u001b[1;31mTypeError\u001b[0m                                 Traceback (most recent call last)",
      "\u001b[1;32m<ipython-input-14-1aa79aebe8d0>\u001b[0m in \u001b[0;36m<module>\u001b[1;34m\u001b[0m\n\u001b[0;32m      1\u001b[0m \u001b[0ms\u001b[0m \u001b[1;33m=\u001b[0m \u001b[1;34m'foo(bar)baz'\u001b[0m\u001b[1;33m\u001b[0m\u001b[1;33m\u001b[0m\u001b[0m\n\u001b[1;32m----> 2\u001b[1;33m \u001b[0mprint\u001b[0m\u001b[1;33m(\u001b[0m\u001b[0ms\u001b[0m\u001b[1;33m[\u001b[0m\u001b[1;34m'('\u001b[0m\u001b[1;33m:\u001b[0m\u001b[1;34m')'\u001b[0m\u001b[1;33m]\u001b[0m\u001b[1;33m)\u001b[0m\u001b[1;33m\u001b[0m\u001b[1;33m\u001b[0m\u001b[0m\n\u001b[0m",
      "\u001b[1;31mTypeError\u001b[0m: slice indices must be integers or None or have an __index__ method"
     ]
    }
   ],
   "source": [
    "print"
   ]
  },
  {
   "cell_type": "code",
   "execution_count": 15,
   "metadata": {},
   "outputs": [
    {
     "name": "stdout",
     "output_type": "stream",
     "text": [
      "[0, 3, 3, 0]\n"
     ]
    },
    {
     "data": {
      "text/plain": [
       "['*****', '*abc*', '*ded*', '*****']"
      ]
     },
     "execution_count": 15,
     "metadata": {},
     "output_type": "execute_result"
    }
   ],
   "source": [
    "#14\n",
    "def addBorder(picture):\n",
    "    leng = len(picture[0]) +2\n",
    "    picture.insert(0,'')\n",
    "    picture.insert(len(picture)+2,'')\n",
    "    a = [len(y) for y in picture]\n",
    "    print(a)\n",
    "    l = [x.center(leng,'*') for x in picture]\n",
    "    return (l)\n",
    "\n",
    "    \n",
    "picture = [\"abc\",\"ded\"]\n",
    "addBorder(picture)"
   ]
  },
  {
   "cell_type": "code",
   "execution_count": 24,
   "metadata": {},
   "outputs": [
    {
     "data": {
      "text/plain": [
       "True"
      ]
     },
     "execution_count": 24,
     "metadata": {},
     "output_type": "execute_result"
    }
   ],
   "source": [
    "#15\n",
    "def areSimilar(a, b):\n",
    "    a.sort()\n",
    "    b.sort()\n",
    "    if a == b :\n",
    "        return True\n",
    "    else:\n",
    "        return False\n",
    "    \n",
    "    \n",
    "# a = [1, 2, 3] \n",
    "# b = [1, 2, 3]\n",
    "\n",
    "a = [1, 2, 3] \n",
    "b = [2, 1, 3]\n",
    "\n",
    "# a = [1, 2, 2] \n",
    "# b = [2, 1, 1]\n",
    "\n",
    "areSimilar(a, b)\n",
    "\n"
   ]
  },
  {
   "cell_type": "code",
   "execution_count": 23,
   "metadata": {},
   "outputs": [
    {
     "name": "stdout",
     "output_type": "stream",
     "text": [
      "1 1\n",
      "2 4\n",
      "3 3 2 2\n"
     ]
    }
   ],
   "source": [
    "a = [1,2,3,4]\n",
    "b = [1,4,3,2]\n",
    "\n",
    "\n",
    "if len(a) != len(b):\n",
    "    print(\"False\")\n",
    "\n",
    "if a == b:\n",
    "    print(\"True\")\n",
    "else:\n",
    "    for x,y in zip(a,b):\n",
    "        print(x,y)\n",
    "        if x != y:\n",
    "            i = b.index(a[x]) # i=3,x=1\n",
    "            print(b[x],b[i],x,i)\n",
    "            b[x],b[i] = b[i],b[x]\n",
    "            break\n",
    "\n",
    "if a == b:\n",
    "    print(\"True\")"
   ]
  },
  {
   "cell_type": "code",
   "execution_count": 5,
   "metadata": {},
   "outputs": [
    {
     "name": "stdout",
     "output_type": "stream",
     "text": [
      "[4, 2, 3]\n"
     ]
    }
   ],
   "source": [
    "a = [1,2,3]\n",
    "a[0]= 4\n",
    "print(a)"
   ]
  },
  {
   "cell_type": "code",
   "execution_count": 6,
   "metadata": {},
   "outputs": [
    {
     "name": "stdout",
     "output_type": "stream",
     "text": [
      "False\n"
     ]
    }
   ],
   "source": [
    "#19\n",
    "\n",
    "def areEquallyStrong(yourLeft, yourRight, friendsLeft, friendsRight):\n",
    "    if max(yourLeft,yourRight) == max(friendsLeft, friendsRight) and min(yourLeft,yourRight) == min(friendsLeft, friendsRight):\n",
    "        return True\n",
    "    else:\n",
    "        return False\n",
    "        \n",
    "    \n",
    "print(areEquallyStrong(10,9,15,10))"
   ]
  },
  {
   "cell_type": "code",
   "execution_count": 19,
   "metadata": {},
   "outputs": [
    {
     "name": "stdout",
     "output_type": "stream",
     "text": [
      "3\n"
     ]
    }
   ],
   "source": [
    "#20\n",
    "def arrayMaximalAdjacentDifference(inputArray):\n",
    "    maxm = 0\n",
    "    for i in range(0,len(inputArray)-1):\n",
    "        diff = abs(inputArray[i] - inputArray[i+1])\n",
    "        if diff > maxm:\n",
    "            maxm = diff\n",
    "        else:\n",
    "            pass\n",
    "    return maxm   \n",
    "print(arrayMaximalAdjacentDifference([2, 4, 1, 0]))"
   ]
  },
  {
   "cell_type": "code",
   "execution_count": null,
   "metadata": {},
   "outputs": [],
   "source": [
    "#21\n",
    "\n",
    "def isIPv4Address(inputString):\n",
    "    \n",
    "    \n",
    "print(isIPv4Address(172.16.254.1))"
   ]
  },
  {
   "cell_type": "code",
   "execution_count": null,
   "metadata": {},
   "outputs": [],
   "source": [
    "class Solution:\n",
    "    def findMaxConsecutiveOnes(self, numList):\n",
    "        for i,x in enumerate(numList):\n",
    "            if l[i+1] != 0:\n",
    "        pass\n",
    "    \n",
    "numList = [1,1,0,1,1,1]"
   ]
  }
 ],
 "metadata": {
  "kernelspec": {
   "display_name": "Python 3",
   "language": "python",
   "name": "python3"
  },
  "language_info": {
   "codemirror_mode": {
    "name": "ipython",
    "version": 3
   },
   "file_extension": ".py",
   "mimetype": "text/x-python",
   "name": "python",
   "nbconvert_exporter": "python",
   "pygments_lexer": "ipython3",
   "version": "3.7.6"
  }
 },
 "nbformat": 4,
 "nbformat_minor": 4
}
